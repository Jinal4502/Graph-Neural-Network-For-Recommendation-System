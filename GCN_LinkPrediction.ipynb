{
  "nbformat": 4,
  "nbformat_minor": 0,
  "metadata": {
    "colab": {
      "provenance": []
    },
    "kernelspec": {
      "name": "python3",
      "display_name": "Python 3"
    },
    "language_info": {
      "name": "python"
    }
  },
  "cells": [
    {
      "cell_type": "code",
      "source": [
        "pip install torch_geometric"
      ],
      "metadata": {
        "colab": {
          "base_uri": "https://localhost:8080/"
        },
        "id": "kIjFoDqpVsbG",
        "outputId": "ef2a5d45-e753-4cdd-980a-fed35f232998"
      },
      "execution_count": null,
      "outputs": [
        {
          "output_type": "stream",
          "name": "stdout",
          "text": [
            "Requirement already satisfied: torch_geometric in /usr/local/lib/python3.11/dist-packages (2.6.1)\n",
            "Requirement already satisfied: aiohttp in /usr/local/lib/python3.11/dist-packages (from torch_geometric) (3.11.15)\n",
            "Requirement already satisfied: fsspec in /usr/local/lib/python3.11/dist-packages (from torch_geometric) (2025.3.2)\n",
            "Requirement already satisfied: jinja2 in /usr/local/lib/python3.11/dist-packages (from torch_geometric) (3.1.6)\n",
            "Requirement already satisfied: numpy in /usr/local/lib/python3.11/dist-packages (from torch_geometric) (2.0.2)\n",
            "Requirement already satisfied: psutil>=5.8.0 in /usr/local/lib/python3.11/dist-packages (from torch_geometric) (5.9.5)\n",
            "Requirement already satisfied: pyparsing in /usr/local/lib/python3.11/dist-packages (from torch_geometric) (3.2.3)\n",
            "Requirement already satisfied: requests in /usr/local/lib/python3.11/dist-packages (from torch_geometric) (2.32.3)\n",
            "Requirement already satisfied: tqdm in /usr/local/lib/python3.11/dist-packages (from torch_geometric) (4.67.1)\n",
            "Requirement already satisfied: aiohappyeyeballs>=2.3.0 in /usr/local/lib/python3.11/dist-packages (from aiohttp->torch_geometric) (2.6.1)\n",
            "Requirement already satisfied: aiosignal>=1.1.2 in /usr/local/lib/python3.11/dist-packages (from aiohttp->torch_geometric) (1.3.2)\n",
            "Requirement already satisfied: attrs>=17.3.0 in /usr/local/lib/python3.11/dist-packages (from aiohttp->torch_geometric) (25.3.0)\n",
            "Requirement already satisfied: frozenlist>=1.1.1 in /usr/local/lib/python3.11/dist-packages (from aiohttp->torch_geometric) (1.5.0)\n",
            "Requirement already satisfied: multidict<7.0,>=4.5 in /usr/local/lib/python3.11/dist-packages (from aiohttp->torch_geometric) (6.4.2)\n",
            "Requirement already satisfied: propcache>=0.2.0 in /usr/local/lib/python3.11/dist-packages (from aiohttp->torch_geometric) (0.3.1)\n",
            "Requirement already satisfied: yarl<2.0,>=1.17.0 in /usr/local/lib/python3.11/dist-packages (from aiohttp->torch_geometric) (1.19.0)\n",
            "Requirement already satisfied: MarkupSafe>=2.0 in /usr/local/lib/python3.11/dist-packages (from jinja2->torch_geometric) (3.0.2)\n",
            "Requirement already satisfied: charset-normalizer<4,>=2 in /usr/local/lib/python3.11/dist-packages (from requests->torch_geometric) (3.4.1)\n",
            "Requirement already satisfied: idna<4,>=2.5 in /usr/local/lib/python3.11/dist-packages (from requests->torch_geometric) (3.10)\n",
            "Requirement already satisfied: urllib3<3,>=1.21.1 in /usr/local/lib/python3.11/dist-packages (from requests->torch_geometric) (2.3.0)\n",
            "Requirement already satisfied: certifi>=2017.4.17 in /usr/local/lib/python3.11/dist-packages (from requests->torch_geometric) (2025.1.31)\n"
          ]
        }
      ]
    },
    {
      "cell_type": "code",
      "execution_count": null,
      "metadata": {
        "id": "fbccIIkwpguk"
      },
      "outputs": [],
      "source": [
        "import pandas as pd\n",
        "import numpy as np\n",
        "import math\n",
        "import matplotlib.pyplot as plt\n",
        "import itertools\n",
        "import ast\n",
        "import pandas as pd\n",
        "import numpy as np\n",
        "import torch\n",
        "import random\n",
        "from sklearn.preprocessing import LabelEncoder\n",
        "from sklearn.metrics import roc_auc_score, average_precision_score\n",
        "from torch_geometric.data import Data\n",
        "from torch_geometric.nn import GCNConv\n",
        "import torch.nn.functional as F\n",
        "from tqdm import tqdm\n",
        "import torch.nn as nn"
      ]
    },
    {
      "cell_type": "code",
      "source": [
        "from google.colab import drive"
      ],
      "metadata": {
        "id": "01F3AKPdplYm"
      },
      "execution_count": null,
      "outputs": []
    },
    {
      "cell_type": "code",
      "source": [
        "drive.mount('/content/drive')"
      ],
      "metadata": {
        "colab": {
          "base_uri": "https://localhost:8080/"
        },
        "id": "b9tX1KhjpnbT",
        "outputId": "37428dbe-6588-46a0-b544-3fc437905939"
      },
      "execution_count": null,
      "outputs": [
        {
          "output_type": "stream",
          "name": "stdout",
          "text": [
            "Drive already mounted at /content/drive; to attempt to forcibly remount, call drive.mount(\"/content/drive\", force_remount=True).\n"
          ]
        }
      ]
    },
    {
      "cell_type": "code",
      "source": [
        "df = pd.read_csv('/content/drive/MyDrive/temp_manu.csv').drop(columns=['Unnamed: 0'])\n",
        "df"
      ],
      "metadata": {
        "colab": {
          "base_uri": "https://localhost:8080/",
          "height": 909
        },
        "id": "VtiXdz86pnb9",
        "outputId": "694ac799-f7d2-434c-b387-554252fe2d9b"
      },
      "execution_count": null,
      "outputs": [
        {
          "output_type": "execute_result",
          "data": {
            "text/plain": [
              "                        GlobalId                            Web  \\\n",
              "0        ['westindiesvalve_dhs']    ['www.westindiesvalve.com']   \n",
              "1                ['101pipe_dhs']            ['www.101pipe.com']   \n",
              "2             ['149401-us_mskg']      ['www.149401-us.all.biz']   \n",
              "3       ['1776fabrication_mskg']    ['www.1776fabrication.com']   \n",
              "4              ['1dietech_mskg']           ['www.1dietech.com']   \n",
              "...                          ...                            ...   \n",
              "14741       ['windigosigns_d&b']       ['www.windigosigns.com']   \n",
              "14742            ['xantusb_d&b']    ['www.xantusb.openfos.com']   \n",
              "14743  ['vicivisionamerica_d&b']  ['www.vicivisionamerica.com']   \n",
              "14744           ['infineon_d&b']      ['www-blue.infineon.com']   \n",
              "14745   ['westfall-technik_d&b']   ['www.westfall-technik.com']   \n",
              "\n",
              "                                                    Name Employees  \\\n",
              "0      ['WEST INDIES VALVE AND MACHINE WORK CORPORATI...     [0.0]   \n",
              "1                     ['101 VERTICAL FABRICATION, INC.']    [50.0]   \n",
              "2                                          ['149401-US']        []   \n",
              "3                                   ['1776 Fabrication']        []   \n",
              "4                                          ['1Dietech.']        []   \n",
              "...                                                  ...       ...   \n",
              "14741                                   ['windigosigns']        []   \n",
              "14742                                ['xantusb.openfos']        []   \n",
              "14743                              ['vicivisionamerica']        []   \n",
              "14744                              ['www-blue.infineon']        []   \n",
              "14745                               ['westfall-technik']        []   \n",
              "\n",
              "                                     BusinessDescription DataSource  \\\n",
              "0                                                     []    ['DHS']   \n",
              "1                                                     []    ['DHS']   \n",
              "2                                                     []   ['MSKG']   \n",
              "3                                                     []   ['MSKG']   \n",
              "4                                                     []   ['MSKG']   \n",
              "...                                                  ...        ...   \n",
              "14741  ['Windigo Signs, Inc. is primarily engaged in ...    ['D&B']   \n",
              "14742  ['Xantus Business Systems Llc is primarily eng...    ['D&B']   \n",
              "14743  ['Vicivision America Llc is primarily engaged ...    ['D&B']   \n",
              "14744  ['Infineon Technologies Americas Corp. is prim...    ['D&B']   \n",
              "14745  ['Westfall Technik, Inc. is primarily engaged ...    ['D&B']   \n",
              "\n",
              "      ContractManufacturer ProductManufacturer  \\\n",
              "0                   ['No']              ['No']   \n",
              "1                   ['No']             ['Yes']   \n",
              "2                   ['No']             ['Yes']   \n",
              "3                  ['Yes']             ['Yes']   \n",
              "4                  ['Yes']             ['Yes']   \n",
              "...                    ...                 ...   \n",
              "14741               ['No']             ['Yes']   \n",
              "14742               ['No']             ['Yes']   \n",
              "14743               ['No']             ['Yes']   \n",
              "14744                   []                  []   \n",
              "14745              ['Yes']              ['No']   \n",
              "\n",
              "                                            Industry  \\\n",
              "0                                                 []   \n",
              "1                                                 []   \n",
              "2                        ['Transportation Industry']   \n",
              "3                            ['Automotive Industry']   \n",
              "4      ['Automotive Industry', 'Furniture Industry']   \n",
              "...                                              ...   \n",
              "14741                                   ['Aluminum']   \n",
              "14742                                             []   \n",
              "14743                                             []   \n",
              "14744               ['Concrete', 'Lead', 'Titanium']   \n",
              "14745                                       ['Lead']   \n",
              "\n",
              "                    Certification  ...                  City  \\\n",
              "0            ['ASME Certificate']  ...          ['Penuelas']   \n",
              "1                              []  ...           ['Fontana']   \n",
              "2        ['ISO 9001 Certificate']  ...                    []   \n",
              "3                              []  ...                    []   \n",
              "4      ['IATF 16949 Certificate']  ...        ['Carrollton']   \n",
              "...                           ...  ...                   ...   \n",
              "14741                          []  ...             ['Tempe']   \n",
              "14742                          []  ...      ['Sierra Vista']   \n",
              "14743                          []  ...        ['Scottsdale']   \n",
              "14744                          []  ...  ['Mesa', 'Chandler']   \n",
              "14745                          []  ...             ['Tempe']   \n",
              "\n",
              "                   County           State Zip      Latitude       Longitude  \\\n",
              "0            ['Penuelas']          ['PR']  []  [18.0054364]   [-66.7276429]   \n",
              "1      ['San Bernardino']  ['California']  []  [34.0677902]  [-117.4708951]   \n",
              "2                      []              []  []            []              []   \n",
              "3                      []              []  []            []              []   \n",
              "4                      []     ['Georgia']  []   [33.566767]    [-85.078863]   \n",
              "...                   ...             ...  ..           ...             ...   \n",
              "14741        ['Maricopa']     ['Arizona']  []            []              []   \n",
              "14742         ['Cochise']     ['Arizona']  []            []              []   \n",
              "14743        ['Maricopa']     ['Arizona']  []            []              []   \n",
              "14744        ['Maricopa']     ['Arizona']  []            []              []   \n",
              "14745        ['Maricopa']     ['Arizona']  []            []              []   \n",
              "\n",
              "                                      Phone                 Fax   NAICSCode  \\\n",
              "0                        ['(787) 836-1707']   ['NOT AVAILABLE']  [332919.0]   \n",
              "1                        ['(909) 428-6000']  ['(909) 428-4535']  [332996.0]   \n",
              "2                                        []                  []          []   \n",
              "3                                        []                  []          []   \n",
              "4                                        []                  []          []   \n",
              "...                                     ...                 ...         ...   \n",
              "14741                    ['1-844-946-3446']                  []  [339950.0]   \n",
              "14742                    ['1-520-459-7809']                  []  [323111.0]   \n",
              "14743                    ['1-480-212-5172']                  []  [333310.0]   \n",
              "14744  ['1-480-655-7701', '1-480-627-5700']                  []  [334413.0]   \n",
              "14745                    ['1-702-659-9898']                  []  [325211.0]   \n",
              "\n",
              "                                        NAICSDescription  \n",
              "0      ['OTHER METAL VALVE AND PIPE FITTING MANUFACTU...  \n",
              "1      ['FABRICATED PIPE AND PIPE FITTING MANUFACTURI...  \n",
              "2                                                     []  \n",
              "3                                                     []  \n",
              "4                                                     []  \n",
              "...                                                  ...  \n",
              "14741                             ['Sign Manufacturing']  \n",
              "14742  ['Commercial Printing (except Screen and Books)']  \n",
              "14743  ['Commercial and Service Industry Machinery Ma...  \n",
              "14744  ['Semiconductor and Related Device Manufacturi...  \n",
              "14745      ['Plastics Material and Resin Manufacturing']  \n",
              "\n",
              "[14746 rows x 25 columns]"
            ],
            "text/html": [
              "\n",
              "  <div id=\"df-4dc13c66-efcb-4fca-87fd-3dd67ceb8108\" class=\"colab-df-container\">\n",
              "    <div>\n",
              "<style scoped>\n",
              "    .dataframe tbody tr th:only-of-type {\n",
              "        vertical-align: middle;\n",
              "    }\n",
              "\n",
              "    .dataframe tbody tr th {\n",
              "        vertical-align: top;\n",
              "    }\n",
              "\n",
              "    .dataframe thead th {\n",
              "        text-align: right;\n",
              "    }\n",
              "</style>\n",
              "<table border=\"1\" class=\"dataframe\">\n",
              "  <thead>\n",
              "    <tr style=\"text-align: right;\">\n",
              "      <th></th>\n",
              "      <th>GlobalId</th>\n",
              "      <th>Web</th>\n",
              "      <th>Name</th>\n",
              "      <th>Employees</th>\n",
              "      <th>BusinessDescription</th>\n",
              "      <th>DataSource</th>\n",
              "      <th>ContractManufacturer</th>\n",
              "      <th>ProductManufacturer</th>\n",
              "      <th>Industry</th>\n",
              "      <th>Certification</th>\n",
              "      <th>...</th>\n",
              "      <th>City</th>\n",
              "      <th>County</th>\n",
              "      <th>State</th>\n",
              "      <th>Zip</th>\n",
              "      <th>Latitude</th>\n",
              "      <th>Longitude</th>\n",
              "      <th>Phone</th>\n",
              "      <th>Fax</th>\n",
              "      <th>NAICSCode</th>\n",
              "      <th>NAICSDescription</th>\n",
              "    </tr>\n",
              "  </thead>\n",
              "  <tbody>\n",
              "    <tr>\n",
              "      <th>0</th>\n",
              "      <td>['westindiesvalve_dhs']</td>\n",
              "      <td>['www.westindiesvalve.com']</td>\n",
              "      <td>['WEST INDIES VALVE AND MACHINE WORK CORPORATI...</td>\n",
              "      <td>[0.0]</td>\n",
              "      <td>[]</td>\n",
              "      <td>['DHS']</td>\n",
              "      <td>['No']</td>\n",
              "      <td>['No']</td>\n",
              "      <td>[]</td>\n",
              "      <td>['ASME Certificate']</td>\n",
              "      <td>...</td>\n",
              "      <td>['Penuelas']</td>\n",
              "      <td>['Penuelas']</td>\n",
              "      <td>['PR']</td>\n",
              "      <td>[]</td>\n",
              "      <td>[18.0054364]</td>\n",
              "      <td>[-66.7276429]</td>\n",
              "      <td>['(787) 836-1707']</td>\n",
              "      <td>['NOT AVAILABLE']</td>\n",
              "      <td>[332919.0]</td>\n",
              "      <td>['OTHER METAL VALVE AND PIPE FITTING MANUFACTU...</td>\n",
              "    </tr>\n",
              "    <tr>\n",
              "      <th>1</th>\n",
              "      <td>['101pipe_dhs']</td>\n",
              "      <td>['www.101pipe.com']</td>\n",
              "      <td>['101 VERTICAL FABRICATION, INC.']</td>\n",
              "      <td>[50.0]</td>\n",
              "      <td>[]</td>\n",
              "      <td>['DHS']</td>\n",
              "      <td>['No']</td>\n",
              "      <td>['Yes']</td>\n",
              "      <td>[]</td>\n",
              "      <td>[]</td>\n",
              "      <td>...</td>\n",
              "      <td>['Fontana']</td>\n",
              "      <td>['San Bernardino']</td>\n",
              "      <td>['California']</td>\n",
              "      <td>[]</td>\n",
              "      <td>[34.0677902]</td>\n",
              "      <td>[-117.4708951]</td>\n",
              "      <td>['(909) 428-6000']</td>\n",
              "      <td>['(909) 428-4535']</td>\n",
              "      <td>[332996.0]</td>\n",
              "      <td>['FABRICATED PIPE AND PIPE FITTING MANUFACTURI...</td>\n",
              "    </tr>\n",
              "    <tr>\n",
              "      <th>2</th>\n",
              "      <td>['149401-us_mskg']</td>\n",
              "      <td>['www.149401-us.all.biz']</td>\n",
              "      <td>['149401-US']</td>\n",
              "      <td>[]</td>\n",
              "      <td>[]</td>\n",
              "      <td>['MSKG']</td>\n",
              "      <td>['No']</td>\n",
              "      <td>['Yes']</td>\n",
              "      <td>['Transportation Industry']</td>\n",
              "      <td>['ISO 9001 Certificate']</td>\n",
              "      <td>...</td>\n",
              "      <td>[]</td>\n",
              "      <td>[]</td>\n",
              "      <td>[]</td>\n",
              "      <td>[]</td>\n",
              "      <td>[]</td>\n",
              "      <td>[]</td>\n",
              "      <td>[]</td>\n",
              "      <td>[]</td>\n",
              "      <td>[]</td>\n",
              "      <td>[]</td>\n",
              "    </tr>\n",
              "    <tr>\n",
              "      <th>3</th>\n",
              "      <td>['1776fabrication_mskg']</td>\n",
              "      <td>['www.1776fabrication.com']</td>\n",
              "      <td>['1776 Fabrication']</td>\n",
              "      <td>[]</td>\n",
              "      <td>[]</td>\n",
              "      <td>['MSKG']</td>\n",
              "      <td>['Yes']</td>\n",
              "      <td>['Yes']</td>\n",
              "      <td>['Automotive Industry']</td>\n",
              "      <td>[]</td>\n",
              "      <td>...</td>\n",
              "      <td>[]</td>\n",
              "      <td>[]</td>\n",
              "      <td>[]</td>\n",
              "      <td>[]</td>\n",
              "      <td>[]</td>\n",
              "      <td>[]</td>\n",
              "      <td>[]</td>\n",
              "      <td>[]</td>\n",
              "      <td>[]</td>\n",
              "      <td>[]</td>\n",
              "    </tr>\n",
              "    <tr>\n",
              "      <th>4</th>\n",
              "      <td>['1dietech_mskg']</td>\n",
              "      <td>['www.1dietech.com']</td>\n",
              "      <td>['1Dietech.']</td>\n",
              "      <td>[]</td>\n",
              "      <td>[]</td>\n",
              "      <td>['MSKG']</td>\n",
              "      <td>['Yes']</td>\n",
              "      <td>['Yes']</td>\n",
              "      <td>['Automotive Industry', 'Furniture Industry']</td>\n",
              "      <td>['IATF 16949 Certificate']</td>\n",
              "      <td>...</td>\n",
              "      <td>['Carrollton']</td>\n",
              "      <td>[]</td>\n",
              "      <td>['Georgia']</td>\n",
              "      <td>[]</td>\n",
              "      <td>[33.566767]</td>\n",
              "      <td>[-85.078863]</td>\n",
              "      <td>[]</td>\n",
              "      <td>[]</td>\n",
              "      <td>[]</td>\n",
              "      <td>[]</td>\n",
              "    </tr>\n",
              "    <tr>\n",
              "      <th>...</th>\n",
              "      <td>...</td>\n",
              "      <td>...</td>\n",
              "      <td>...</td>\n",
              "      <td>...</td>\n",
              "      <td>...</td>\n",
              "      <td>...</td>\n",
              "      <td>...</td>\n",
              "      <td>...</td>\n",
              "      <td>...</td>\n",
              "      <td>...</td>\n",
              "      <td>...</td>\n",
              "      <td>...</td>\n",
              "      <td>...</td>\n",
              "      <td>...</td>\n",
              "      <td>...</td>\n",
              "      <td>...</td>\n",
              "      <td>...</td>\n",
              "      <td>...</td>\n",
              "      <td>...</td>\n",
              "      <td>...</td>\n",
              "      <td>...</td>\n",
              "    </tr>\n",
              "    <tr>\n",
              "      <th>14741</th>\n",
              "      <td>['windigosigns_d&amp;b']</td>\n",
              "      <td>['www.windigosigns.com']</td>\n",
              "      <td>['windigosigns']</td>\n",
              "      <td>[]</td>\n",
              "      <td>['Windigo Signs, Inc. is primarily engaged in ...</td>\n",
              "      <td>['D&amp;B']</td>\n",
              "      <td>['No']</td>\n",
              "      <td>['Yes']</td>\n",
              "      <td>['Aluminum']</td>\n",
              "      <td>[]</td>\n",
              "      <td>...</td>\n",
              "      <td>['Tempe']</td>\n",
              "      <td>['Maricopa']</td>\n",
              "      <td>['Arizona']</td>\n",
              "      <td>[]</td>\n",
              "      <td>[]</td>\n",
              "      <td>[]</td>\n",
              "      <td>['1-844-946-3446']</td>\n",
              "      <td>[]</td>\n",
              "      <td>[339950.0]</td>\n",
              "      <td>['Sign Manufacturing']</td>\n",
              "    </tr>\n",
              "    <tr>\n",
              "      <th>14742</th>\n",
              "      <td>['xantusb_d&amp;b']</td>\n",
              "      <td>['www.xantusb.openfos.com']</td>\n",
              "      <td>['xantusb.openfos']</td>\n",
              "      <td>[]</td>\n",
              "      <td>['Xantus Business Systems Llc is primarily eng...</td>\n",
              "      <td>['D&amp;B']</td>\n",
              "      <td>['No']</td>\n",
              "      <td>['Yes']</td>\n",
              "      <td>[]</td>\n",
              "      <td>[]</td>\n",
              "      <td>...</td>\n",
              "      <td>['Sierra Vista']</td>\n",
              "      <td>['Cochise']</td>\n",
              "      <td>['Arizona']</td>\n",
              "      <td>[]</td>\n",
              "      <td>[]</td>\n",
              "      <td>[]</td>\n",
              "      <td>['1-520-459-7809']</td>\n",
              "      <td>[]</td>\n",
              "      <td>[323111.0]</td>\n",
              "      <td>['Commercial Printing (except Screen and Books)']</td>\n",
              "    </tr>\n",
              "    <tr>\n",
              "      <th>14743</th>\n",
              "      <td>['vicivisionamerica_d&amp;b']</td>\n",
              "      <td>['www.vicivisionamerica.com']</td>\n",
              "      <td>['vicivisionamerica']</td>\n",
              "      <td>[]</td>\n",
              "      <td>['Vicivision America Llc is primarily engaged ...</td>\n",
              "      <td>['D&amp;B']</td>\n",
              "      <td>['No']</td>\n",
              "      <td>['Yes']</td>\n",
              "      <td>[]</td>\n",
              "      <td>[]</td>\n",
              "      <td>...</td>\n",
              "      <td>['Scottsdale']</td>\n",
              "      <td>['Maricopa']</td>\n",
              "      <td>['Arizona']</td>\n",
              "      <td>[]</td>\n",
              "      <td>[]</td>\n",
              "      <td>[]</td>\n",
              "      <td>['1-480-212-5172']</td>\n",
              "      <td>[]</td>\n",
              "      <td>[333310.0]</td>\n",
              "      <td>['Commercial and Service Industry Machinery Ma...</td>\n",
              "    </tr>\n",
              "    <tr>\n",
              "      <th>14744</th>\n",
              "      <td>['infineon_d&amp;b']</td>\n",
              "      <td>['www-blue.infineon.com']</td>\n",
              "      <td>['www-blue.infineon']</td>\n",
              "      <td>[]</td>\n",
              "      <td>['Infineon Technologies Americas Corp. is prim...</td>\n",
              "      <td>['D&amp;B']</td>\n",
              "      <td>[]</td>\n",
              "      <td>[]</td>\n",
              "      <td>['Concrete', 'Lead', 'Titanium']</td>\n",
              "      <td>[]</td>\n",
              "      <td>...</td>\n",
              "      <td>['Mesa', 'Chandler']</td>\n",
              "      <td>['Maricopa']</td>\n",
              "      <td>['Arizona']</td>\n",
              "      <td>[]</td>\n",
              "      <td>[]</td>\n",
              "      <td>[]</td>\n",
              "      <td>['1-480-655-7701', '1-480-627-5700']</td>\n",
              "      <td>[]</td>\n",
              "      <td>[334413.0]</td>\n",
              "      <td>['Semiconductor and Related Device Manufacturi...</td>\n",
              "    </tr>\n",
              "    <tr>\n",
              "      <th>14745</th>\n",
              "      <td>['westfall-technik_d&amp;b']</td>\n",
              "      <td>['www.westfall-technik.com']</td>\n",
              "      <td>['westfall-technik']</td>\n",
              "      <td>[]</td>\n",
              "      <td>['Westfall Technik, Inc. is primarily engaged ...</td>\n",
              "      <td>['D&amp;B']</td>\n",
              "      <td>['Yes']</td>\n",
              "      <td>['No']</td>\n",
              "      <td>['Lead']</td>\n",
              "      <td>[]</td>\n",
              "      <td>...</td>\n",
              "      <td>['Tempe']</td>\n",
              "      <td>['Maricopa']</td>\n",
              "      <td>['Arizona']</td>\n",
              "      <td>[]</td>\n",
              "      <td>[]</td>\n",
              "      <td>[]</td>\n",
              "      <td>['1-702-659-9898']</td>\n",
              "      <td>[]</td>\n",
              "      <td>[325211.0]</td>\n",
              "      <td>['Plastics Material and Resin Manufacturing']</td>\n",
              "    </tr>\n",
              "  </tbody>\n",
              "</table>\n",
              "<p>14746 rows × 25 columns</p>\n",
              "</div>\n",
              "    <div class=\"colab-df-buttons\">\n",
              "\n",
              "  <div class=\"colab-df-container\">\n",
              "    <button class=\"colab-df-convert\" onclick=\"convertToInteractive('df-4dc13c66-efcb-4fca-87fd-3dd67ceb8108')\"\n",
              "            title=\"Convert this dataframe to an interactive table.\"\n",
              "            style=\"display:none;\">\n",
              "\n",
              "  <svg xmlns=\"http://www.w3.org/2000/svg\" height=\"24px\" viewBox=\"0 -960 960 960\">\n",
              "    <path d=\"M120-120v-720h720v720H120Zm60-500h600v-160H180v160Zm220 220h160v-160H400v160Zm0 220h160v-160H400v160ZM180-400h160v-160H180v160Zm440 0h160v-160H620v160ZM180-180h160v-160H180v160Zm440 0h160v-160H620v160Z\"/>\n",
              "  </svg>\n",
              "    </button>\n",
              "\n",
              "  <style>\n",
              "    .colab-df-container {\n",
              "      display:flex;\n",
              "      gap: 12px;\n",
              "    }\n",
              "\n",
              "    .colab-df-convert {\n",
              "      background-color: #E8F0FE;\n",
              "      border: none;\n",
              "      border-radius: 50%;\n",
              "      cursor: pointer;\n",
              "      display: none;\n",
              "      fill: #1967D2;\n",
              "      height: 32px;\n",
              "      padding: 0 0 0 0;\n",
              "      width: 32px;\n",
              "    }\n",
              "\n",
              "    .colab-df-convert:hover {\n",
              "      background-color: #E2EBFA;\n",
              "      box-shadow: 0px 1px 2px rgba(60, 64, 67, 0.3), 0px 1px 3px 1px rgba(60, 64, 67, 0.15);\n",
              "      fill: #174EA6;\n",
              "    }\n",
              "\n",
              "    .colab-df-buttons div {\n",
              "      margin-bottom: 4px;\n",
              "    }\n",
              "\n",
              "    [theme=dark] .colab-df-convert {\n",
              "      background-color: #3B4455;\n",
              "      fill: #D2E3FC;\n",
              "    }\n",
              "\n",
              "    [theme=dark] .colab-df-convert:hover {\n",
              "      background-color: #434B5C;\n",
              "      box-shadow: 0px 1px 3px 1px rgba(0, 0, 0, 0.15);\n",
              "      filter: drop-shadow(0px 1px 2px rgba(0, 0, 0, 0.3));\n",
              "      fill: #FFFFFF;\n",
              "    }\n",
              "  </style>\n",
              "\n",
              "    <script>\n",
              "      const buttonEl =\n",
              "        document.querySelector('#df-4dc13c66-efcb-4fca-87fd-3dd67ceb8108 button.colab-df-convert');\n",
              "      buttonEl.style.display =\n",
              "        google.colab.kernel.accessAllowed ? 'block' : 'none';\n",
              "\n",
              "      async function convertToInteractive(key) {\n",
              "        const element = document.querySelector('#df-4dc13c66-efcb-4fca-87fd-3dd67ceb8108');\n",
              "        const dataTable =\n",
              "          await google.colab.kernel.invokeFunction('convertToInteractive',\n",
              "                                                    [key], {});\n",
              "        if (!dataTable) return;\n",
              "\n",
              "        const docLinkHtml = 'Like what you see? Visit the ' +\n",
              "          '<a target=\"_blank\" href=https://colab.research.google.com/notebooks/data_table.ipynb>data table notebook</a>'\n",
              "          + ' to learn more about interactive tables.';\n",
              "        element.innerHTML = '';\n",
              "        dataTable['output_type'] = 'display_data';\n",
              "        await google.colab.output.renderOutput(dataTable, element);\n",
              "        const docLink = document.createElement('div');\n",
              "        docLink.innerHTML = docLinkHtml;\n",
              "        element.appendChild(docLink);\n",
              "      }\n",
              "    </script>\n",
              "  </div>\n",
              "\n",
              "\n",
              "<div id=\"df-414a0b27-6cfe-48eb-8732-251b40fe7a71\">\n",
              "  <button class=\"colab-df-quickchart\" onclick=\"quickchart('df-414a0b27-6cfe-48eb-8732-251b40fe7a71')\"\n",
              "            title=\"Suggest charts\"\n",
              "            style=\"display:none;\">\n",
              "\n",
              "<svg xmlns=\"http://www.w3.org/2000/svg\" height=\"24px\"viewBox=\"0 0 24 24\"\n",
              "     width=\"24px\">\n",
              "    <g>\n",
              "        <path d=\"M19 3H5c-1.1 0-2 .9-2 2v14c0 1.1.9 2 2 2h14c1.1 0 2-.9 2-2V5c0-1.1-.9-2-2-2zM9 17H7v-7h2v7zm4 0h-2V7h2v10zm4 0h-2v-4h2v4z\"/>\n",
              "    </g>\n",
              "</svg>\n",
              "  </button>\n",
              "\n",
              "<style>\n",
              "  .colab-df-quickchart {\n",
              "      --bg-color: #E8F0FE;\n",
              "      --fill-color: #1967D2;\n",
              "      --hover-bg-color: #E2EBFA;\n",
              "      --hover-fill-color: #174EA6;\n",
              "      --disabled-fill-color: #AAA;\n",
              "      --disabled-bg-color: #DDD;\n",
              "  }\n",
              "\n",
              "  [theme=dark] .colab-df-quickchart {\n",
              "      --bg-color: #3B4455;\n",
              "      --fill-color: #D2E3FC;\n",
              "      --hover-bg-color: #434B5C;\n",
              "      --hover-fill-color: #FFFFFF;\n",
              "      --disabled-bg-color: #3B4455;\n",
              "      --disabled-fill-color: #666;\n",
              "  }\n",
              "\n",
              "  .colab-df-quickchart {\n",
              "    background-color: var(--bg-color);\n",
              "    border: none;\n",
              "    border-radius: 50%;\n",
              "    cursor: pointer;\n",
              "    display: none;\n",
              "    fill: var(--fill-color);\n",
              "    height: 32px;\n",
              "    padding: 0;\n",
              "    width: 32px;\n",
              "  }\n",
              "\n",
              "  .colab-df-quickchart:hover {\n",
              "    background-color: var(--hover-bg-color);\n",
              "    box-shadow: 0 1px 2px rgba(60, 64, 67, 0.3), 0 1px 3px 1px rgba(60, 64, 67, 0.15);\n",
              "    fill: var(--button-hover-fill-color);\n",
              "  }\n",
              "\n",
              "  .colab-df-quickchart-complete:disabled,\n",
              "  .colab-df-quickchart-complete:disabled:hover {\n",
              "    background-color: var(--disabled-bg-color);\n",
              "    fill: var(--disabled-fill-color);\n",
              "    box-shadow: none;\n",
              "  }\n",
              "\n",
              "  .colab-df-spinner {\n",
              "    border: 2px solid var(--fill-color);\n",
              "    border-color: transparent;\n",
              "    border-bottom-color: var(--fill-color);\n",
              "    animation:\n",
              "      spin 1s steps(1) infinite;\n",
              "  }\n",
              "\n",
              "  @keyframes spin {\n",
              "    0% {\n",
              "      border-color: transparent;\n",
              "      border-bottom-color: var(--fill-color);\n",
              "      border-left-color: var(--fill-color);\n",
              "    }\n",
              "    20% {\n",
              "      border-color: transparent;\n",
              "      border-left-color: var(--fill-color);\n",
              "      border-top-color: var(--fill-color);\n",
              "    }\n",
              "    30% {\n",
              "      border-color: transparent;\n",
              "      border-left-color: var(--fill-color);\n",
              "      border-top-color: var(--fill-color);\n",
              "      border-right-color: var(--fill-color);\n",
              "    }\n",
              "    40% {\n",
              "      border-color: transparent;\n",
              "      border-right-color: var(--fill-color);\n",
              "      border-top-color: var(--fill-color);\n",
              "    }\n",
              "    60% {\n",
              "      border-color: transparent;\n",
              "      border-right-color: var(--fill-color);\n",
              "    }\n",
              "    80% {\n",
              "      border-color: transparent;\n",
              "      border-right-color: var(--fill-color);\n",
              "      border-bottom-color: var(--fill-color);\n",
              "    }\n",
              "    90% {\n",
              "      border-color: transparent;\n",
              "      border-bottom-color: var(--fill-color);\n",
              "    }\n",
              "  }\n",
              "</style>\n",
              "\n",
              "  <script>\n",
              "    async function quickchart(key) {\n",
              "      const quickchartButtonEl =\n",
              "        document.querySelector('#' + key + ' button');\n",
              "      quickchartButtonEl.disabled = true;  // To prevent multiple clicks.\n",
              "      quickchartButtonEl.classList.add('colab-df-spinner');\n",
              "      try {\n",
              "        const charts = await google.colab.kernel.invokeFunction(\n",
              "            'suggestCharts', [key], {});\n",
              "      } catch (error) {\n",
              "        console.error('Error during call to suggestCharts:', error);\n",
              "      }\n",
              "      quickchartButtonEl.classList.remove('colab-df-spinner');\n",
              "      quickchartButtonEl.classList.add('colab-df-quickchart-complete');\n",
              "    }\n",
              "    (() => {\n",
              "      let quickchartButtonEl =\n",
              "        document.querySelector('#df-414a0b27-6cfe-48eb-8732-251b40fe7a71 button');\n",
              "      quickchartButtonEl.style.display =\n",
              "        google.colab.kernel.accessAllowed ? 'block' : 'none';\n",
              "    })();\n",
              "  </script>\n",
              "</div>\n",
              "\n",
              "  <div id=\"id_68bce9b0-3521-42a6-888a-d5036304403e\">\n",
              "    <style>\n",
              "      .colab-df-generate {\n",
              "        background-color: #E8F0FE;\n",
              "        border: none;\n",
              "        border-radius: 50%;\n",
              "        cursor: pointer;\n",
              "        display: none;\n",
              "        fill: #1967D2;\n",
              "        height: 32px;\n",
              "        padding: 0 0 0 0;\n",
              "        width: 32px;\n",
              "      }\n",
              "\n",
              "      .colab-df-generate:hover {\n",
              "        background-color: #E2EBFA;\n",
              "        box-shadow: 0px 1px 2px rgba(60, 64, 67, 0.3), 0px 1px 3px 1px rgba(60, 64, 67, 0.15);\n",
              "        fill: #174EA6;\n",
              "      }\n",
              "\n",
              "      [theme=dark] .colab-df-generate {\n",
              "        background-color: #3B4455;\n",
              "        fill: #D2E3FC;\n",
              "      }\n",
              "\n",
              "      [theme=dark] .colab-df-generate:hover {\n",
              "        background-color: #434B5C;\n",
              "        box-shadow: 0px 1px 3px 1px rgba(0, 0, 0, 0.15);\n",
              "        filter: drop-shadow(0px 1px 2px rgba(0, 0, 0, 0.3));\n",
              "        fill: #FFFFFF;\n",
              "      }\n",
              "    </style>\n",
              "    <button class=\"colab-df-generate\" onclick=\"generateWithVariable('df')\"\n",
              "            title=\"Generate code using this dataframe.\"\n",
              "            style=\"display:none;\">\n",
              "\n",
              "  <svg xmlns=\"http://www.w3.org/2000/svg\" height=\"24px\"viewBox=\"0 0 24 24\"\n",
              "       width=\"24px\">\n",
              "    <path d=\"M7,19H8.4L18.45,9,17,7.55,7,17.6ZM5,21V16.75L18.45,3.32a2,2,0,0,1,2.83,0l1.4,1.43a1.91,1.91,0,0,1,.58,1.4,1.91,1.91,0,0,1-.58,1.4L9.25,21ZM18.45,9,17,7.55Zm-12,3A5.31,5.31,0,0,0,4.9,8.1,5.31,5.31,0,0,0,1,6.5,5.31,5.31,0,0,0,4.9,4.9,5.31,5.31,0,0,0,6.5,1,5.31,5.31,0,0,0,8.1,4.9,5.31,5.31,0,0,0,12,6.5,5.46,5.46,0,0,0,6.5,12Z\"/>\n",
              "  </svg>\n",
              "    </button>\n",
              "    <script>\n",
              "      (() => {\n",
              "      const buttonEl =\n",
              "        document.querySelector('#id_68bce9b0-3521-42a6-888a-d5036304403e button.colab-df-generate');\n",
              "      buttonEl.style.display =\n",
              "        google.colab.kernel.accessAllowed ? 'block' : 'none';\n",
              "\n",
              "      buttonEl.onclick = () => {\n",
              "        google.colab.notebook.generateWithVariable('df');\n",
              "      }\n",
              "      })();\n",
              "    </script>\n",
              "  </div>\n",
              "\n",
              "    </div>\n",
              "  </div>\n"
            ],
            "application/vnd.google.colaboratory.intrinsic+json": {
              "type": "dataframe",
              "variable_name": "df"
            }
          },
          "metadata": {},
          "execution_count": 6
        }
      ]
    },
    {
      "cell_type": "code",
      "source": [
        "df = df[['GlobalId', 'ProcessCapability']]\n",
        "df"
      ],
      "metadata": {
        "colab": {
          "base_uri": "https://localhost:8080/",
          "height": 411
        },
        "id": "kT9gLHL0pnd7",
        "outputId": "c2d7a2df-b17e-47db-f969-4ad2de679e74"
      },
      "execution_count": null,
      "outputs": [
        {
          "output_type": "execute_result",
          "data": {
            "text/plain": [
              "                        GlobalId  \\\n",
              "0        ['westindiesvalve_dhs']   \n",
              "1                ['101pipe_dhs']   \n",
              "2             ['149401-us_mskg']   \n",
              "3       ['1776fabrication_mskg']   \n",
              "4              ['1dietech_mskg']   \n",
              "...                          ...   \n",
              "14741       ['windigosigns_d&b']   \n",
              "14742            ['xantusb_d&b']   \n",
              "14743  ['vicivisionamerica_d&b']   \n",
              "14744           ['infineon_d&b']   \n",
              "14745   ['westfall-technik_d&b']   \n",
              "\n",
              "                                       ProcessCapability  \n",
              "0                                                     []  \n",
              "1                                                     []  \n",
              "2                                                     []  \n",
              "3      ['Forming Capability', 'Machining Capability',...  \n",
              "4      ['Forming Capability', 'Laser Cutting Capabili...  \n",
              "...                                                  ...  \n",
              "14741                                                 []  \n",
              "14742                                                 []  \n",
              "14743                                                 []  \n",
              "14744                                                 []  \n",
              "14745  ['Prototyping Low-Volume', 'Prototyping High-V...  \n",
              "\n",
              "[14746 rows x 2 columns]"
            ],
            "text/html": [
              "\n",
              "  <div id=\"df-2ce738ec-65b5-4041-ac2c-0ad84bc78cbe\" class=\"colab-df-container\">\n",
              "    <div>\n",
              "<style scoped>\n",
              "    .dataframe tbody tr th:only-of-type {\n",
              "        vertical-align: middle;\n",
              "    }\n",
              "\n",
              "    .dataframe tbody tr th {\n",
              "        vertical-align: top;\n",
              "    }\n",
              "\n",
              "    .dataframe thead th {\n",
              "        text-align: right;\n",
              "    }\n",
              "</style>\n",
              "<table border=\"1\" class=\"dataframe\">\n",
              "  <thead>\n",
              "    <tr style=\"text-align: right;\">\n",
              "      <th></th>\n",
              "      <th>GlobalId</th>\n",
              "      <th>ProcessCapability</th>\n",
              "    </tr>\n",
              "  </thead>\n",
              "  <tbody>\n",
              "    <tr>\n",
              "      <th>0</th>\n",
              "      <td>['westindiesvalve_dhs']</td>\n",
              "      <td>[]</td>\n",
              "    </tr>\n",
              "    <tr>\n",
              "      <th>1</th>\n",
              "      <td>['101pipe_dhs']</td>\n",
              "      <td>[]</td>\n",
              "    </tr>\n",
              "    <tr>\n",
              "      <th>2</th>\n",
              "      <td>['149401-us_mskg']</td>\n",
              "      <td>[]</td>\n",
              "    </tr>\n",
              "    <tr>\n",
              "      <th>3</th>\n",
              "      <td>['1776fabrication_mskg']</td>\n",
              "      <td>['Forming Capability', 'Machining Capability',...</td>\n",
              "    </tr>\n",
              "    <tr>\n",
              "      <th>4</th>\n",
              "      <td>['1dietech_mskg']</td>\n",
              "      <td>['Forming Capability', 'Laser Cutting Capabili...</td>\n",
              "    </tr>\n",
              "    <tr>\n",
              "      <th>...</th>\n",
              "      <td>...</td>\n",
              "      <td>...</td>\n",
              "    </tr>\n",
              "    <tr>\n",
              "      <th>14741</th>\n",
              "      <td>['windigosigns_d&amp;b']</td>\n",
              "      <td>[]</td>\n",
              "    </tr>\n",
              "    <tr>\n",
              "      <th>14742</th>\n",
              "      <td>['xantusb_d&amp;b']</td>\n",
              "      <td>[]</td>\n",
              "    </tr>\n",
              "    <tr>\n",
              "      <th>14743</th>\n",
              "      <td>['vicivisionamerica_d&amp;b']</td>\n",
              "      <td>[]</td>\n",
              "    </tr>\n",
              "    <tr>\n",
              "      <th>14744</th>\n",
              "      <td>['infineon_d&amp;b']</td>\n",
              "      <td>[]</td>\n",
              "    </tr>\n",
              "    <tr>\n",
              "      <th>14745</th>\n",
              "      <td>['westfall-technik_d&amp;b']</td>\n",
              "      <td>['Prototyping Low-Volume', 'Prototyping High-V...</td>\n",
              "    </tr>\n",
              "  </tbody>\n",
              "</table>\n",
              "<p>14746 rows × 2 columns</p>\n",
              "</div>\n",
              "    <div class=\"colab-df-buttons\">\n",
              "\n",
              "  <div class=\"colab-df-container\">\n",
              "    <button class=\"colab-df-convert\" onclick=\"convertToInteractive('df-2ce738ec-65b5-4041-ac2c-0ad84bc78cbe')\"\n",
              "            title=\"Convert this dataframe to an interactive table.\"\n",
              "            style=\"display:none;\">\n",
              "\n",
              "  <svg xmlns=\"http://www.w3.org/2000/svg\" height=\"24px\" viewBox=\"0 -960 960 960\">\n",
              "    <path d=\"M120-120v-720h720v720H120Zm60-500h600v-160H180v160Zm220 220h160v-160H400v160Zm0 220h160v-160H400v160ZM180-400h160v-160H180v160Zm440 0h160v-160H620v160ZM180-180h160v-160H180v160Zm440 0h160v-160H620v160Z\"/>\n",
              "  </svg>\n",
              "    </button>\n",
              "\n",
              "  <style>\n",
              "    .colab-df-container {\n",
              "      display:flex;\n",
              "      gap: 12px;\n",
              "    }\n",
              "\n",
              "    .colab-df-convert {\n",
              "      background-color: #E8F0FE;\n",
              "      border: none;\n",
              "      border-radius: 50%;\n",
              "      cursor: pointer;\n",
              "      display: none;\n",
              "      fill: #1967D2;\n",
              "      height: 32px;\n",
              "      padding: 0 0 0 0;\n",
              "      width: 32px;\n",
              "    }\n",
              "\n",
              "    .colab-df-convert:hover {\n",
              "      background-color: #E2EBFA;\n",
              "      box-shadow: 0px 1px 2px rgba(60, 64, 67, 0.3), 0px 1px 3px 1px rgba(60, 64, 67, 0.15);\n",
              "      fill: #174EA6;\n",
              "    }\n",
              "\n",
              "    .colab-df-buttons div {\n",
              "      margin-bottom: 4px;\n",
              "    }\n",
              "\n",
              "    [theme=dark] .colab-df-convert {\n",
              "      background-color: #3B4455;\n",
              "      fill: #D2E3FC;\n",
              "    }\n",
              "\n",
              "    [theme=dark] .colab-df-convert:hover {\n",
              "      background-color: #434B5C;\n",
              "      box-shadow: 0px 1px 3px 1px rgba(0, 0, 0, 0.15);\n",
              "      filter: drop-shadow(0px 1px 2px rgba(0, 0, 0, 0.3));\n",
              "      fill: #FFFFFF;\n",
              "    }\n",
              "  </style>\n",
              "\n",
              "    <script>\n",
              "      const buttonEl =\n",
              "        document.querySelector('#df-2ce738ec-65b5-4041-ac2c-0ad84bc78cbe button.colab-df-convert');\n",
              "      buttonEl.style.display =\n",
              "        google.colab.kernel.accessAllowed ? 'block' : 'none';\n",
              "\n",
              "      async function convertToInteractive(key) {\n",
              "        const element = document.querySelector('#df-2ce738ec-65b5-4041-ac2c-0ad84bc78cbe');\n",
              "        const dataTable =\n",
              "          await google.colab.kernel.invokeFunction('convertToInteractive',\n",
              "                                                    [key], {});\n",
              "        if (!dataTable) return;\n",
              "\n",
              "        const docLinkHtml = 'Like what you see? Visit the ' +\n",
              "          '<a target=\"_blank\" href=https://colab.research.google.com/notebooks/data_table.ipynb>data table notebook</a>'\n",
              "          + ' to learn more about interactive tables.';\n",
              "        element.innerHTML = '';\n",
              "        dataTable['output_type'] = 'display_data';\n",
              "        await google.colab.output.renderOutput(dataTable, element);\n",
              "        const docLink = document.createElement('div');\n",
              "        docLink.innerHTML = docLinkHtml;\n",
              "        element.appendChild(docLink);\n",
              "      }\n",
              "    </script>\n",
              "  </div>\n",
              "\n",
              "\n",
              "<div id=\"df-a7bbac1b-5133-4bfa-a4a3-2199f0e67d81\">\n",
              "  <button class=\"colab-df-quickchart\" onclick=\"quickchart('df-a7bbac1b-5133-4bfa-a4a3-2199f0e67d81')\"\n",
              "            title=\"Suggest charts\"\n",
              "            style=\"display:none;\">\n",
              "\n",
              "<svg xmlns=\"http://www.w3.org/2000/svg\" height=\"24px\"viewBox=\"0 0 24 24\"\n",
              "     width=\"24px\">\n",
              "    <g>\n",
              "        <path d=\"M19 3H5c-1.1 0-2 .9-2 2v14c0 1.1.9 2 2 2h14c1.1 0 2-.9 2-2V5c0-1.1-.9-2-2-2zM9 17H7v-7h2v7zm4 0h-2V7h2v10zm4 0h-2v-4h2v4z\"/>\n",
              "    </g>\n",
              "</svg>\n",
              "  </button>\n",
              "\n",
              "<style>\n",
              "  .colab-df-quickchart {\n",
              "      --bg-color: #E8F0FE;\n",
              "      --fill-color: #1967D2;\n",
              "      --hover-bg-color: #E2EBFA;\n",
              "      --hover-fill-color: #174EA6;\n",
              "      --disabled-fill-color: #AAA;\n",
              "      --disabled-bg-color: #DDD;\n",
              "  }\n",
              "\n",
              "  [theme=dark] .colab-df-quickchart {\n",
              "      --bg-color: #3B4455;\n",
              "      --fill-color: #D2E3FC;\n",
              "      --hover-bg-color: #434B5C;\n",
              "      --hover-fill-color: #FFFFFF;\n",
              "      --disabled-bg-color: #3B4455;\n",
              "      --disabled-fill-color: #666;\n",
              "  }\n",
              "\n",
              "  .colab-df-quickchart {\n",
              "    background-color: var(--bg-color);\n",
              "    border: none;\n",
              "    border-radius: 50%;\n",
              "    cursor: pointer;\n",
              "    display: none;\n",
              "    fill: var(--fill-color);\n",
              "    height: 32px;\n",
              "    padding: 0;\n",
              "    width: 32px;\n",
              "  }\n",
              "\n",
              "  .colab-df-quickchart:hover {\n",
              "    background-color: var(--hover-bg-color);\n",
              "    box-shadow: 0 1px 2px rgba(60, 64, 67, 0.3), 0 1px 3px 1px rgba(60, 64, 67, 0.15);\n",
              "    fill: var(--button-hover-fill-color);\n",
              "  }\n",
              "\n",
              "  .colab-df-quickchart-complete:disabled,\n",
              "  .colab-df-quickchart-complete:disabled:hover {\n",
              "    background-color: var(--disabled-bg-color);\n",
              "    fill: var(--disabled-fill-color);\n",
              "    box-shadow: none;\n",
              "  }\n",
              "\n",
              "  .colab-df-spinner {\n",
              "    border: 2px solid var(--fill-color);\n",
              "    border-color: transparent;\n",
              "    border-bottom-color: var(--fill-color);\n",
              "    animation:\n",
              "      spin 1s steps(1) infinite;\n",
              "  }\n",
              "\n",
              "  @keyframes spin {\n",
              "    0% {\n",
              "      border-color: transparent;\n",
              "      border-bottom-color: var(--fill-color);\n",
              "      border-left-color: var(--fill-color);\n",
              "    }\n",
              "    20% {\n",
              "      border-color: transparent;\n",
              "      border-left-color: var(--fill-color);\n",
              "      border-top-color: var(--fill-color);\n",
              "    }\n",
              "    30% {\n",
              "      border-color: transparent;\n",
              "      border-left-color: var(--fill-color);\n",
              "      border-top-color: var(--fill-color);\n",
              "      border-right-color: var(--fill-color);\n",
              "    }\n",
              "    40% {\n",
              "      border-color: transparent;\n",
              "      border-right-color: var(--fill-color);\n",
              "      border-top-color: var(--fill-color);\n",
              "    }\n",
              "    60% {\n",
              "      border-color: transparent;\n",
              "      border-right-color: var(--fill-color);\n",
              "    }\n",
              "    80% {\n",
              "      border-color: transparent;\n",
              "      border-right-color: var(--fill-color);\n",
              "      border-bottom-color: var(--fill-color);\n",
              "    }\n",
              "    90% {\n",
              "      border-color: transparent;\n",
              "      border-bottom-color: var(--fill-color);\n",
              "    }\n",
              "  }\n",
              "</style>\n",
              "\n",
              "  <script>\n",
              "    async function quickchart(key) {\n",
              "      const quickchartButtonEl =\n",
              "        document.querySelector('#' + key + ' button');\n",
              "      quickchartButtonEl.disabled = true;  // To prevent multiple clicks.\n",
              "      quickchartButtonEl.classList.add('colab-df-spinner');\n",
              "      try {\n",
              "        const charts = await google.colab.kernel.invokeFunction(\n",
              "            'suggestCharts', [key], {});\n",
              "      } catch (error) {\n",
              "        console.error('Error during call to suggestCharts:', error);\n",
              "      }\n",
              "      quickchartButtonEl.classList.remove('colab-df-spinner');\n",
              "      quickchartButtonEl.classList.add('colab-df-quickchart-complete');\n",
              "    }\n",
              "    (() => {\n",
              "      let quickchartButtonEl =\n",
              "        document.querySelector('#df-a7bbac1b-5133-4bfa-a4a3-2199f0e67d81 button');\n",
              "      quickchartButtonEl.style.display =\n",
              "        google.colab.kernel.accessAllowed ? 'block' : 'none';\n",
              "    })();\n",
              "  </script>\n",
              "</div>\n",
              "\n",
              "  <div id=\"id_a4a74a87-abcc-4b65-b706-a20e4c97110d\">\n",
              "    <style>\n",
              "      .colab-df-generate {\n",
              "        background-color: #E8F0FE;\n",
              "        border: none;\n",
              "        border-radius: 50%;\n",
              "        cursor: pointer;\n",
              "        display: none;\n",
              "        fill: #1967D2;\n",
              "        height: 32px;\n",
              "        padding: 0 0 0 0;\n",
              "        width: 32px;\n",
              "      }\n",
              "\n",
              "      .colab-df-generate:hover {\n",
              "        background-color: #E2EBFA;\n",
              "        box-shadow: 0px 1px 2px rgba(60, 64, 67, 0.3), 0px 1px 3px 1px rgba(60, 64, 67, 0.15);\n",
              "        fill: #174EA6;\n",
              "      }\n",
              "\n",
              "      [theme=dark] .colab-df-generate {\n",
              "        background-color: #3B4455;\n",
              "        fill: #D2E3FC;\n",
              "      }\n",
              "\n",
              "      [theme=dark] .colab-df-generate:hover {\n",
              "        background-color: #434B5C;\n",
              "        box-shadow: 0px 1px 3px 1px rgba(0, 0, 0, 0.15);\n",
              "        filter: drop-shadow(0px 1px 2px rgba(0, 0, 0, 0.3));\n",
              "        fill: #FFFFFF;\n",
              "      }\n",
              "    </style>\n",
              "    <button class=\"colab-df-generate\" onclick=\"generateWithVariable('df')\"\n",
              "            title=\"Generate code using this dataframe.\"\n",
              "            style=\"display:none;\">\n",
              "\n",
              "  <svg xmlns=\"http://www.w3.org/2000/svg\" height=\"24px\"viewBox=\"0 0 24 24\"\n",
              "       width=\"24px\">\n",
              "    <path d=\"M7,19H8.4L18.45,9,17,7.55,7,17.6ZM5,21V16.75L18.45,3.32a2,2,0,0,1,2.83,0l1.4,1.43a1.91,1.91,0,0,1,.58,1.4,1.91,1.91,0,0,1-.58,1.4L9.25,21ZM18.45,9,17,7.55Zm-12,3A5.31,5.31,0,0,0,4.9,8.1,5.31,5.31,0,0,0,1,6.5,5.31,5.31,0,0,0,4.9,4.9,5.31,5.31,0,0,0,6.5,1,5.31,5.31,0,0,0,8.1,4.9,5.31,5.31,0,0,0,12,6.5,5.46,5.46,0,0,0,6.5,12Z\"/>\n",
              "  </svg>\n",
              "    </button>\n",
              "    <script>\n",
              "      (() => {\n",
              "      const buttonEl =\n",
              "        document.querySelector('#id_a4a74a87-abcc-4b65-b706-a20e4c97110d button.colab-df-generate');\n",
              "      buttonEl.style.display =\n",
              "        google.colab.kernel.accessAllowed ? 'block' : 'none';\n",
              "\n",
              "      buttonEl.onclick = () => {\n",
              "        google.colab.notebook.generateWithVariable('df');\n",
              "      }\n",
              "      })();\n",
              "    </script>\n",
              "  </div>\n",
              "\n",
              "    </div>\n",
              "  </div>\n"
            ],
            "application/vnd.google.colaboratory.intrinsic+json": {
              "type": "dataframe",
              "variable_name": "df",
              "summary": "{\n  \"name\": \"df\",\n  \"rows\": 14746,\n  \"fields\": [\n    {\n      \"column\": \"GlobalId\",\n      \"properties\": {\n        \"dtype\": \"string\",\n        \"num_unique_values\": 14711,\n        \"samples\": [\n          \"['riecoatings_mskg']\",\n          \"['sdcinc_mskg']\",\n          \"['intercontal_mskg']\"\n        ],\n        \"semantic_type\": \"\",\n        \"description\": \"\"\n      }\n    },\n    {\n      \"column\": \"ProcessCapability\",\n      \"properties\": {\n        \"dtype\": \"category\",\n        \"num_unique_values\": 6321,\n        \"samples\": [\n          \"['Forming Capability', 'Laser Cutting Capability', 'Rolling Capability', 'Fabricating Capability', 'Drawing Capability', 'Finishing Capability', 'Drilling Capability', 'Fabricating Capability', 'Milling Capability', 'Welding Capability', 'Plasma Cutting Capability', 'Vertical Milling Capability']\",\n          \"['Grinding Capability', 'Waterjet Cutting Capability', 'Deep Hole Drilling Capability', 'Boring Capability', 'Fabricating Capability', 'Tapping Capability', 'Casting Capability', 'Extruding Capability ', 'Welding Capability', 'Milling Capability', 'Shaping Capability', 'Honing Capability', 'Drawing Capability', 'Forging Capability', 'EDM Capability', 'Drilling Capability', 'Milling Capability', 'CNC Milling Capability']\",\n          \"['Forming Capability', 'Turning Capability', 'Machining Capability', 'Drilling Capability', 'Assembly Capability', 'Milling Capability', 'CNC Machining Capability', 'CNC Milling Capability', 'Machining Capability', 'Machining Capability', 'Turning Capability', 'Turning Capability']\"\n        ],\n        \"semantic_type\": \"\",\n        \"description\": \"\"\n      }\n    }\n  ]\n}"
            }
          },
          "metadata": {},
          "execution_count": 7
        }
      ]
    },
    {
      "cell_type": "code",
      "source": [
        "df['GlobalId'].value_counts()"
      ],
      "metadata": {
        "colab": {
          "base_uri": "https://localhost:8080/",
          "height": 475
        },
        "id": "U_P_rPY4png4",
        "outputId": "079df137-e668-428c-b99e-133d10d68954"
      },
      "execution_count": null,
      "outputs": [
        {
          "output_type": "execute_result",
          "data": {
            "text/plain": [
              "GlobalId\n",
              "['net_az']                 10\n",
              "['us_az']                   4\n",
              "['us_d&b']                  4\n",
              "['shop_d&b']                3\n",
              "['hub_d&b']                 3\n",
              "                           ..\n",
              "['inland-mfg_mskg']         1\n",
              "['inlandbuildings_dhs']     1\n",
              "['inlandlakes_dhs']         1\n",
              "['inlandmetal_dhs']         1\n",
              "['indygrinds_dhs']          1\n",
              "Name: count, Length: 14711, dtype: int64"
            ],
            "text/html": [
              "<div>\n",
              "<style scoped>\n",
              "    .dataframe tbody tr th:only-of-type {\n",
              "        vertical-align: middle;\n",
              "    }\n",
              "\n",
              "    .dataframe tbody tr th {\n",
              "        vertical-align: top;\n",
              "    }\n",
              "\n",
              "    .dataframe thead th {\n",
              "        text-align: right;\n",
              "    }\n",
              "</style>\n",
              "<table border=\"1\" class=\"dataframe\">\n",
              "  <thead>\n",
              "    <tr style=\"text-align: right;\">\n",
              "      <th></th>\n",
              "      <th>count</th>\n",
              "    </tr>\n",
              "    <tr>\n",
              "      <th>GlobalId</th>\n",
              "      <th></th>\n",
              "    </tr>\n",
              "  </thead>\n",
              "  <tbody>\n",
              "    <tr>\n",
              "      <th>['net_az']</th>\n",
              "      <td>10</td>\n",
              "    </tr>\n",
              "    <tr>\n",
              "      <th>['us_az']</th>\n",
              "      <td>4</td>\n",
              "    </tr>\n",
              "    <tr>\n",
              "      <th>['us_d&amp;b']</th>\n",
              "      <td>4</td>\n",
              "    </tr>\n",
              "    <tr>\n",
              "      <th>['shop_d&amp;b']</th>\n",
              "      <td>3</td>\n",
              "    </tr>\n",
              "    <tr>\n",
              "      <th>['hub_d&amp;b']</th>\n",
              "      <td>3</td>\n",
              "    </tr>\n",
              "    <tr>\n",
              "      <th>...</th>\n",
              "      <td>...</td>\n",
              "    </tr>\n",
              "    <tr>\n",
              "      <th>['inland-mfg_mskg']</th>\n",
              "      <td>1</td>\n",
              "    </tr>\n",
              "    <tr>\n",
              "      <th>['inlandbuildings_dhs']</th>\n",
              "      <td>1</td>\n",
              "    </tr>\n",
              "    <tr>\n",
              "      <th>['inlandlakes_dhs']</th>\n",
              "      <td>1</td>\n",
              "    </tr>\n",
              "    <tr>\n",
              "      <th>['inlandmetal_dhs']</th>\n",
              "      <td>1</td>\n",
              "    </tr>\n",
              "    <tr>\n",
              "      <th>['indygrinds_dhs']</th>\n",
              "      <td>1</td>\n",
              "    </tr>\n",
              "  </tbody>\n",
              "</table>\n",
              "<p>14711 rows × 1 columns</p>\n",
              "</div><br><label><b>dtype:</b> int64</label>"
            ]
          },
          "metadata": {},
          "execution_count": 8
        }
      ]
    },
    {
      "cell_type": "markdown",
      "source": [
        "Cleans up the ProcessCapability column by turning the text '[]' into missing values and parsing all other stringified Python literals into real Python data structures"
      ],
      "metadata": {
        "id": "xQ1CR0a-Tu5O"
      }
    },
    {
      "cell_type": "code",
      "source": [
        "df['ProcessCapability'] = df['ProcessCapability'].apply(lambda x:None if x=='[]' else ast.literal_eval(x))"
      ],
      "metadata": {
        "colab": {
          "base_uri": "https://localhost:8080/"
        },
        "id": "FK1XTJ2fpnrE",
        "outputId": "ad7fdec7-1f09-4336-8530-9405c658df6d"
      },
      "execution_count": null,
      "outputs": [
        {
          "output_type": "stream",
          "name": "stderr",
          "text": [
            "<ipython-input-9-5f50d4be1623>:1: SettingWithCopyWarning: \n",
            "A value is trying to be set on a copy of a slice from a DataFrame.\n",
            "Try using .loc[row_indexer,col_indexer] = value instead\n",
            "\n",
            "See the caveats in the documentation: https://pandas.pydata.org/pandas-docs/stable/user_guide/indexing.html#returning-a-view-versus-a-copy\n",
            "  df['ProcessCapability'] = df['ProcessCapability'].apply(lambda x:None if x=='[]' else ast.literal_eval(x))\n"
          ]
        }
      ]
    },
    {
      "cell_type": "code",
      "source": [
        "sum(df['ProcessCapability'].isna())"
      ],
      "metadata": {
        "colab": {
          "base_uri": "https://localhost:8080/"
        },
        "id": "IK8leQfAN92-",
        "outputId": "4401657e-2b36-42a7-845b-28487ffcfb2e"
      },
      "execution_count": null,
      "outputs": [
        {
          "output_type": "execute_result",
          "data": {
            "text/plain": [
              "8090"
            ]
          },
          "metadata": {},
          "execution_count": 10
        }
      ]
    },
    {
      "cell_type": "code",
      "source": [
        "df.dropna(subset=['ProcessCapability'], inplace=True)\n",
        "sum(df['ProcessCapability'].isna())"
      ],
      "metadata": {
        "colab": {
          "base_uri": "https://localhost:8080/"
        },
        "id": "Jyow-tmuPbys",
        "outputId": "2d6389f6-c940-4df0-ec45-a8a9976f7612"
      },
      "execution_count": null,
      "outputs": [
        {
          "output_type": "stream",
          "name": "stderr",
          "text": [
            "<ipython-input-11-c6a827cafaf7>:1: SettingWithCopyWarning: \n",
            "A value is trying to be set on a copy of a slice from a DataFrame\n",
            "\n",
            "See the caveats in the documentation: https://pandas.pydata.org/pandas-docs/stable/user_guide/indexing.html#returning-a-view-versus-a-copy\n",
            "  df.dropna(subset=['ProcessCapability'], inplace=True)\n"
          ]
        },
        {
          "output_type": "execute_result",
          "data": {
            "text/plain": [
              "0"
            ]
          },
          "metadata": {},
          "execution_count": 11
        }
      ]
    },
    {
      "cell_type": "code",
      "source": [
        "df['ProcessCapability']"
      ],
      "metadata": {
        "colab": {
          "base_uri": "https://localhost:8080/",
          "height": 444
        },
        "id": "RO7qb8V4PnBz",
        "outputId": "9829363c-e067-4e7b-8b1d-ce2cbb58130c"
      },
      "execution_count": null,
      "outputs": [
        {
          "output_type": "execute_result",
          "data": {
            "text/plain": [
              "3        [Forming Capability, Machining Capability, Fin...\n",
              "4        [Forming Capability, Laser Cutting Capability,...\n",
              "10       [Wire EDM Capability, Boring Capability, Casti...\n",
              "11       [Grinding Capability, Etching Capability, Bori...\n",
              "13       [Additive Manufacturing Capability, Casting Ca...\n",
              "                               ...                        \n",
              "14723    [Assembly Automated, Assembly Non-Automated, T...\n",
              "14724    [Prototyping Validation, Assembly Downstream, ...\n",
              "14739    [Welding Robotic, Welding Manual, Assembly Mec...\n",
              "14740                          [Co-Packing, Purify, Treat]\n",
              "14745    [Prototyping Low-Volume, Prototyping High-Volu...\n",
              "Name: ProcessCapability, Length: 6656, dtype: object"
            ],
            "text/html": [
              "<div>\n",
              "<style scoped>\n",
              "    .dataframe tbody tr th:only-of-type {\n",
              "        vertical-align: middle;\n",
              "    }\n",
              "\n",
              "    .dataframe tbody tr th {\n",
              "        vertical-align: top;\n",
              "    }\n",
              "\n",
              "    .dataframe thead th {\n",
              "        text-align: right;\n",
              "    }\n",
              "</style>\n",
              "<table border=\"1\" class=\"dataframe\">\n",
              "  <thead>\n",
              "    <tr style=\"text-align: right;\">\n",
              "      <th></th>\n",
              "      <th>ProcessCapability</th>\n",
              "    </tr>\n",
              "  </thead>\n",
              "  <tbody>\n",
              "    <tr>\n",
              "      <th>3</th>\n",
              "      <td>[Forming Capability, Machining Capability, Fin...</td>\n",
              "    </tr>\n",
              "    <tr>\n",
              "      <th>4</th>\n",
              "      <td>[Forming Capability, Laser Cutting Capability,...</td>\n",
              "    </tr>\n",
              "    <tr>\n",
              "      <th>10</th>\n",
              "      <td>[Wire EDM Capability, Boring Capability, Casti...</td>\n",
              "    </tr>\n",
              "    <tr>\n",
              "      <th>11</th>\n",
              "      <td>[Grinding Capability, Etching Capability, Bori...</td>\n",
              "    </tr>\n",
              "    <tr>\n",
              "      <th>13</th>\n",
              "      <td>[Additive Manufacturing Capability, Casting Ca...</td>\n",
              "    </tr>\n",
              "    <tr>\n",
              "      <th>...</th>\n",
              "      <td>...</td>\n",
              "    </tr>\n",
              "    <tr>\n",
              "      <th>14723</th>\n",
              "      <td>[Assembly Automated, Assembly Non-Automated, T...</td>\n",
              "    </tr>\n",
              "    <tr>\n",
              "      <th>14724</th>\n",
              "      <td>[Prototyping Validation, Assembly Downstream, ...</td>\n",
              "    </tr>\n",
              "    <tr>\n",
              "      <th>14739</th>\n",
              "      <td>[Welding Robotic, Welding Manual, Assembly Mec...</td>\n",
              "    </tr>\n",
              "    <tr>\n",
              "      <th>14740</th>\n",
              "      <td>[Co-Packing, Purify, Treat]</td>\n",
              "    </tr>\n",
              "    <tr>\n",
              "      <th>14745</th>\n",
              "      <td>[Prototyping Low-Volume, Prototyping High-Volu...</td>\n",
              "    </tr>\n",
              "  </tbody>\n",
              "</table>\n",
              "<p>6656 rows × 1 columns</p>\n",
              "</div><br><label><b>dtype:</b> object</label>"
            ]
          },
          "metadata": {},
          "execution_count": 12
        }
      ]
    },
    {
      "cell_type": "code",
      "source": [
        "df['GlobalId']"
      ],
      "metadata": {
        "colab": {
          "base_uri": "https://localhost:8080/",
          "height": 444
        },
        "id": "hPwUnB5sP5Am",
        "outputId": "ef6c641a-1f1f-46c0-b696-caa95f573557"
      },
      "execution_count": null,
      "outputs": [
        {
          "output_type": "execute_result",
          "data": {
            "text/plain": [
              "3        ['1776fabrication_mskg']\n",
              "4               ['1dietech_mskg']\n",
              "10          ['3dimensional_mskg']\n",
              "11                ['3dmach_mskg']\n",
              "13             ['3dsystems_mskg']\n",
              "                   ...           \n",
              "14723             ['gillman_d&b']\n",
              "14724             ['accudyn_d&b']\n",
              "14739             ['wildeck_d&b']\n",
              "14740       ['whitewaternow_d&b']\n",
              "14745    ['westfall-technik_d&b']\n",
              "Name: GlobalId, Length: 6656, dtype: object"
            ],
            "text/html": [
              "<div>\n",
              "<style scoped>\n",
              "    .dataframe tbody tr th:only-of-type {\n",
              "        vertical-align: middle;\n",
              "    }\n",
              "\n",
              "    .dataframe tbody tr th {\n",
              "        vertical-align: top;\n",
              "    }\n",
              "\n",
              "    .dataframe thead th {\n",
              "        text-align: right;\n",
              "    }\n",
              "</style>\n",
              "<table border=\"1\" class=\"dataframe\">\n",
              "  <thead>\n",
              "    <tr style=\"text-align: right;\">\n",
              "      <th></th>\n",
              "      <th>GlobalId</th>\n",
              "    </tr>\n",
              "  </thead>\n",
              "  <tbody>\n",
              "    <tr>\n",
              "      <th>3</th>\n",
              "      <td>['1776fabrication_mskg']</td>\n",
              "    </tr>\n",
              "    <tr>\n",
              "      <th>4</th>\n",
              "      <td>['1dietech_mskg']</td>\n",
              "    </tr>\n",
              "    <tr>\n",
              "      <th>10</th>\n",
              "      <td>['3dimensional_mskg']</td>\n",
              "    </tr>\n",
              "    <tr>\n",
              "      <th>11</th>\n",
              "      <td>['3dmach_mskg']</td>\n",
              "    </tr>\n",
              "    <tr>\n",
              "      <th>13</th>\n",
              "      <td>['3dsystems_mskg']</td>\n",
              "    </tr>\n",
              "    <tr>\n",
              "      <th>...</th>\n",
              "      <td>...</td>\n",
              "    </tr>\n",
              "    <tr>\n",
              "      <th>14723</th>\n",
              "      <td>['gillman_d&amp;b']</td>\n",
              "    </tr>\n",
              "    <tr>\n",
              "      <th>14724</th>\n",
              "      <td>['accudyn_d&amp;b']</td>\n",
              "    </tr>\n",
              "    <tr>\n",
              "      <th>14739</th>\n",
              "      <td>['wildeck_d&amp;b']</td>\n",
              "    </tr>\n",
              "    <tr>\n",
              "      <th>14740</th>\n",
              "      <td>['whitewaternow_d&amp;b']</td>\n",
              "    </tr>\n",
              "    <tr>\n",
              "      <th>14745</th>\n",
              "      <td>['westfall-technik_d&amp;b']</td>\n",
              "    </tr>\n",
              "  </tbody>\n",
              "</table>\n",
              "<p>6656 rows × 1 columns</p>\n",
              "</div><br><label><b>dtype:</b> object</label>"
            ]
          },
          "metadata": {},
          "execution_count": 13
        }
      ]
    },
    {
      "cell_type": "markdown",
      "source": [
        "We flatten each row’s list of `ProcessCapability` values into a two-column edge list—one `(GlobalId, capability)` pair per entry—then packages the pairs into a new DataFrame `edge_df`."
      ],
      "metadata": {
        "id": "Ko1MbjCzWyMS"
      }
    },
    {
      "cell_type": "code",
      "source": [
        "edges = []\n",
        "for idx, row in df.iterrows():\n",
        "    gid = row['GlobalId']\n",
        "    capabilities = row['ProcessCapability']\n",
        "    for cap in capabilities:\n",
        "        edges.append((gid, cap))\n",
        "\n",
        "edge_df = pd.DataFrame(edges, columns=['GlobalId', 'ProcessCapability'])"
      ],
      "metadata": {
        "id": "ZshoDZBqORBD"
      },
      "execution_count": null,
      "outputs": []
    },
    {
      "cell_type": "code",
      "source": [
        "edge_df"
      ],
      "metadata": {
        "colab": {
          "base_uri": "https://localhost:8080/",
          "height": 411
        },
        "id": "KdcjFJMLP7pb",
        "outputId": "2049d68b-e72e-418d-fd2d-402a6e5d2e42"
      },
      "execution_count": null,
      "outputs": [
        {
          "output_type": "execute_result",
          "data": {
            "text/plain": [
              "                       GlobalId            ProcessCapability\n",
              "0      ['1776fabrication_mskg']           Forming Capability\n",
              "1      ['1776fabrication_mskg']         Machining Capability\n",
              "2      ['1776fabrication_mskg']         Finishing Capability\n",
              "3      ['1776fabrication_mskg']       Fabricating Capability\n",
              "4      ['1776fabrication_mskg']     CNC Machining Capability\n",
              "...                         ...                          ...\n",
              "70362  ['westfall-technik_d&b']       Prototyping Low-Volume\n",
              "70363  ['westfall-technik_d&b']      Prototyping High-Volume\n",
              "70364  ['westfall-technik_d&b']             Assembly Kitting\n",
              "70365  ['westfall-technik_d&b']  Automation Cell Engineering\n",
              "70366  ['westfall-technik_d&b']           Tooling Production\n",
              "\n",
              "[70367 rows x 2 columns]"
            ],
            "text/html": [
              "\n",
              "  <div id=\"df-4f30030c-99af-4da0-9d69-3101d9211a2e\" class=\"colab-df-container\">\n",
              "    <div>\n",
              "<style scoped>\n",
              "    .dataframe tbody tr th:only-of-type {\n",
              "        vertical-align: middle;\n",
              "    }\n",
              "\n",
              "    .dataframe tbody tr th {\n",
              "        vertical-align: top;\n",
              "    }\n",
              "\n",
              "    .dataframe thead th {\n",
              "        text-align: right;\n",
              "    }\n",
              "</style>\n",
              "<table border=\"1\" class=\"dataframe\">\n",
              "  <thead>\n",
              "    <tr style=\"text-align: right;\">\n",
              "      <th></th>\n",
              "      <th>GlobalId</th>\n",
              "      <th>ProcessCapability</th>\n",
              "    </tr>\n",
              "  </thead>\n",
              "  <tbody>\n",
              "    <tr>\n",
              "      <th>0</th>\n",
              "      <td>['1776fabrication_mskg']</td>\n",
              "      <td>Forming Capability</td>\n",
              "    </tr>\n",
              "    <tr>\n",
              "      <th>1</th>\n",
              "      <td>['1776fabrication_mskg']</td>\n",
              "      <td>Machining Capability</td>\n",
              "    </tr>\n",
              "    <tr>\n",
              "      <th>2</th>\n",
              "      <td>['1776fabrication_mskg']</td>\n",
              "      <td>Finishing Capability</td>\n",
              "    </tr>\n",
              "    <tr>\n",
              "      <th>3</th>\n",
              "      <td>['1776fabrication_mskg']</td>\n",
              "      <td>Fabricating Capability</td>\n",
              "    </tr>\n",
              "    <tr>\n",
              "      <th>4</th>\n",
              "      <td>['1776fabrication_mskg']</td>\n",
              "      <td>CNC Machining Capability</td>\n",
              "    </tr>\n",
              "    <tr>\n",
              "      <th>...</th>\n",
              "      <td>...</td>\n",
              "      <td>...</td>\n",
              "    </tr>\n",
              "    <tr>\n",
              "      <th>70362</th>\n",
              "      <td>['westfall-technik_d&amp;b']</td>\n",
              "      <td>Prototyping Low-Volume</td>\n",
              "    </tr>\n",
              "    <tr>\n",
              "      <th>70363</th>\n",
              "      <td>['westfall-technik_d&amp;b']</td>\n",
              "      <td>Prototyping High-Volume</td>\n",
              "    </tr>\n",
              "    <tr>\n",
              "      <th>70364</th>\n",
              "      <td>['westfall-technik_d&amp;b']</td>\n",
              "      <td>Assembly Kitting</td>\n",
              "    </tr>\n",
              "    <tr>\n",
              "      <th>70365</th>\n",
              "      <td>['westfall-technik_d&amp;b']</td>\n",
              "      <td>Automation Cell Engineering</td>\n",
              "    </tr>\n",
              "    <tr>\n",
              "      <th>70366</th>\n",
              "      <td>['westfall-technik_d&amp;b']</td>\n",
              "      <td>Tooling Production</td>\n",
              "    </tr>\n",
              "  </tbody>\n",
              "</table>\n",
              "<p>70367 rows × 2 columns</p>\n",
              "</div>\n",
              "    <div class=\"colab-df-buttons\">\n",
              "\n",
              "  <div class=\"colab-df-container\">\n",
              "    <button class=\"colab-df-convert\" onclick=\"convertToInteractive('df-4f30030c-99af-4da0-9d69-3101d9211a2e')\"\n",
              "            title=\"Convert this dataframe to an interactive table.\"\n",
              "            style=\"display:none;\">\n",
              "\n",
              "  <svg xmlns=\"http://www.w3.org/2000/svg\" height=\"24px\" viewBox=\"0 -960 960 960\">\n",
              "    <path d=\"M120-120v-720h720v720H120Zm60-500h600v-160H180v160Zm220 220h160v-160H400v160Zm0 220h160v-160H400v160ZM180-400h160v-160H180v160Zm440 0h160v-160H620v160ZM180-180h160v-160H180v160Zm440 0h160v-160H620v160Z\"/>\n",
              "  </svg>\n",
              "    </button>\n",
              "\n",
              "  <style>\n",
              "    .colab-df-container {\n",
              "      display:flex;\n",
              "      gap: 12px;\n",
              "    }\n",
              "\n",
              "    .colab-df-convert {\n",
              "      background-color: #E8F0FE;\n",
              "      border: none;\n",
              "      border-radius: 50%;\n",
              "      cursor: pointer;\n",
              "      display: none;\n",
              "      fill: #1967D2;\n",
              "      height: 32px;\n",
              "      padding: 0 0 0 0;\n",
              "      width: 32px;\n",
              "    }\n",
              "\n",
              "    .colab-df-convert:hover {\n",
              "      background-color: #E2EBFA;\n",
              "      box-shadow: 0px 1px 2px rgba(60, 64, 67, 0.3), 0px 1px 3px 1px rgba(60, 64, 67, 0.15);\n",
              "      fill: #174EA6;\n",
              "    }\n",
              "\n",
              "    .colab-df-buttons div {\n",
              "      margin-bottom: 4px;\n",
              "    }\n",
              "\n",
              "    [theme=dark] .colab-df-convert {\n",
              "      background-color: #3B4455;\n",
              "      fill: #D2E3FC;\n",
              "    }\n",
              "\n",
              "    [theme=dark] .colab-df-convert:hover {\n",
              "      background-color: #434B5C;\n",
              "      box-shadow: 0px 1px 3px 1px rgba(0, 0, 0, 0.15);\n",
              "      filter: drop-shadow(0px 1px 2px rgba(0, 0, 0, 0.3));\n",
              "      fill: #FFFFFF;\n",
              "    }\n",
              "  </style>\n",
              "\n",
              "    <script>\n",
              "      const buttonEl =\n",
              "        document.querySelector('#df-4f30030c-99af-4da0-9d69-3101d9211a2e button.colab-df-convert');\n",
              "      buttonEl.style.display =\n",
              "        google.colab.kernel.accessAllowed ? 'block' : 'none';\n",
              "\n",
              "      async function convertToInteractive(key) {\n",
              "        const element = document.querySelector('#df-4f30030c-99af-4da0-9d69-3101d9211a2e');\n",
              "        const dataTable =\n",
              "          await google.colab.kernel.invokeFunction('convertToInteractive',\n",
              "                                                    [key], {});\n",
              "        if (!dataTable) return;\n",
              "\n",
              "        const docLinkHtml = 'Like what you see? Visit the ' +\n",
              "          '<a target=\"_blank\" href=https://colab.research.google.com/notebooks/data_table.ipynb>data table notebook</a>'\n",
              "          + ' to learn more about interactive tables.';\n",
              "        element.innerHTML = '';\n",
              "        dataTable['output_type'] = 'display_data';\n",
              "        await google.colab.output.renderOutput(dataTable, element);\n",
              "        const docLink = document.createElement('div');\n",
              "        docLink.innerHTML = docLinkHtml;\n",
              "        element.appendChild(docLink);\n",
              "      }\n",
              "    </script>\n",
              "  </div>\n",
              "\n",
              "\n",
              "<div id=\"df-1844ab39-32d4-473a-8c21-f565178f96fb\">\n",
              "  <button class=\"colab-df-quickchart\" onclick=\"quickchart('df-1844ab39-32d4-473a-8c21-f565178f96fb')\"\n",
              "            title=\"Suggest charts\"\n",
              "            style=\"display:none;\">\n",
              "\n",
              "<svg xmlns=\"http://www.w3.org/2000/svg\" height=\"24px\"viewBox=\"0 0 24 24\"\n",
              "     width=\"24px\">\n",
              "    <g>\n",
              "        <path d=\"M19 3H5c-1.1 0-2 .9-2 2v14c0 1.1.9 2 2 2h14c1.1 0 2-.9 2-2V5c0-1.1-.9-2-2-2zM9 17H7v-7h2v7zm4 0h-2V7h2v10zm4 0h-2v-4h2v4z\"/>\n",
              "    </g>\n",
              "</svg>\n",
              "  </button>\n",
              "\n",
              "<style>\n",
              "  .colab-df-quickchart {\n",
              "      --bg-color: #E8F0FE;\n",
              "      --fill-color: #1967D2;\n",
              "      --hover-bg-color: #E2EBFA;\n",
              "      --hover-fill-color: #174EA6;\n",
              "      --disabled-fill-color: #AAA;\n",
              "      --disabled-bg-color: #DDD;\n",
              "  }\n",
              "\n",
              "  [theme=dark] .colab-df-quickchart {\n",
              "      --bg-color: #3B4455;\n",
              "      --fill-color: #D2E3FC;\n",
              "      --hover-bg-color: #434B5C;\n",
              "      --hover-fill-color: #FFFFFF;\n",
              "      --disabled-bg-color: #3B4455;\n",
              "      --disabled-fill-color: #666;\n",
              "  }\n",
              "\n",
              "  .colab-df-quickchart {\n",
              "    background-color: var(--bg-color);\n",
              "    border: none;\n",
              "    border-radius: 50%;\n",
              "    cursor: pointer;\n",
              "    display: none;\n",
              "    fill: var(--fill-color);\n",
              "    height: 32px;\n",
              "    padding: 0;\n",
              "    width: 32px;\n",
              "  }\n",
              "\n",
              "  .colab-df-quickchart:hover {\n",
              "    background-color: var(--hover-bg-color);\n",
              "    box-shadow: 0 1px 2px rgba(60, 64, 67, 0.3), 0 1px 3px 1px rgba(60, 64, 67, 0.15);\n",
              "    fill: var(--button-hover-fill-color);\n",
              "  }\n",
              "\n",
              "  .colab-df-quickchart-complete:disabled,\n",
              "  .colab-df-quickchart-complete:disabled:hover {\n",
              "    background-color: var(--disabled-bg-color);\n",
              "    fill: var(--disabled-fill-color);\n",
              "    box-shadow: none;\n",
              "  }\n",
              "\n",
              "  .colab-df-spinner {\n",
              "    border: 2px solid var(--fill-color);\n",
              "    border-color: transparent;\n",
              "    border-bottom-color: var(--fill-color);\n",
              "    animation:\n",
              "      spin 1s steps(1) infinite;\n",
              "  }\n",
              "\n",
              "  @keyframes spin {\n",
              "    0% {\n",
              "      border-color: transparent;\n",
              "      border-bottom-color: var(--fill-color);\n",
              "      border-left-color: var(--fill-color);\n",
              "    }\n",
              "    20% {\n",
              "      border-color: transparent;\n",
              "      border-left-color: var(--fill-color);\n",
              "      border-top-color: var(--fill-color);\n",
              "    }\n",
              "    30% {\n",
              "      border-color: transparent;\n",
              "      border-left-color: var(--fill-color);\n",
              "      border-top-color: var(--fill-color);\n",
              "      border-right-color: var(--fill-color);\n",
              "    }\n",
              "    40% {\n",
              "      border-color: transparent;\n",
              "      border-right-color: var(--fill-color);\n",
              "      border-top-color: var(--fill-color);\n",
              "    }\n",
              "    60% {\n",
              "      border-color: transparent;\n",
              "      border-right-color: var(--fill-color);\n",
              "    }\n",
              "    80% {\n",
              "      border-color: transparent;\n",
              "      border-right-color: var(--fill-color);\n",
              "      border-bottom-color: var(--fill-color);\n",
              "    }\n",
              "    90% {\n",
              "      border-color: transparent;\n",
              "      border-bottom-color: var(--fill-color);\n",
              "    }\n",
              "  }\n",
              "</style>\n",
              "\n",
              "  <script>\n",
              "    async function quickchart(key) {\n",
              "      const quickchartButtonEl =\n",
              "        document.querySelector('#' + key + ' button');\n",
              "      quickchartButtonEl.disabled = true;  // To prevent multiple clicks.\n",
              "      quickchartButtonEl.classList.add('colab-df-spinner');\n",
              "      try {\n",
              "        const charts = await google.colab.kernel.invokeFunction(\n",
              "            'suggestCharts', [key], {});\n",
              "      } catch (error) {\n",
              "        console.error('Error during call to suggestCharts:', error);\n",
              "      }\n",
              "      quickchartButtonEl.classList.remove('colab-df-spinner');\n",
              "      quickchartButtonEl.classList.add('colab-df-quickchart-complete');\n",
              "    }\n",
              "    (() => {\n",
              "      let quickchartButtonEl =\n",
              "        document.querySelector('#df-1844ab39-32d4-473a-8c21-f565178f96fb button');\n",
              "      quickchartButtonEl.style.display =\n",
              "        google.colab.kernel.accessAllowed ? 'block' : 'none';\n",
              "    })();\n",
              "  </script>\n",
              "</div>\n",
              "\n",
              "  <div id=\"id_ed954431-1e6e-4dd4-ae41-9a05034e0e4b\">\n",
              "    <style>\n",
              "      .colab-df-generate {\n",
              "        background-color: #E8F0FE;\n",
              "        border: none;\n",
              "        border-radius: 50%;\n",
              "        cursor: pointer;\n",
              "        display: none;\n",
              "        fill: #1967D2;\n",
              "        height: 32px;\n",
              "        padding: 0 0 0 0;\n",
              "        width: 32px;\n",
              "      }\n",
              "\n",
              "      .colab-df-generate:hover {\n",
              "        background-color: #E2EBFA;\n",
              "        box-shadow: 0px 1px 2px rgba(60, 64, 67, 0.3), 0px 1px 3px 1px rgba(60, 64, 67, 0.15);\n",
              "        fill: #174EA6;\n",
              "      }\n",
              "\n",
              "      [theme=dark] .colab-df-generate {\n",
              "        background-color: #3B4455;\n",
              "        fill: #D2E3FC;\n",
              "      }\n",
              "\n",
              "      [theme=dark] .colab-df-generate:hover {\n",
              "        background-color: #434B5C;\n",
              "        box-shadow: 0px 1px 3px 1px rgba(0, 0, 0, 0.15);\n",
              "        filter: drop-shadow(0px 1px 2px rgba(0, 0, 0, 0.3));\n",
              "        fill: #FFFFFF;\n",
              "      }\n",
              "    </style>\n",
              "    <button class=\"colab-df-generate\" onclick=\"generateWithVariable('edge_df')\"\n",
              "            title=\"Generate code using this dataframe.\"\n",
              "            style=\"display:none;\">\n",
              "\n",
              "  <svg xmlns=\"http://www.w3.org/2000/svg\" height=\"24px\"viewBox=\"0 0 24 24\"\n",
              "       width=\"24px\">\n",
              "    <path d=\"M7,19H8.4L18.45,9,17,7.55,7,17.6ZM5,21V16.75L18.45,3.32a2,2,0,0,1,2.83,0l1.4,1.43a1.91,1.91,0,0,1,.58,1.4,1.91,1.91,0,0,1-.58,1.4L9.25,21ZM18.45,9,17,7.55Zm-12,3A5.31,5.31,0,0,0,4.9,8.1,5.31,5.31,0,0,0,1,6.5,5.31,5.31,0,0,0,4.9,4.9,5.31,5.31,0,0,0,6.5,1,5.31,5.31,0,0,0,8.1,4.9,5.31,5.31,0,0,0,12,6.5,5.46,5.46,0,0,0,6.5,12Z\"/>\n",
              "  </svg>\n",
              "    </button>\n",
              "    <script>\n",
              "      (() => {\n",
              "      const buttonEl =\n",
              "        document.querySelector('#id_ed954431-1e6e-4dd4-ae41-9a05034e0e4b button.colab-df-generate');\n",
              "      buttonEl.style.display =\n",
              "        google.colab.kernel.accessAllowed ? 'block' : 'none';\n",
              "\n",
              "      buttonEl.onclick = () => {\n",
              "        google.colab.notebook.generateWithVariable('edge_df');\n",
              "      }\n",
              "      })();\n",
              "    </script>\n",
              "  </div>\n",
              "\n",
              "    </div>\n",
              "  </div>\n"
            ],
            "application/vnd.google.colaboratory.intrinsic+json": {
              "type": "dataframe",
              "variable_name": "edge_df",
              "summary": "{\n  \"name\": \"edge_df\",\n  \"rows\": 70367,\n  \"fields\": [\n    {\n      \"column\": \"GlobalId\",\n      \"properties\": {\n        \"dtype\": \"category\",\n        \"num_unique_values\": 6646,\n        \"samples\": [\n          \"['mercurymachining_dhs']\",\n          \"['westcoastjump_d&b']\",\n          \"['michaelbrothersinc_az']\"\n        ],\n        \"semantic_type\": \"\",\n        \"description\": \"\"\n      }\n    },\n    {\n      \"column\": \"ProcessCapability\",\n      \"properties\": {\n        \"dtype\": \"category\",\n        \"num_unique_values\": 6501,\n        \"samples\": [\n          \"Sign Maintenance\",\n          \"Application Coating\",\n          \"Hot air thermoplastic tube bonding\"\n        ],\n        \"semantic_type\": \"\",\n        \"description\": \"\"\n      }\n    }\n  ]\n}"
            }
          },
          "metadata": {},
          "execution_count": 15
        }
      ]
    },
    {
      "cell_type": "markdown",
      "source": [
        "We implement labelencoding for the dataframe"
      ],
      "metadata": {
        "id": "hykmO_tsXBeL"
      }
    },
    {
      "cell_type": "code",
      "source": [
        "import pandas as pd\n",
        "from sklearn.preprocessing import LabelEncoder\n",
        "\n",
        "le_gid = LabelEncoder()\n",
        "le_cap = LabelEncoder()\n",
        "\n",
        "edge_df['gid_encoded'] = le_gid.fit_transform(edge_df['GlobalId'])\n",
        "edge_df['cap_encoded'] = le_cap.fit_transform(edge_df['ProcessCapability'])\n",
        "edge_df['cap_encoded'] += edge_df['gid_encoded'].max() + 1      #offset capability code so that node IDs in the graph are unique\n",
        "edge_df"
      ],
      "metadata": {
        "colab": {
          "base_uri": "https://localhost:8080/",
          "height": 411
        },
        "id": "KGjBe5PQR0sl",
        "outputId": "0a463d6f-c219-4e54-821f-723d5e4471b9"
      },
      "execution_count": null,
      "outputs": [
        {
          "output_type": "execute_result",
          "data": {
            "text/plain": [
              "                       GlobalId            ProcessCapability  gid_encoded  \\\n",
              "0      ['1776fabrication_mskg']           Forming Capability            0   \n",
              "1      ['1776fabrication_mskg']         Machining Capability            0   \n",
              "2      ['1776fabrication_mskg']         Finishing Capability            0   \n",
              "3      ['1776fabrication_mskg']       Fabricating Capability            0   \n",
              "4      ['1776fabrication_mskg']     CNC Machining Capability            0   \n",
              "...                         ...                          ...          ...   \n",
              "70362  ['westfall-technik_d&b']       Prototyping Low-Volume         6475   \n",
              "70363  ['westfall-technik_d&b']      Prototyping High-Volume         6475   \n",
              "70364  ['westfall-technik_d&b']             Assembly Kitting         6475   \n",
              "70365  ['westfall-technik_d&b']  Automation Cell Engineering         6475   \n",
              "70366  ['westfall-technik_d&b']           Tooling Production         6475   \n",
              "\n",
              "       cap_encoded  \n",
              "0             9137  \n",
              "1            10014  \n",
              "2             9035  \n",
              "3             8949  \n",
              "4             7337  \n",
              "...            ...  \n",
              "70362        11358  \n",
              "70363        11355  \n",
              "70364         6945  \n",
              "70365         7052  \n",
              "70366        12647  \n",
              "\n",
              "[70367 rows x 4 columns]"
            ],
            "text/html": [
              "\n",
              "  <div id=\"df-98ac4e30-ca16-453e-9b32-84bc384fd7d1\" class=\"colab-df-container\">\n",
              "    <div>\n",
              "<style scoped>\n",
              "    .dataframe tbody tr th:only-of-type {\n",
              "        vertical-align: middle;\n",
              "    }\n",
              "\n",
              "    .dataframe tbody tr th {\n",
              "        vertical-align: top;\n",
              "    }\n",
              "\n",
              "    .dataframe thead th {\n",
              "        text-align: right;\n",
              "    }\n",
              "</style>\n",
              "<table border=\"1\" class=\"dataframe\">\n",
              "  <thead>\n",
              "    <tr style=\"text-align: right;\">\n",
              "      <th></th>\n",
              "      <th>GlobalId</th>\n",
              "      <th>ProcessCapability</th>\n",
              "      <th>gid_encoded</th>\n",
              "      <th>cap_encoded</th>\n",
              "    </tr>\n",
              "  </thead>\n",
              "  <tbody>\n",
              "    <tr>\n",
              "      <th>0</th>\n",
              "      <td>['1776fabrication_mskg']</td>\n",
              "      <td>Forming Capability</td>\n",
              "      <td>0</td>\n",
              "      <td>9137</td>\n",
              "    </tr>\n",
              "    <tr>\n",
              "      <th>1</th>\n",
              "      <td>['1776fabrication_mskg']</td>\n",
              "      <td>Machining Capability</td>\n",
              "      <td>0</td>\n",
              "      <td>10014</td>\n",
              "    </tr>\n",
              "    <tr>\n",
              "      <th>2</th>\n",
              "      <td>['1776fabrication_mskg']</td>\n",
              "      <td>Finishing Capability</td>\n",
              "      <td>0</td>\n",
              "      <td>9035</td>\n",
              "    </tr>\n",
              "    <tr>\n",
              "      <th>3</th>\n",
              "      <td>['1776fabrication_mskg']</td>\n",
              "      <td>Fabricating Capability</td>\n",
              "      <td>0</td>\n",
              "      <td>8949</td>\n",
              "    </tr>\n",
              "    <tr>\n",
              "      <th>4</th>\n",
              "      <td>['1776fabrication_mskg']</td>\n",
              "      <td>CNC Machining Capability</td>\n",
              "      <td>0</td>\n",
              "      <td>7337</td>\n",
              "    </tr>\n",
              "    <tr>\n",
              "      <th>...</th>\n",
              "      <td>...</td>\n",
              "      <td>...</td>\n",
              "      <td>...</td>\n",
              "      <td>...</td>\n",
              "    </tr>\n",
              "    <tr>\n",
              "      <th>70362</th>\n",
              "      <td>['westfall-technik_d&amp;b']</td>\n",
              "      <td>Prototyping Low-Volume</td>\n",
              "      <td>6475</td>\n",
              "      <td>11358</td>\n",
              "    </tr>\n",
              "    <tr>\n",
              "      <th>70363</th>\n",
              "      <td>['westfall-technik_d&amp;b']</td>\n",
              "      <td>Prototyping High-Volume</td>\n",
              "      <td>6475</td>\n",
              "      <td>11355</td>\n",
              "    </tr>\n",
              "    <tr>\n",
              "      <th>70364</th>\n",
              "      <td>['westfall-technik_d&amp;b']</td>\n",
              "      <td>Assembly Kitting</td>\n",
              "      <td>6475</td>\n",
              "      <td>6945</td>\n",
              "    </tr>\n",
              "    <tr>\n",
              "      <th>70365</th>\n",
              "      <td>['westfall-technik_d&amp;b']</td>\n",
              "      <td>Automation Cell Engineering</td>\n",
              "      <td>6475</td>\n",
              "      <td>7052</td>\n",
              "    </tr>\n",
              "    <tr>\n",
              "      <th>70366</th>\n",
              "      <td>['westfall-technik_d&amp;b']</td>\n",
              "      <td>Tooling Production</td>\n",
              "      <td>6475</td>\n",
              "      <td>12647</td>\n",
              "    </tr>\n",
              "  </tbody>\n",
              "</table>\n",
              "<p>70367 rows × 4 columns</p>\n",
              "</div>\n",
              "    <div class=\"colab-df-buttons\">\n",
              "\n",
              "  <div class=\"colab-df-container\">\n",
              "    <button class=\"colab-df-convert\" onclick=\"convertToInteractive('df-98ac4e30-ca16-453e-9b32-84bc384fd7d1')\"\n",
              "            title=\"Convert this dataframe to an interactive table.\"\n",
              "            style=\"display:none;\">\n",
              "\n",
              "  <svg xmlns=\"http://www.w3.org/2000/svg\" height=\"24px\" viewBox=\"0 -960 960 960\">\n",
              "    <path d=\"M120-120v-720h720v720H120Zm60-500h600v-160H180v160Zm220 220h160v-160H400v160Zm0 220h160v-160H400v160ZM180-400h160v-160H180v160Zm440 0h160v-160H620v160ZM180-180h160v-160H180v160Zm440 0h160v-160H620v160Z\"/>\n",
              "  </svg>\n",
              "    </button>\n",
              "\n",
              "  <style>\n",
              "    .colab-df-container {\n",
              "      display:flex;\n",
              "      gap: 12px;\n",
              "    }\n",
              "\n",
              "    .colab-df-convert {\n",
              "      background-color: #E8F0FE;\n",
              "      border: none;\n",
              "      border-radius: 50%;\n",
              "      cursor: pointer;\n",
              "      display: none;\n",
              "      fill: #1967D2;\n",
              "      height: 32px;\n",
              "      padding: 0 0 0 0;\n",
              "      width: 32px;\n",
              "    }\n",
              "\n",
              "    .colab-df-convert:hover {\n",
              "      background-color: #E2EBFA;\n",
              "      box-shadow: 0px 1px 2px rgba(60, 64, 67, 0.3), 0px 1px 3px 1px rgba(60, 64, 67, 0.15);\n",
              "      fill: #174EA6;\n",
              "    }\n",
              "\n",
              "    .colab-df-buttons div {\n",
              "      margin-bottom: 4px;\n",
              "    }\n",
              "\n",
              "    [theme=dark] .colab-df-convert {\n",
              "      background-color: #3B4455;\n",
              "      fill: #D2E3FC;\n",
              "    }\n",
              "\n",
              "    [theme=dark] .colab-df-convert:hover {\n",
              "      background-color: #434B5C;\n",
              "      box-shadow: 0px 1px 3px 1px rgba(0, 0, 0, 0.15);\n",
              "      filter: drop-shadow(0px 1px 2px rgba(0, 0, 0, 0.3));\n",
              "      fill: #FFFFFF;\n",
              "    }\n",
              "  </style>\n",
              "\n",
              "    <script>\n",
              "      const buttonEl =\n",
              "        document.querySelector('#df-98ac4e30-ca16-453e-9b32-84bc384fd7d1 button.colab-df-convert');\n",
              "      buttonEl.style.display =\n",
              "        google.colab.kernel.accessAllowed ? 'block' : 'none';\n",
              "\n",
              "      async function convertToInteractive(key) {\n",
              "        const element = document.querySelector('#df-98ac4e30-ca16-453e-9b32-84bc384fd7d1');\n",
              "        const dataTable =\n",
              "          await google.colab.kernel.invokeFunction('convertToInteractive',\n",
              "                                                    [key], {});\n",
              "        if (!dataTable) return;\n",
              "\n",
              "        const docLinkHtml = 'Like what you see? Visit the ' +\n",
              "          '<a target=\"_blank\" href=https://colab.research.google.com/notebooks/data_table.ipynb>data table notebook</a>'\n",
              "          + ' to learn more about interactive tables.';\n",
              "        element.innerHTML = '';\n",
              "        dataTable['output_type'] = 'display_data';\n",
              "        await google.colab.output.renderOutput(dataTable, element);\n",
              "        const docLink = document.createElement('div');\n",
              "        docLink.innerHTML = docLinkHtml;\n",
              "        element.appendChild(docLink);\n",
              "      }\n",
              "    </script>\n",
              "  </div>\n",
              "\n",
              "\n",
              "<div id=\"df-425e2f0f-e7c9-4575-803e-848ef4afa403\">\n",
              "  <button class=\"colab-df-quickchart\" onclick=\"quickchart('df-425e2f0f-e7c9-4575-803e-848ef4afa403')\"\n",
              "            title=\"Suggest charts\"\n",
              "            style=\"display:none;\">\n",
              "\n",
              "<svg xmlns=\"http://www.w3.org/2000/svg\" height=\"24px\"viewBox=\"0 0 24 24\"\n",
              "     width=\"24px\">\n",
              "    <g>\n",
              "        <path d=\"M19 3H5c-1.1 0-2 .9-2 2v14c0 1.1.9 2 2 2h14c1.1 0 2-.9 2-2V5c0-1.1-.9-2-2-2zM9 17H7v-7h2v7zm4 0h-2V7h2v10zm4 0h-2v-4h2v4z\"/>\n",
              "    </g>\n",
              "</svg>\n",
              "  </button>\n",
              "\n",
              "<style>\n",
              "  .colab-df-quickchart {\n",
              "      --bg-color: #E8F0FE;\n",
              "      --fill-color: #1967D2;\n",
              "      --hover-bg-color: #E2EBFA;\n",
              "      --hover-fill-color: #174EA6;\n",
              "      --disabled-fill-color: #AAA;\n",
              "      --disabled-bg-color: #DDD;\n",
              "  }\n",
              "\n",
              "  [theme=dark] .colab-df-quickchart {\n",
              "      --bg-color: #3B4455;\n",
              "      --fill-color: #D2E3FC;\n",
              "      --hover-bg-color: #434B5C;\n",
              "      --hover-fill-color: #FFFFFF;\n",
              "      --disabled-bg-color: #3B4455;\n",
              "      --disabled-fill-color: #666;\n",
              "  }\n",
              "\n",
              "  .colab-df-quickchart {\n",
              "    background-color: var(--bg-color);\n",
              "    border: none;\n",
              "    border-radius: 50%;\n",
              "    cursor: pointer;\n",
              "    display: none;\n",
              "    fill: var(--fill-color);\n",
              "    height: 32px;\n",
              "    padding: 0;\n",
              "    width: 32px;\n",
              "  }\n",
              "\n",
              "  .colab-df-quickchart:hover {\n",
              "    background-color: var(--hover-bg-color);\n",
              "    box-shadow: 0 1px 2px rgba(60, 64, 67, 0.3), 0 1px 3px 1px rgba(60, 64, 67, 0.15);\n",
              "    fill: var(--button-hover-fill-color);\n",
              "  }\n",
              "\n",
              "  .colab-df-quickchart-complete:disabled,\n",
              "  .colab-df-quickchart-complete:disabled:hover {\n",
              "    background-color: var(--disabled-bg-color);\n",
              "    fill: var(--disabled-fill-color);\n",
              "    box-shadow: none;\n",
              "  }\n",
              "\n",
              "  .colab-df-spinner {\n",
              "    border: 2px solid var(--fill-color);\n",
              "    border-color: transparent;\n",
              "    border-bottom-color: var(--fill-color);\n",
              "    animation:\n",
              "      spin 1s steps(1) infinite;\n",
              "  }\n",
              "\n",
              "  @keyframes spin {\n",
              "    0% {\n",
              "      border-color: transparent;\n",
              "      border-bottom-color: var(--fill-color);\n",
              "      border-left-color: var(--fill-color);\n",
              "    }\n",
              "    20% {\n",
              "      border-color: transparent;\n",
              "      border-left-color: var(--fill-color);\n",
              "      border-top-color: var(--fill-color);\n",
              "    }\n",
              "    30% {\n",
              "      border-color: transparent;\n",
              "      border-left-color: var(--fill-color);\n",
              "      border-top-color: var(--fill-color);\n",
              "      border-right-color: var(--fill-color);\n",
              "    }\n",
              "    40% {\n",
              "      border-color: transparent;\n",
              "      border-right-color: var(--fill-color);\n",
              "      border-top-color: var(--fill-color);\n",
              "    }\n",
              "    60% {\n",
              "      border-color: transparent;\n",
              "      border-right-color: var(--fill-color);\n",
              "    }\n",
              "    80% {\n",
              "      border-color: transparent;\n",
              "      border-right-color: var(--fill-color);\n",
              "      border-bottom-color: var(--fill-color);\n",
              "    }\n",
              "    90% {\n",
              "      border-color: transparent;\n",
              "      border-bottom-color: var(--fill-color);\n",
              "    }\n",
              "  }\n",
              "</style>\n",
              "\n",
              "  <script>\n",
              "    async function quickchart(key) {\n",
              "      const quickchartButtonEl =\n",
              "        document.querySelector('#' + key + ' button');\n",
              "      quickchartButtonEl.disabled = true;  // To prevent multiple clicks.\n",
              "      quickchartButtonEl.classList.add('colab-df-spinner');\n",
              "      try {\n",
              "        const charts = await google.colab.kernel.invokeFunction(\n",
              "            'suggestCharts', [key], {});\n",
              "      } catch (error) {\n",
              "        console.error('Error during call to suggestCharts:', error);\n",
              "      }\n",
              "      quickchartButtonEl.classList.remove('colab-df-spinner');\n",
              "      quickchartButtonEl.classList.add('colab-df-quickchart-complete');\n",
              "    }\n",
              "    (() => {\n",
              "      let quickchartButtonEl =\n",
              "        document.querySelector('#df-425e2f0f-e7c9-4575-803e-848ef4afa403 button');\n",
              "      quickchartButtonEl.style.display =\n",
              "        google.colab.kernel.accessAllowed ? 'block' : 'none';\n",
              "    })();\n",
              "  </script>\n",
              "</div>\n",
              "\n",
              "  <div id=\"id_9eeba874-b67b-4b3c-b6be-fd36b6b82089\">\n",
              "    <style>\n",
              "      .colab-df-generate {\n",
              "        background-color: #E8F0FE;\n",
              "        border: none;\n",
              "        border-radius: 50%;\n",
              "        cursor: pointer;\n",
              "        display: none;\n",
              "        fill: #1967D2;\n",
              "        height: 32px;\n",
              "        padding: 0 0 0 0;\n",
              "        width: 32px;\n",
              "      }\n",
              "\n",
              "      .colab-df-generate:hover {\n",
              "        background-color: #E2EBFA;\n",
              "        box-shadow: 0px 1px 2px rgba(60, 64, 67, 0.3), 0px 1px 3px 1px rgba(60, 64, 67, 0.15);\n",
              "        fill: #174EA6;\n",
              "      }\n",
              "\n",
              "      [theme=dark] .colab-df-generate {\n",
              "        background-color: #3B4455;\n",
              "        fill: #D2E3FC;\n",
              "      }\n",
              "\n",
              "      [theme=dark] .colab-df-generate:hover {\n",
              "        background-color: #434B5C;\n",
              "        box-shadow: 0px 1px 3px 1px rgba(0, 0, 0, 0.15);\n",
              "        filter: drop-shadow(0px 1px 2px rgba(0, 0, 0, 0.3));\n",
              "        fill: #FFFFFF;\n",
              "      }\n",
              "    </style>\n",
              "    <button class=\"colab-df-generate\" onclick=\"generateWithVariable('edge_df')\"\n",
              "            title=\"Generate code using this dataframe.\"\n",
              "            style=\"display:none;\">\n",
              "\n",
              "  <svg xmlns=\"http://www.w3.org/2000/svg\" height=\"24px\"viewBox=\"0 0 24 24\"\n",
              "       width=\"24px\">\n",
              "    <path d=\"M7,19H8.4L18.45,9,17,7.55,7,17.6ZM5,21V16.75L18.45,3.32a2,2,0,0,1,2.83,0l1.4,1.43a1.91,1.91,0,0,1,.58,1.4,1.91,1.91,0,0,1-.58,1.4L9.25,21ZM18.45,9,17,7.55Zm-12,3A5.31,5.31,0,0,0,4.9,8.1,5.31,5.31,0,0,0,1,6.5,5.31,5.31,0,0,0,4.9,4.9,5.31,5.31,0,0,0,6.5,1,5.31,5.31,0,0,0,8.1,4.9,5.31,5.31,0,0,0,12,6.5,5.46,5.46,0,0,0,6.5,12Z\"/>\n",
              "  </svg>\n",
              "    </button>\n",
              "    <script>\n",
              "      (() => {\n",
              "      const buttonEl =\n",
              "        document.querySelector('#id_9eeba874-b67b-4b3c-b6be-fd36b6b82089 button.colab-df-generate');\n",
              "      buttonEl.style.display =\n",
              "        google.colab.kernel.accessAllowed ? 'block' : 'none';\n",
              "\n",
              "      buttonEl.onclick = () => {\n",
              "        google.colab.notebook.generateWithVariable('edge_df');\n",
              "      }\n",
              "      })();\n",
              "    </script>\n",
              "  </div>\n",
              "\n",
              "    </div>\n",
              "  </div>\n"
            ],
            "application/vnd.google.colaboratory.intrinsic+json": {
              "type": "dataframe",
              "variable_name": "edge_df",
              "summary": "{\n  \"name\": \"edge_df\",\n  \"rows\": 70367,\n  \"fields\": [\n    {\n      \"column\": \"GlobalId\",\n      \"properties\": {\n        \"dtype\": \"category\",\n        \"num_unique_values\": 6646,\n        \"samples\": [\n          \"['mercurymachining_dhs']\",\n          \"['westcoastjump_d&b']\",\n          \"['michaelbrothersinc_az']\"\n        ],\n        \"semantic_type\": \"\",\n        \"description\": \"\"\n      }\n    },\n    {\n      \"column\": \"ProcessCapability\",\n      \"properties\": {\n        \"dtype\": \"category\",\n        \"num_unique_values\": 6501,\n        \"samples\": [\n          \"Sign Maintenance\",\n          \"Application Coating\",\n          \"Hot air thermoplastic tube bonding\"\n        ],\n        \"semantic_type\": \"\",\n        \"description\": \"\"\n      }\n    },\n    {\n      \"column\": \"gid_encoded\",\n      \"properties\": {\n        \"dtype\": \"number\",\n        \"std\": 1904,\n        \"min\": 0,\n        \"max\": 6645,\n        \"num_unique_values\": 6646,\n        \"samples\": [\n          3814,\n          6454,\n          3906\n        ],\n        \"semantic_type\": \"\",\n        \"description\": \"\"\n      }\n    },\n    {\n      \"column\": \"cap_encoded\",\n      \"properties\": {\n        \"dtype\": \"number\",\n        \"std\": 1901,\n        \"min\": 6646,\n        \"max\": 13146,\n        \"num_unique_values\": 6501,\n        \"samples\": [\n          12027,\n          6867,\n          9470\n        ],\n        \"semantic_type\": \"\",\n        \"description\": \"\"\n      }\n    }\n  ]\n}"
            }
          },
          "metadata": {},
          "execution_count": 16
        }
      ]
    },
    {
      "cell_type": "markdown",
      "source": [
        "Link-prediction (or edge classification) is essentially a binary-classification problem. Positive edges tell the model what a real connection looks like in terms of node features and graph context. Negative edges give counter-examples, preventing the model from simply predicting “edge” for every pair.\n",
        "\n",
        "In this code snippet, we shuffle known part-capability links, split them 80/20 into training and test positives, then construct matching negative edges—balanced in the test set and smaller in the training set—to create datasets ready for training and evaluating a link-prediction model.\n",
        "\n",
        "In binary-classification tasks, edges that truly exist (the positive edges) are often vastly out-numbered by negatives (non-edges). If we feed this raw distribution to a model, it can achieve deceptively high accuracy simply by predicting the majority class every time (“no edge here”), yet it will perform poorly on the minority class that we are actually concerned with. Thus we sub-sample the majority class so that the model sees a near mix of samples and is not biased."
      ],
      "metadata": {
        "id": "6u2LGEjRcOzW"
      }
    },
    {
      "cell_type": "code",
      "source": [
        "#we create a list of positive edges (existing links) by pairing each encoded part-ID (gid_encoded) with each encoded capability (cap_encoded).\n",
        "pos_edges = list(zip(edge_df['gid_encoded'], edge_df['cap_encoded']))\n",
        "\n",
        "#we shuffle the edges in order to reduce biasing\n",
        "random.shuffle(pos_edges)\n",
        "\n",
        "#we split it into an 80:20 training and testing set\n",
        "split = int(len(pos_edges) * 0.8)\n",
        "train_edges = pos_edges[:split]\n",
        "test_pos_edges = pos_edges[split:]\n",
        "\n",
        "#collect the unique sets of gids and capabailities\n",
        "all_gids = edge_df['gid_encoded'].unique()\n",
        "all_caps = edge_df['cap_encoded'].unique()\n",
        "\n",
        "#we generate all possible part-capability pairs (Cartesian product) and remove the ones that actually exist; what remains are candidate negative edges—pairs that are not present in the data.\n",
        "possible_neg_edges = list(set((g, c) for g in all_gids for c in all_caps) - set(pos_edges))\n",
        "test_neg_edges = random.sample(possible_neg_edges, len(test_pos_edges))   #randomly select a negative edge equal in size to a positive edge\n",
        "possible_neg_set = set(possible_neg_edges)\n",
        "test_neg_set = set(test_neg_edges)\n",
        "\n",
        "#we remove the test negatives from the overall negative pool, then sample a training-negative set that is half the size of the training-positive set\n",
        "train_neg_pool = possible_neg_set - test_neg_set\n",
        "train_neg_edges = random.sample(list(train_neg_pool), len(train_edges) // 2)"
      ],
      "metadata": {
        "id": "hMsRbyRRdOQU"
      },
      "execution_count": null,
      "outputs": []
    },
    {
      "cell_type": "code",
      "source": [
        "len(train_edges), len(train_neg_edges), len(test_pos_edges), len(test_neg_edges)"
      ],
      "metadata": {
        "colab": {
          "base_uri": "https://localhost:8080/"
        },
        "id": "6gwVBlSOrWos",
        "outputId": "38688f9d-a32b-43ca-abbb-368c102e6e53"
      },
      "execution_count": null,
      "outputs": [
        {
          "output_type": "execute_result",
          "data": {
            "text/plain": [
              "(56293, 28146, 14074, 14074)"
            ]
          },
          "metadata": {},
          "execution_count": 20
        }
      ]
    },
    {
      "cell_type": "markdown",
      "source": [
        "We convert the raw edge lists into [2,E] tensors (for pytorch to process), create one-hot node features, and build a PyG Data object whose edge_index contains both directions of every training edge, giving an undirected graph that is ready for Graph Neural Network training and later link-prediction evaluation."
      ],
      "metadata": {
        "id": "cFKeqP9Xhgri"
      }
    },
    {
      "cell_type": "code",
      "source": [
        "#we turn the list of (source, target) tuples into a tensor of integers\n",
        "def encode_edges(edge_list):\n",
        "    return torch.tensor(edge_list, dtype=torch.long).T  # shape [2, num_edges]\n",
        "\n",
        "#create tensors for every edge\n",
        "train_edge_index = encode_edges(train_edges)\n",
        "test_pos_index = encode_edges(test_pos_edges)\n",
        "test_neg_index = encode_edges(test_neg_edges)\n",
        "train_neg_index = encode_edges(train_neg_edges)\n",
        "\n",
        "num_nodes = max(edge_df['cap_encoded'].max(), edge_df['gid_encoded'].max()) + 1`  #total number of nodes\n",
        "x = torch.eye(num_nodes)\n",
        "\n",
        "#we assemble the training graph\n",
        "data = Data(x=x, edge_index=torch.cat([train_edge_index, train_edge_index.flip(0)], dim=1))"
      ],
      "metadata": {
        "id": "kU11k8JGexeN"
      },
      "execution_count": null,
      "outputs": []
    },
    {
      "cell_type": "code",
      "source": [
        "data"
      ],
      "metadata": {
        "colab": {
          "base_uri": "https://localhost:8080/"
        },
        "id": "awq-o_GPf_lB",
        "outputId": "7ed7eeac-1325-42a4-cb5f-a7f15389539e"
      },
      "execution_count": null,
      "outputs": [
        {
          "output_type": "execute_result",
          "data": {
            "text/plain": [
              "Data(x=[13147, 13147], edge_index=[2, 112586])"
            ]
          },
          "metadata": {},
          "execution_count": 21
        }
      ]
    },
    {
      "cell_type": "code",
      "source": [
        "train_edges[:5]"
      ],
      "metadata": {
        "colab": {
          "base_uri": "https://localhost:8080/"
        },
        "id": "Pyz-GRdcgItU",
        "outputId": "520163a2-2069-429d-eef7-78d590e56e21"
      },
      "execution_count": null,
      "outputs": [
        {
          "output_type": "execute_result",
          "data": {
            "text/plain": [
              "[(3621, 9726), (4886, 11813), (397, 9137), (6330, 9256), (3862, 9256)]"
            ]
          },
          "metadata": {},
          "execution_count": 22
        }
      ]
    },
    {
      "cell_type": "code",
      "source": [
        "train_edge_index"
      ],
      "metadata": {
        "colab": {
          "base_uri": "https://localhost:8080/"
        },
        "id": "5w1AXQVNgQgu",
        "outputId": "6b3d7918-b630-415e-f1dc-040fb0c83f61"
      },
      "execution_count": null,
      "outputs": [
        {
          "output_type": "execute_result",
          "data": {
            "text/plain": [
              "tensor([[ 3621,  4886,   397,  ...,  3583,  4381,  4409],\n",
              "        [ 9726, 11813,  9137,  ...,  9128, 12062,  9821]])"
            ]
          },
          "metadata": {},
          "execution_count": 23
        }
      ]
    },
    {
      "cell_type": "code",
      "source": [
        "train_edge_index.shape"
      ],
      "metadata": {
        "colab": {
          "base_uri": "https://localhost:8080/"
        },
        "id": "cv-s0ZoFgAVI",
        "outputId": "32a63994-58ac-4ae7-9591-d4d90a478c2e"
      },
      "execution_count": null,
      "outputs": [
        {
          "output_type": "execute_result",
          "data": {
            "text/plain": [
              "torch.Size([2, 56293])"
            ]
          },
          "metadata": {},
          "execution_count": 24
        }
      ]
    },
    {
      "cell_type": "code",
      "source": [
        "x"
      ],
      "metadata": {
        "colab": {
          "base_uri": "https://localhost:8080/"
        },
        "id": "3zMf02DCgK0M",
        "outputId": "019092ea-e2c1-4046-f0e8-cd8e047a7382"
      },
      "execution_count": null,
      "outputs": [
        {
          "output_type": "execute_result",
          "data": {
            "text/plain": [
              "tensor([[1., 0., 0.,  ..., 0., 0., 0.],\n",
              "        [0., 1., 0.,  ..., 0., 0., 0.],\n",
              "        [0., 0., 1.,  ..., 0., 0., 0.],\n",
              "        ...,\n",
              "        [0., 0., 0.,  ..., 1., 0., 0.],\n",
              "        [0., 0., 0.,  ..., 0., 1., 0.],\n",
              "        [0., 0., 0.,  ..., 0., 0., 1.]])"
            ]
          },
          "metadata": {},
          "execution_count": 25
        }
      ]
    },
    {
      "cell_type": "code",
      "source": [
        "num_nodes"
      ],
      "metadata": {
        "colab": {
          "base_uri": "https://localhost:8080/"
        },
        "id": "no3GpIkRgmUY",
        "outputId": "4f10c330-509d-46dd-fc19-acc149f78c5b"
      },
      "execution_count": null,
      "outputs": [
        {
          "output_type": "execute_result",
          "data": {
            "text/plain": [
              "13147"
            ]
          },
          "metadata": {},
          "execution_count": 26
        }
      ]
    },
    {
      "cell_type": "code",
      "source": [
        "edge_df['cap_encoded'].max()"
      ],
      "metadata": {
        "colab": {
          "base_uri": "https://localhost:8080/"
        },
        "id": "yYbFBp7UgxTD",
        "outputId": "01d184e8-c64d-472f-e782-e45c9e617b6e"
      },
      "execution_count": null,
      "outputs": [
        {
          "output_type": "execute_result",
          "data": {
            "text/plain": [
              "13146"
            ]
          },
          "metadata": {},
          "execution_count": 27
        }
      ]
    },
    {
      "cell_type": "code",
      "source": [
        "edge_df['gid_encoded'].max()"
      ],
      "metadata": {
        "colab": {
          "base_uri": "https://localhost:8080/"
        },
        "id": "ZsncVx3sg722",
        "outputId": "8e89b267-22a8-4cc6-e98f-c04fc9d7e3f3"
      },
      "execution_count": null,
      "outputs": [
        {
          "output_type": "execute_result",
          "data": {
            "text/plain": [
              "6645"
            ]
          },
          "metadata": {},
          "execution_count": 28
        }
      ]
    },
    {
      "cell_type": "code",
      "source": [
        "torch.cat([train_edge_index, train_edge_index.flip(0)])"
      ],
      "metadata": {
        "colab": {
          "base_uri": "https://localhost:8080/"
        },
        "id": "IqUyJ7aGg90h",
        "outputId": "b49c565f-906f-4e06-b495-663cc60d7dbc"
      },
      "execution_count": null,
      "outputs": [
        {
          "output_type": "execute_result",
          "data": {
            "text/plain": [
              "tensor([[ 3621,  4886,   397,  ...,  3583,  4381,  4409],\n",
              "        [ 9726, 11813,  9137,  ...,  9128, 12062,  9821],\n",
              "        [ 9726, 11813,  9137,  ...,  9128, 12062,  9821],\n",
              "        [ 3621,  4886,   397,  ...,  3583,  4381,  4409]])"
            ]
          },
          "metadata": {},
          "execution_count": 29
        }
      ]
    },
    {
      "cell_type": "code",
      "source": [
        "torch.cat([train_edge_index, train_edge_index.flip(0)]).shape"
      ],
      "metadata": {
        "colab": {
          "base_uri": "https://localhost:8080/"
        },
        "id": "1-MZw195hk98",
        "outputId": "5beb3671-f880-46b1-86b9-9517846dfea3"
      },
      "execution_count": null,
      "outputs": [
        {
          "output_type": "execute_result",
          "data": {
            "text/plain": [
              "torch.Size([4, 56293])"
            ]
          },
          "metadata": {},
          "execution_count": 30
        }
      ]
    },
    {
      "cell_type": "code",
      "source": [
        "x[13146]"
      ],
      "metadata": {
        "colab": {
          "base_uri": "https://localhost:8080/"
        },
        "id": "yOK9f9Egho-d",
        "outputId": "607366de-a09d-457c-9130-254c7f0a142f"
      },
      "execution_count": null,
      "outputs": [
        {
          "output_type": "execute_result",
          "data": {
            "text/plain": [
              "tensor([0., 0., 0.,  ..., 0., 0., 1.])"
            ]
          },
          "metadata": {},
          "execution_count": 31
        }
      ]
    },
    {
      "cell_type": "markdown",
      "source": [
        "The GCNEncoder is a compact, two-layer Graph Convolutional Network (GCN) that turns raw node features into latent embeddings."
      ],
      "metadata": {
        "id": "tUYmp0e7iamj"
      }
    },
    {
      "cell_type": "code",
      "source": [
        "class GCNEncoder(nn.Module):\n",
        "    def __init__(self, in_channels, hidden_channels):\n",
        "        super().__init__()\n",
        "        self.conv1 = GCNConv(in_channels, hidden_channels)\n",
        "        self.conv2 = GCNConv(hidden_channels, hidden_channels)\n",
        "\n",
        "    def forward(self, x, edge_index):\n",
        "        x = F.relu(self.conv1(x, edge_index))\n",
        "        return self.conv2(x, edge_index)"
      ],
      "metadata": {
        "id": "xWPE5hhYifDX"
      },
      "execution_count": null,
      "outputs": []
    },
    {
      "cell_type": "markdown",
      "source": [
        "We instantiate a two-layer GCN to turn node features into 64-dimensional embeddings. Then, we introduce a dot-product `decode` function that scores any pair of nodes, and `BCEWithLogitsLoss` with Adam (lr = 0.01), which is set up to teach the embeddings to give high scores to real edges and low scores to sampled negatives.  \n",
        "Together, these three components form a complete, trainable link-prediction pipeline: **encoder --> decoder --> loss/optimizer**."
      ],
      "metadata": {
        "id": "SMDotGyMlVqc"
      }
    },
    {
      "cell_type": "code",
      "source": [
        "def decode(z, edge_index):\n",
        "    return (z[edge_index[0]] * z[edge_index[1]]).sum(dim=1)\n",
        "\n",
        "model = GCNEncoder(in_channels=x.size(1), hidden_channels=64) #instantiate the GCNEncoder, where the model is a 2 layer convolutional network\n",
        "optimizer = torch.optim.Adam(model.parameters(), lr=0.01) #Adam combines momentum and adaptive learning-rates\n",
        "loss_fn = torch.nn.BCEWithLogitsLoss()  #it first applies a sigmoid to each score, then computes BCE in a numerically-stable way`"
      ],
      "metadata": {
        "id": "G2Ifn90mirZN"
      },
      "execution_count": null,
      "outputs": []
    },
    {
      "cell_type": "markdown",
      "source": [
        "For each of 20 epochs we produce node embeddings with a two-layer GCN, score real and sampled-negative edges via a dot-product decoder, and concatenate those logits with matching 1/0 labels.\n",
        "BCEWithLogitsLoss computes the error, gradients are back-propagated, and Adam adjusts the GCN weights.\n",
        "The printed loss shows whether the model is learning to separate existing edges from non-edges over time."
      ],
      "metadata": {
        "id": "cMV5kvDynDLy"
      }
    },
    {
      "cell_type": "code",
      "source": [
        "for epoch in tqdm(range(1, 21)):    #loops 20 times\n",
        "    model.train()   #we train the model\n",
        "    optimizer.zero_grad()   #we clear leftover gradients\n",
        "\n",
        "    z = model(data.x, data.edge_index)    #we run a forward pass\n",
        "    pos_out = decode(z, train_edge_index)   #we compute dot product for positive and negative training edges\n",
        "    neg_out = decode(z, train_neg_index)\n",
        "\n",
        "    out = torch.cat([pos_out, neg_out])   #we join the tensors\n",
        "\n",
        "    y_true = torch.cat([                  #we build a matching label vector: 1’s for real edges, 0’s for sampled non-edges\n",
        "        torch.ones(pos_out.size(0)),\n",
        "        torch.zeros(neg_out.size(0))\n",
        "    ])\n",
        "\n",
        "    loss = loss_fn(out, y_true)\n",
        "    loss.backward()\n",
        "    optimizer.step()\n",
        "\n",
        "    print(f\"Epoch {epoch} | Loss: {loss.item():.4f}\")\n"
      ],
      "metadata": {
        "colab": {
          "base_uri": "https://localhost:8080/"
        },
        "id": "j75l27gXivZw",
        "outputId": "9c7ad94f-1228-43b0-c464-4f48536ba6a2"
      },
      "execution_count": null,
      "outputs": [
        {
          "output_type": "stream",
          "name": "stderr",
          "text": [
            "  5%|▌         | 1/20 [00:01<00:26,  1.38s/it]"
          ]
        },
        {
          "output_type": "stream",
          "name": "stdout",
          "text": [
            "Epoch 1 | Loss: 0.6931\n"
          ]
        },
        {
          "output_type": "stream",
          "name": "stderr",
          "text": [
            "\r 10%|█         | 2/20 [00:02<00:22,  1.27s/it]"
          ]
        },
        {
          "output_type": "stream",
          "name": "stdout",
          "text": [
            "Epoch 2 | Loss: 0.6242\n"
          ]
        },
        {
          "output_type": "stream",
          "name": "stderr",
          "text": [
            "\r 15%|█▌        | 3/20 [00:03<00:21,  1.26s/it]"
          ]
        },
        {
          "output_type": "stream",
          "name": "stdout",
          "text": [
            "Epoch 3 | Loss: 0.4618\n"
          ]
        },
        {
          "output_type": "stream",
          "name": "stderr",
          "text": [
            "\r 20%|██        | 4/20 [00:05<00:19,  1.23s/it]"
          ]
        },
        {
          "output_type": "stream",
          "name": "stdout",
          "text": [
            "Epoch 4 | Loss: 0.3675\n"
          ]
        },
        {
          "output_type": "stream",
          "name": "stderr",
          "text": [
            "\r 25%|██▌       | 5/20 [00:06<00:18,  1.25s/it]"
          ]
        },
        {
          "output_type": "stream",
          "name": "stdout",
          "text": [
            "Epoch 5 | Loss: 0.3979\n"
          ]
        },
        {
          "output_type": "stream",
          "name": "stderr",
          "text": [
            "\r 30%|███       | 6/20 [00:07<00:18,  1.30s/it]"
          ]
        },
        {
          "output_type": "stream",
          "name": "stdout",
          "text": [
            "Epoch 6 | Loss: 0.4063\n"
          ]
        },
        {
          "output_type": "stream",
          "name": "stderr",
          "text": [
            "\r 35%|███▌      | 7/20 [00:09<00:19,  1.51s/it]"
          ]
        },
        {
          "output_type": "stream",
          "name": "stdout",
          "text": [
            "Epoch 7 | Loss: 0.3785\n"
          ]
        },
        {
          "output_type": "stream",
          "name": "stderr",
          "text": [
            "\r 40%|████      | 8/20 [00:11<00:19,  1.65s/it]"
          ]
        },
        {
          "output_type": "stream",
          "name": "stdout",
          "text": [
            "Epoch 8 | Loss: 0.3459\n"
          ]
        },
        {
          "output_type": "stream",
          "name": "stderr",
          "text": [
            "\r 45%|████▌     | 9/20 [00:12<00:16,  1.50s/it]"
          ]
        },
        {
          "output_type": "stream",
          "name": "stdout",
          "text": [
            "Epoch 9 | Loss: 0.3241\n"
          ]
        },
        {
          "output_type": "stream",
          "name": "stderr",
          "text": [
            "\r 50%|█████     | 10/20 [00:14<00:14,  1.44s/it]"
          ]
        },
        {
          "output_type": "stream",
          "name": "stdout",
          "text": [
            "Epoch 10 | Loss: 0.3142\n"
          ]
        },
        {
          "output_type": "stream",
          "name": "stderr",
          "text": [
            "\r 55%|█████▌    | 11/20 [00:15<00:12,  1.39s/it]"
          ]
        },
        {
          "output_type": "stream",
          "name": "stdout",
          "text": [
            "Epoch 11 | Loss: 0.3106\n"
          ]
        },
        {
          "output_type": "stream",
          "name": "stderr",
          "text": [
            "\r 60%|██████    | 12/20 [00:16<00:10,  1.32s/it]"
          ]
        },
        {
          "output_type": "stream",
          "name": "stdout",
          "text": [
            "Epoch 12 | Loss: 0.3053\n"
          ]
        },
        {
          "output_type": "stream",
          "name": "stderr",
          "text": [
            "\r 65%|██████▌   | 13/20 [00:17<00:09,  1.30s/it]"
          ]
        },
        {
          "output_type": "stream",
          "name": "stdout",
          "text": [
            "Epoch 13 | Loss: 0.2902\n"
          ]
        },
        {
          "output_type": "stream",
          "name": "stderr",
          "text": [
            "\r 70%|███████   | 14/20 [00:18<00:07,  1.28s/it]"
          ]
        },
        {
          "output_type": "stream",
          "name": "stdout",
          "text": [
            "Epoch 14 | Loss: 0.2709\n"
          ]
        },
        {
          "output_type": "stream",
          "name": "stderr",
          "text": [
            "\r 75%|███████▌  | 15/20 [00:20<00:06,  1.24s/it]"
          ]
        },
        {
          "output_type": "stream",
          "name": "stdout",
          "text": [
            "Epoch 15 | Loss: 0.2544\n"
          ]
        },
        {
          "output_type": "stream",
          "name": "stderr",
          "text": [
            "\r 80%|████████  | 16/20 [00:21<00:05,  1.25s/it]"
          ]
        },
        {
          "output_type": "stream",
          "name": "stdout",
          "text": [
            "Epoch 16 | Loss: 0.2419\n"
          ]
        },
        {
          "output_type": "stream",
          "name": "stderr",
          "text": [
            "\r 85%|████████▌ | 17/20 [00:23<00:04,  1.44s/it]"
          ]
        },
        {
          "output_type": "stream",
          "name": "stdout",
          "text": [
            "Epoch 17 | Loss: 0.2336\n"
          ]
        },
        {
          "output_type": "stream",
          "name": "stderr",
          "text": [
            "\r 90%|█████████ | 18/20 [00:25<00:03,  1.56s/it]"
          ]
        },
        {
          "output_type": "stream",
          "name": "stdout",
          "text": [
            "Epoch 18 | Loss: 0.2288\n"
          ]
        },
        {
          "output_type": "stream",
          "name": "stderr",
          "text": [
            "\r 95%|█████████▌| 19/20 [00:26<00:01,  1.52s/it]"
          ]
        },
        {
          "output_type": "stream",
          "name": "stdout",
          "text": [
            "Epoch 19 | Loss: 0.2263\n"
          ]
        },
        {
          "output_type": "stream",
          "name": "stderr",
          "text": [
            "100%|██████████| 20/20 [00:27<00:00,  1.39s/it]"
          ]
        },
        {
          "output_type": "stream",
          "name": "stdout",
          "text": [
            "Epoch 20 | Loss: 0.2247\n"
          ]
        },
        {
          "output_type": "stream",
          "name": "stderr",
          "text": [
            "\n"
          ]
        }
      ]
    },
    {
      "cell_type": "code",
      "source": [
        "z.shape"
      ],
      "metadata": {
        "colab": {
          "base_uri": "https://localhost:8080/"
        },
        "id": "eVXpf8TcjI_S",
        "outputId": "3ec620d7-b938-4ae1-e5fb-3b71264d9059"
      },
      "execution_count": null,
      "outputs": [
        {
          "output_type": "execute_result",
          "data": {
            "text/plain": [
              "torch.Size([13147, 64])"
            ]
          },
          "metadata": {},
          "execution_count": 37
        }
      ]
    },
    {
      "cell_type": "code",
      "source": [
        "test_pos_index.shape"
      ],
      "metadata": {
        "colab": {
          "base_uri": "https://localhost:8080/"
        },
        "id": "dglEkE-dkXi_",
        "outputId": "2fd19265-745f-41d8-dcc5-dc76e3903f9b"
      },
      "execution_count": null,
      "outputs": [
        {
          "output_type": "execute_result",
          "data": {
            "text/plain": [
              "torch.Size([2, 14074])"
            ]
          },
          "metadata": {},
          "execution_count": 38
        }
      ]
    },
    {
      "cell_type": "code",
      "source": [
        "z[test_pos_index[0]].shape"
      ],
      "metadata": {
        "colab": {
          "base_uri": "https://localhost:8080/"
        },
        "id": "UPiximYmkjCL",
        "outputId": "603cd83a-77c7-4ec9-8390-d8b15d06e316"
      },
      "execution_count": null,
      "outputs": [
        {
          "output_type": "execute_result",
          "data": {
            "text/plain": [
              "torch.Size([14074, 64])"
            ]
          },
          "metadata": {},
          "execution_count": 39
        }
      ]
    },
    {
      "cell_type": "code",
      "source": [
        "z[test_pos_index[1]].shape"
      ],
      "metadata": {
        "colab": {
          "base_uri": "https://localhost:8080/"
        },
        "id": "RV1WGS8qkoR9",
        "outputId": "f7964a2c-d5a0-4c59-c834-4f89c6d60939"
      },
      "execution_count": null,
      "outputs": [
        {
          "output_type": "execute_result",
          "data": {
            "text/plain": [
              "torch.Size([14074, 64])"
            ]
          },
          "metadata": {},
          "execution_count": 40
        }
      ]
    },
    {
      "cell_type": "code",
      "source": [
        "test_pos_index[0]"
      ],
      "metadata": {
        "colab": {
          "base_uri": "https://localhost:8080/"
        },
        "id": "PMadA0nlkvv4",
        "outputId": "6ef9ee89-ecd8-4dca-ea4c-37ef1ab23e4a"
      },
      "execution_count": null,
      "outputs": [
        {
          "output_type": "execute_result",
          "data": {
            "text/plain": [
              "tensor([3668, 4622, 5459,  ...,  376,  843, 2632])"
            ]
          },
          "metadata": {},
          "execution_count": 41
        }
      ]
    },
    {
      "cell_type": "code",
      "source": [
        "z[test_pos_index[0]]"
      ],
      "metadata": {
        "colab": {
          "base_uri": "https://localhost:8080/"
        },
        "id": "WNbmOG02k2Yv",
        "outputId": "7a10f04e-bb96-4dbf-803a-e186d2ff8cc6"
      },
      "execution_count": null,
      "outputs": [
        {
          "output_type": "execute_result",
          "data": {
            "text/plain": [
              "tensor([[-0.2798,  0.2321,  0.2523,  ..., -0.2384,  0.2697, -0.1834],\n",
              "        [-0.3043,  0.2524,  0.2745,  ..., -0.2590,  0.2937, -0.2002],\n",
              "        [-0.1693,  0.1393,  0.1524,  ..., -0.1448,  0.1655, -0.1100],\n",
              "        ...,\n",
              "        [-0.1922,  0.1596,  0.1733,  ..., -0.1638,  0.1859, -0.1249],\n",
              "        [ 0.0734, -0.0121, -0.1187,  ...,  0.0192, -0.0689,  0.0542],\n",
              "        [-0.2995,  0.2490,  0.2700,  ..., -0.2552,  0.2888, -0.1968]],\n",
              "       grad_fn=<IndexBackward0>)"
            ]
          },
          "metadata": {},
          "execution_count": 42
        }
      ]
    },
    {
      "cell_type": "code",
      "source": [
        "pos_out.shape, neg_out.shape, out.shape"
      ],
      "metadata": {
        "colab": {
          "base_uri": "https://localhost:8080/"
        },
        "id": "Rb2SUI8Ek8Vi",
        "outputId": "1e4610ee-326d-4e43-a9c6-3265bc08d951"
      },
      "execution_count": null,
      "outputs": [
        {
          "output_type": "execute_result",
          "data": {
            "text/plain": [
              "(torch.Size([56293]), torch.Size([28146]), torch.Size([84439]))"
            ]
          },
          "metadata": {},
          "execution_count": 43
        }
      ]
    },
    {
      "cell_type": "markdown",
      "source": [
        "We now prepare the evaluation metrics for the project"
      ],
      "metadata": {
        "id": "3qWCVZAFnTia"
      }
    },
    {
      "cell_type": "code",
      "source": [
        "model.eval()\n",
        "with torch.no_grad():\n",
        "    z = model(data.x, data.edge_index)\n",
        "    pos_pred = torch.sigmoid(decode(z, test_pos_index)).numpy()\n",
        "    neg_pred = torch.sigmoid(decode(z, test_neg_index)).numpy()\n",
        "\n",
        "y_true = [1]*len(pos_pred) + [0]*len(neg_pred)\n",
        "y_score = list(pos_pred) + list(neg_pred)\n",
        "\n",
        "auc = roc_auc_score(y_true, y_score)\n",
        "ap = average_precision_score(y_true, y_score)\n",
        "print(f\"AUC: {auc:.4f}, Average Precision: {ap:.4f}\")"
      ],
      "metadata": {
        "colab": {
          "base_uri": "https://localhost:8080/"
        },
        "id": "A0YQ1BdenCYX",
        "outputId": "7f49f263-e2dc-420e-92fd-867825a0bede"
      },
      "execution_count": null,
      "outputs": [
        {
          "output_type": "stream",
          "name": "stdout",
          "text": [
            "AUC: 0.9679, Average Precision: 0.9739\n"
          ]
        }
      ]
    },
    {
      "cell_type": "markdown",
      "source": [
        "The loop prints the first 30 test-set positive edges, converting their integer node IDs back into the original GlobalId -> ProcessCapability pairs so we can verify what real relationships the model will be asked to predict."
      ],
      "metadata": {
        "id": "FrScO-BpnlQj"
      }
    },
    {
      "cell_type": "code",
      "source": [
        "for i in range(30):\n",
        "    u, v = test_pos_edges[i]\n",
        "    print(le_gid.inverse_transform([u])[0], '-->', le_cap.inverse_transform([v - len(le_gid.classes_)])[0])\n"
      ],
      "metadata": {
        "colab": {
          "base_uri": "https://localhost:8080/"
        },
        "id": "CISjObEQn1Xr",
        "outputId": "2aa4c84f-73c8-409f-a0d3-a01e2f6228d9"
      },
      "execution_count": null,
      "outputs": [
        {
          "output_type": "stream",
          "name": "stdout",
          "text": [
            "['manortool_dhs'] --> Milling Capability\n",
            "['plastic-bags_mskg'] --> Anodizing Capability\n",
            "['skiair_dhs'] --> Surface Preparation Capability\n",
            "['zioninduction_dhs'] --> Hardening Capability\n",
            "['gain-ind_dhs'] --> Machining Capability\n",
            "['gcnsupply_mskg'] --> Electro Plating Capability\n",
            "['exactinc_dhs'] --> Grinding Capability\n",
            "['swisslineprecision_mskg'] --> Polishing Capability\n",
            "['generalplug_dhs'] --> Tapping Capability\n",
            "['outroar_d&b'] --> Validation\n",
            "['vansindustrial_dhs'] --> Fabricating Capability\n",
            "['cuevasmachine_mskg'] --> Milling Capability\n",
            "['starkindustrial_mskg'] --> Drilling Capability\n",
            "['metalquest_dhs'] --> Machining Capability\n",
            "['wesco_az'] --> Finishing capability\n",
            "['stretchformingcorp_dhs'] --> Machining Capability\n",
            "['dcgprecision_mskg'] --> Forming Capability\n",
            "['bmprecision_dhs'] --> Milling Capability\n",
            "['innoflexcorp_dhs'] --> Etching Capability\n",
            "['techplating_dhs'] --> Electro Plating Capability\n",
            "['specialtytoolanddie_dhs'] --> Turning Capability\n",
            "['graphiccomp_d&b'] --> Die Cutting\n",
            "['cemaz_az'] --> Tapping capability\n",
            "['inventeng_mskg'] --> Fabricating Capability\n",
            "['bmmachine_mskg'] --> Machining Capability\n",
            "['mitchellmanufacturing_dhs'] --> Coating Capability\n",
            "['burbankplating_dhs'] --> Finishing Capability\n",
            "['joslyn-mfg_mskg'] --> Welding Capability\n",
            "['azprintco_d&b'] --> Coating UV Coating\n",
            "['cmtc_mskg'] --> Additive Manufacturing Capability\n"
          ]
        }
      ]
    }
  ]
}