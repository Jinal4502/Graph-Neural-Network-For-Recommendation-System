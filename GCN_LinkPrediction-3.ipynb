{
  "nbformat": 4,
  "nbformat_minor": 0,
  "metadata": {
    "colab": {
      "provenance": [],
      "gpuType": "T4"
    },
    "kernelspec": {
      "name": "python3",
      "display_name": "Python 3"
    },
    "language_info": {
      "name": "python"
    },
    "accelerator": "GPU"
  },
  "cells": [
    {
      "cell_type": "code",
      "source": [
        "pip install torch_geometric"
      ],
      "metadata": {
        "colab": {
          "base_uri": "https://localhost:8080/"
        },
        "id": "kIjFoDqpVsbG",
        "outputId": "41a3492a-c888-45d5-e692-aa40c1840ab6"
      },
      "execution_count": null,
      "outputs": [
        {
          "output_type": "stream",
          "name": "stdout",
          "text": [
            "Collecting torch_geometric\n",
            "  Downloading torch_geometric-2.6.1-py3-none-any.whl.metadata (63 kB)\n",
            "\u001b[?25l     \u001b[90m━━━━━━━━━━━━━━━━━━━━━━━━━━━━━━━━━━━━━━━━\u001b[0m \u001b[32m0.0/63.1 kB\u001b[0m \u001b[31m?\u001b[0m eta \u001b[36m-:--:--\u001b[0m\r\u001b[2K     \u001b[90m━━━━━━━━━━━━━━━━━━━━━━━━━━━━━━━━━━━━━━━━\u001b[0m \u001b[32m63.1/63.1 kB\u001b[0m \u001b[31m2.7 MB/s\u001b[0m eta \u001b[36m0:00:00\u001b[0m\n",
            "\u001b[?25hRequirement already satisfied: aiohttp in /usr/local/lib/python3.11/dist-packages (from torch_geometric) (3.11.15)\n",
            "Requirement already satisfied: fsspec in /usr/local/lib/python3.11/dist-packages (from torch_geometric) (2025.3.2)\n",
            "Requirement already satisfied: jinja2 in /usr/local/lib/python3.11/dist-packages (from torch_geometric) (3.1.6)\n",
            "Requirement already satisfied: numpy in /usr/local/lib/python3.11/dist-packages (from torch_geometric) (2.0.2)\n",
            "Requirement already satisfied: psutil>=5.8.0 in /usr/local/lib/python3.11/dist-packages (from torch_geometric) (5.9.5)\n",
            "Requirement already satisfied: pyparsing in /usr/local/lib/python3.11/dist-packages (from torch_geometric) (3.2.3)\n",
            "Requirement already satisfied: requests in /usr/local/lib/python3.11/dist-packages (from torch_geometric) (2.32.3)\n",
            "Requirement already satisfied: tqdm in /usr/local/lib/python3.11/dist-packages (from torch_geometric) (4.67.1)\n",
            "Requirement already satisfied: aiohappyeyeballs>=2.3.0 in /usr/local/lib/python3.11/dist-packages (from aiohttp->torch_geometric) (2.6.1)\n",
            "Requirement already satisfied: aiosignal>=1.1.2 in /usr/local/lib/python3.11/dist-packages (from aiohttp->torch_geometric) (1.3.2)\n",
            "Requirement already satisfied: attrs>=17.3.0 in /usr/local/lib/python3.11/dist-packages (from aiohttp->torch_geometric) (25.3.0)\n",
            "Requirement already satisfied: frozenlist>=1.1.1 in /usr/local/lib/python3.11/dist-packages (from aiohttp->torch_geometric) (1.6.0)\n",
            "Requirement already satisfied: multidict<7.0,>=4.5 in /usr/local/lib/python3.11/dist-packages (from aiohttp->torch_geometric) (6.4.3)\n",
            "Requirement already satisfied: propcache>=0.2.0 in /usr/local/lib/python3.11/dist-packages (from aiohttp->torch_geometric) (0.3.1)\n",
            "Requirement already satisfied: yarl<2.0,>=1.17.0 in /usr/local/lib/python3.11/dist-packages (from aiohttp->torch_geometric) (1.20.0)\n",
            "Requirement already satisfied: MarkupSafe>=2.0 in /usr/local/lib/python3.11/dist-packages (from jinja2->torch_geometric) (3.0.2)\n",
            "Requirement already satisfied: charset-normalizer<4,>=2 in /usr/local/lib/python3.11/dist-packages (from requests->torch_geometric) (3.4.1)\n",
            "Requirement already satisfied: idna<4,>=2.5 in /usr/local/lib/python3.11/dist-packages (from requests->torch_geometric) (3.10)\n",
            "Requirement already satisfied: urllib3<3,>=1.21.1 in /usr/local/lib/python3.11/dist-packages (from requests->torch_geometric) (2.4.0)\n",
            "Requirement already satisfied: certifi>=2017.4.17 in /usr/local/lib/python3.11/dist-packages (from requests->torch_geometric) (2025.4.26)\n",
            "Downloading torch_geometric-2.6.1-py3-none-any.whl (1.1 MB)\n",
            "\u001b[2K   \u001b[90m━━━━━━━━━━━━━━━━━━━━━━━━━━━━━━━━━━━━━━━━\u001b[0m \u001b[32m1.1/1.1 MB\u001b[0m \u001b[31m23.4 MB/s\u001b[0m eta \u001b[36m0:00:00\u001b[0m\n",
            "\u001b[?25hInstalling collected packages: torch_geometric\n",
            "Successfully installed torch_geometric-2.6.1\n"
          ]
        }
      ]
    },
    {
      "cell_type": "code",
      "execution_count": null,
      "metadata": {
        "id": "fbccIIkwpguk"
      },
      "outputs": [],
      "source": [
        "import pandas as pd\n",
        "import numpy as np\n",
        "import math\n",
        "import matplotlib.pyplot as plt\n",
        "import itertools\n",
        "import ast\n",
        "import pandas as pd\n",
        "import numpy as np\n",
        "import torch\n",
        "import random\n",
        "from sklearn.preprocessing import LabelEncoder\n",
        "from sklearn.metrics import roc_curve, roc_auc_score, average_precision_score\n",
        "from torch_geometric.data import Data\n",
        "from torch_geometric.nn import GCNConv\n",
        "import torch.nn.functional as F\n",
        "from tqdm import tqdm\n",
        "import torch.nn as nn"
      ]
    },
    {
      "cell_type": "code",
      "source": [
        "from google.colab import drive"
      ],
      "metadata": {
        "id": "01F3AKPdplYm"
      },
      "execution_count": null,
      "outputs": []
    },
    {
      "cell_type": "code",
      "source": [
        "drive.mount('/content/drive')"
      ],
      "metadata": {
        "colab": {
          "base_uri": "https://localhost:8080/"
        },
        "id": "b9tX1KhjpnbT",
        "outputId": "bf8eca39-8ecd-466a-f8e8-6f0cc41a04e0"
      },
      "execution_count": null,
      "outputs": [
        {
          "output_type": "stream",
          "name": "stdout",
          "text": [
            "Mounted at /content/drive\n"
          ]
        }
      ]
    },
    {
      "cell_type": "code",
      "source": [
        "df = pd.read_csv('/content/drive/MyDrive/temp_manu.csv').drop(columns=['Unnamed: 0'])\n",
        "df"
      ],
      "metadata": {
        "colab": {
          "base_uri": "https://localhost:8080/",
          "height": 932
        },
        "id": "VtiXdz86pnb9",
        "outputId": "21121172-6f91-4542-d6d9-96ec48dfe4c0",
        "collapsed": true
      },
      "execution_count": null,
      "outputs": [
        {
          "output_type": "execute_result",
          "data": {
            "text/plain": [
              "                        GlobalId                            Web  \\\n",
              "0        ['westindiesvalve_dhs']    ['www.westindiesvalve.com']   \n",
              "1                ['101pipe_dhs']            ['www.101pipe.com']   \n",
              "2             ['149401-us_mskg']      ['www.149401-us.all.biz']   \n",
              "3       ['1776fabrication_mskg']    ['www.1776fabrication.com']   \n",
              "4              ['1dietech_mskg']           ['www.1dietech.com']   \n",
              "...                          ...                            ...   \n",
              "14741       ['windigosigns_d&b']       ['www.windigosigns.com']   \n",
              "14742            ['xantusb_d&b']    ['www.xantusb.openfos.com']   \n",
              "14743  ['vicivisionamerica_d&b']  ['www.vicivisionamerica.com']   \n",
              "14744           ['infineon_d&b']      ['www-blue.infineon.com']   \n",
              "14745   ['westfall-technik_d&b']   ['www.westfall-technik.com']   \n",
              "\n",
              "                                                    Name Employees  \\\n",
              "0      ['WEST INDIES VALVE AND MACHINE WORK CORPORATI...     [0.0]   \n",
              "1                     ['101 VERTICAL FABRICATION, INC.']    [50.0]   \n",
              "2                                          ['149401-US']        []   \n",
              "3                                   ['1776 Fabrication']        []   \n",
              "4                                          ['1Dietech.']        []   \n",
              "...                                                  ...       ...   \n",
              "14741                                   ['windigosigns']        []   \n",
              "14742                                ['xantusb.openfos']        []   \n",
              "14743                              ['vicivisionamerica']        []   \n",
              "14744                              ['www-blue.infineon']        []   \n",
              "14745                               ['westfall-technik']        []   \n",
              "\n",
              "                                     BusinessDescription DataSource  \\\n",
              "0                                                     []    ['DHS']   \n",
              "1                                                     []    ['DHS']   \n",
              "2                                                     []   ['MSKG']   \n",
              "3                                                     []   ['MSKG']   \n",
              "4                                                     []   ['MSKG']   \n",
              "...                                                  ...        ...   \n",
              "14741  ['Windigo Signs, Inc. is primarily engaged in ...    ['D&B']   \n",
              "14742  ['Xantus Business Systems Llc is primarily eng...    ['D&B']   \n",
              "14743  ['Vicivision America Llc is primarily engaged ...    ['D&B']   \n",
              "14744  ['Infineon Technologies Americas Corp. is prim...    ['D&B']   \n",
              "14745  ['Westfall Technik, Inc. is primarily engaged ...    ['D&B']   \n",
              "\n",
              "      ContractManufacturer ProductManufacturer  \\\n",
              "0                   ['No']              ['No']   \n",
              "1                   ['No']             ['Yes']   \n",
              "2                   ['No']             ['Yes']   \n",
              "3                  ['Yes']             ['Yes']   \n",
              "4                  ['Yes']             ['Yes']   \n",
              "...                    ...                 ...   \n",
              "14741               ['No']             ['Yes']   \n",
              "14742               ['No']             ['Yes']   \n",
              "14743               ['No']             ['Yes']   \n",
              "14744                   []                  []   \n",
              "14745              ['Yes']              ['No']   \n",
              "\n",
              "                                            Industry  \\\n",
              "0                                                 []   \n",
              "1                                                 []   \n",
              "2                        ['Transportation Industry']   \n",
              "3                            ['Automotive Industry']   \n",
              "4      ['Automotive Industry', 'Furniture Industry']   \n",
              "...                                              ...   \n",
              "14741                                   ['Aluminum']   \n",
              "14742                                             []   \n",
              "14743                                             []   \n",
              "14744               ['Concrete', 'Lead', 'Titanium']   \n",
              "14745                                       ['Lead']   \n",
              "\n",
              "                    Certification  ...                  City  \\\n",
              "0            ['ASME Certificate']  ...          ['Penuelas']   \n",
              "1                              []  ...           ['Fontana']   \n",
              "2        ['ISO 9001 Certificate']  ...                    []   \n",
              "3                              []  ...                    []   \n",
              "4      ['IATF 16949 Certificate']  ...        ['Carrollton']   \n",
              "...                           ...  ...                   ...   \n",
              "14741                          []  ...             ['Tempe']   \n",
              "14742                          []  ...      ['Sierra Vista']   \n",
              "14743                          []  ...        ['Scottsdale']   \n",
              "14744                          []  ...  ['Mesa', 'Chandler']   \n",
              "14745                          []  ...             ['Tempe']   \n",
              "\n",
              "                   County           State Zip      Latitude       Longitude  \\\n",
              "0            ['Penuelas']          ['PR']  []  [18.0054364]   [-66.7276429]   \n",
              "1      ['San Bernardino']  ['California']  []  [34.0677902]  [-117.4708951]   \n",
              "2                      []              []  []            []              []   \n",
              "3                      []              []  []            []              []   \n",
              "4                      []     ['Georgia']  []   [33.566767]    [-85.078863]   \n",
              "...                   ...             ...  ..           ...             ...   \n",
              "14741        ['Maricopa']     ['Arizona']  []            []              []   \n",
              "14742         ['Cochise']     ['Arizona']  []            []              []   \n",
              "14743        ['Maricopa']     ['Arizona']  []            []              []   \n",
              "14744        ['Maricopa']     ['Arizona']  []            []              []   \n",
              "14745        ['Maricopa']     ['Arizona']  []            []              []   \n",
              "\n",
              "                                      Phone                 Fax   NAICSCode  \\\n",
              "0                        ['(787) 836-1707']   ['NOT AVAILABLE']  [332919.0]   \n",
              "1                        ['(909) 428-6000']  ['(909) 428-4535']  [332996.0]   \n",
              "2                                        []                  []          []   \n",
              "3                                        []                  []          []   \n",
              "4                                        []                  []          []   \n",
              "...                                     ...                 ...         ...   \n",
              "14741                    ['1-844-946-3446']                  []  [339950.0]   \n",
              "14742                    ['1-520-459-7809']                  []  [323111.0]   \n",
              "14743                    ['1-480-212-5172']                  []  [333310.0]   \n",
              "14744  ['1-480-655-7701', '1-480-627-5700']                  []  [334413.0]   \n",
              "14745                    ['1-702-659-9898']                  []  [325211.0]   \n",
              "\n",
              "                                        NAICSDescription  \n",
              "0      ['OTHER METAL VALVE AND PIPE FITTING MANUFACTU...  \n",
              "1      ['FABRICATED PIPE AND PIPE FITTING MANUFACTURI...  \n",
              "2                                                     []  \n",
              "3                                                     []  \n",
              "4                                                     []  \n",
              "...                                                  ...  \n",
              "14741                             ['Sign Manufacturing']  \n",
              "14742  ['Commercial Printing (except Screen and Books)']  \n",
              "14743  ['Commercial and Service Industry Machinery Ma...  \n",
              "14744  ['Semiconductor and Related Device Manufacturi...  \n",
              "14745      ['Plastics Material and Resin Manufacturing']  \n",
              "\n",
              "[14746 rows x 25 columns]"
            ],
            "text/html": [
              "\n",
              "  <div id=\"df-db9de257-1add-478d-9529-47e18e3ccca8\" class=\"colab-df-container\">\n",
              "    <div>\n",
              "<style scoped>\n",
              "    .dataframe tbody tr th:only-of-type {\n",
              "        vertical-align: middle;\n",
              "    }\n",
              "\n",
              "    .dataframe tbody tr th {\n",
              "        vertical-align: top;\n",
              "    }\n",
              "\n",
              "    .dataframe thead th {\n",
              "        text-align: right;\n",
              "    }\n",
              "</style>\n",
              "<table border=\"1\" class=\"dataframe\">\n",
              "  <thead>\n",
              "    <tr style=\"text-align: right;\">\n",
              "      <th></th>\n",
              "      <th>GlobalId</th>\n",
              "      <th>Web</th>\n",
              "      <th>Name</th>\n",
              "      <th>Employees</th>\n",
              "      <th>BusinessDescription</th>\n",
              "      <th>DataSource</th>\n",
              "      <th>ContractManufacturer</th>\n",
              "      <th>ProductManufacturer</th>\n",
              "      <th>Industry</th>\n",
              "      <th>Certification</th>\n",
              "      <th>...</th>\n",
              "      <th>City</th>\n",
              "      <th>County</th>\n",
              "      <th>State</th>\n",
              "      <th>Zip</th>\n",
              "      <th>Latitude</th>\n",
              "      <th>Longitude</th>\n",
              "      <th>Phone</th>\n",
              "      <th>Fax</th>\n",
              "      <th>NAICSCode</th>\n",
              "      <th>NAICSDescription</th>\n",
              "    </tr>\n",
              "  </thead>\n",
              "  <tbody>\n",
              "    <tr>\n",
              "      <th>0</th>\n",
              "      <td>['westindiesvalve_dhs']</td>\n",
              "      <td>['www.westindiesvalve.com']</td>\n",
              "      <td>['WEST INDIES VALVE AND MACHINE WORK CORPORATI...</td>\n",
              "      <td>[0.0]</td>\n",
              "      <td>[]</td>\n",
              "      <td>['DHS']</td>\n",
              "      <td>['No']</td>\n",
              "      <td>['No']</td>\n",
              "      <td>[]</td>\n",
              "      <td>['ASME Certificate']</td>\n",
              "      <td>...</td>\n",
              "      <td>['Penuelas']</td>\n",
              "      <td>['Penuelas']</td>\n",
              "      <td>['PR']</td>\n",
              "      <td>[]</td>\n",
              "      <td>[18.0054364]</td>\n",
              "      <td>[-66.7276429]</td>\n",
              "      <td>['(787) 836-1707']</td>\n",
              "      <td>['NOT AVAILABLE']</td>\n",
              "      <td>[332919.0]</td>\n",
              "      <td>['OTHER METAL VALVE AND PIPE FITTING MANUFACTU...</td>\n",
              "    </tr>\n",
              "    <tr>\n",
              "      <th>1</th>\n",
              "      <td>['101pipe_dhs']</td>\n",
              "      <td>['www.101pipe.com']</td>\n",
              "      <td>['101 VERTICAL FABRICATION, INC.']</td>\n",
              "      <td>[50.0]</td>\n",
              "      <td>[]</td>\n",
              "      <td>['DHS']</td>\n",
              "      <td>['No']</td>\n",
              "      <td>['Yes']</td>\n",
              "      <td>[]</td>\n",
              "      <td>[]</td>\n",
              "      <td>...</td>\n",
              "      <td>['Fontana']</td>\n",
              "      <td>['San Bernardino']</td>\n",
              "      <td>['California']</td>\n",
              "      <td>[]</td>\n",
              "      <td>[34.0677902]</td>\n",
              "      <td>[-117.4708951]</td>\n",
              "      <td>['(909) 428-6000']</td>\n",
              "      <td>['(909) 428-4535']</td>\n",
              "      <td>[332996.0]</td>\n",
              "      <td>['FABRICATED PIPE AND PIPE FITTING MANUFACTURI...</td>\n",
              "    </tr>\n",
              "    <tr>\n",
              "      <th>2</th>\n",
              "      <td>['149401-us_mskg']</td>\n",
              "      <td>['www.149401-us.all.biz']</td>\n",
              "      <td>['149401-US']</td>\n",
              "      <td>[]</td>\n",
              "      <td>[]</td>\n",
              "      <td>['MSKG']</td>\n",
              "      <td>['No']</td>\n",
              "      <td>['Yes']</td>\n",
              "      <td>['Transportation Industry']</td>\n",
              "      <td>['ISO 9001 Certificate']</td>\n",
              "      <td>...</td>\n",
              "      <td>[]</td>\n",
              "      <td>[]</td>\n",
              "      <td>[]</td>\n",
              "      <td>[]</td>\n",
              "      <td>[]</td>\n",
              "      <td>[]</td>\n",
              "      <td>[]</td>\n",
              "      <td>[]</td>\n",
              "      <td>[]</td>\n",
              "      <td>[]</td>\n",
              "    </tr>\n",
              "    <tr>\n",
              "      <th>3</th>\n",
              "      <td>['1776fabrication_mskg']</td>\n",
              "      <td>['www.1776fabrication.com']</td>\n",
              "      <td>['1776 Fabrication']</td>\n",
              "      <td>[]</td>\n",
              "      <td>[]</td>\n",
              "      <td>['MSKG']</td>\n",
              "      <td>['Yes']</td>\n",
              "      <td>['Yes']</td>\n",
              "      <td>['Automotive Industry']</td>\n",
              "      <td>[]</td>\n",
              "      <td>...</td>\n",
              "      <td>[]</td>\n",
              "      <td>[]</td>\n",
              "      <td>[]</td>\n",
              "      <td>[]</td>\n",
              "      <td>[]</td>\n",
              "      <td>[]</td>\n",
              "      <td>[]</td>\n",
              "      <td>[]</td>\n",
              "      <td>[]</td>\n",
              "      <td>[]</td>\n",
              "    </tr>\n",
              "    <tr>\n",
              "      <th>4</th>\n",
              "      <td>['1dietech_mskg']</td>\n",
              "      <td>['www.1dietech.com']</td>\n",
              "      <td>['1Dietech.']</td>\n",
              "      <td>[]</td>\n",
              "      <td>[]</td>\n",
              "      <td>['MSKG']</td>\n",
              "      <td>['Yes']</td>\n",
              "      <td>['Yes']</td>\n",
              "      <td>['Automotive Industry', 'Furniture Industry']</td>\n",
              "      <td>['IATF 16949 Certificate']</td>\n",
              "      <td>...</td>\n",
              "      <td>['Carrollton']</td>\n",
              "      <td>[]</td>\n",
              "      <td>['Georgia']</td>\n",
              "      <td>[]</td>\n",
              "      <td>[33.566767]</td>\n",
              "      <td>[-85.078863]</td>\n",
              "      <td>[]</td>\n",
              "      <td>[]</td>\n",
              "      <td>[]</td>\n",
              "      <td>[]</td>\n",
              "    </tr>\n",
              "    <tr>\n",
              "      <th>...</th>\n",
              "      <td>...</td>\n",
              "      <td>...</td>\n",
              "      <td>...</td>\n",
              "      <td>...</td>\n",
              "      <td>...</td>\n",
              "      <td>...</td>\n",
              "      <td>...</td>\n",
              "      <td>...</td>\n",
              "      <td>...</td>\n",
              "      <td>...</td>\n",
              "      <td>...</td>\n",
              "      <td>...</td>\n",
              "      <td>...</td>\n",
              "      <td>...</td>\n",
              "      <td>...</td>\n",
              "      <td>...</td>\n",
              "      <td>...</td>\n",
              "      <td>...</td>\n",
              "      <td>...</td>\n",
              "      <td>...</td>\n",
              "      <td>...</td>\n",
              "    </tr>\n",
              "    <tr>\n",
              "      <th>14741</th>\n",
              "      <td>['windigosigns_d&amp;b']</td>\n",
              "      <td>['www.windigosigns.com']</td>\n",
              "      <td>['windigosigns']</td>\n",
              "      <td>[]</td>\n",
              "      <td>['Windigo Signs, Inc. is primarily engaged in ...</td>\n",
              "      <td>['D&amp;B']</td>\n",
              "      <td>['No']</td>\n",
              "      <td>['Yes']</td>\n",
              "      <td>['Aluminum']</td>\n",
              "      <td>[]</td>\n",
              "      <td>...</td>\n",
              "      <td>['Tempe']</td>\n",
              "      <td>['Maricopa']</td>\n",
              "      <td>['Arizona']</td>\n",
              "      <td>[]</td>\n",
              "      <td>[]</td>\n",
              "      <td>[]</td>\n",
              "      <td>['1-844-946-3446']</td>\n",
              "      <td>[]</td>\n",
              "      <td>[339950.0]</td>\n",
              "      <td>['Sign Manufacturing']</td>\n",
              "    </tr>\n",
              "    <tr>\n",
              "      <th>14742</th>\n",
              "      <td>['xantusb_d&amp;b']</td>\n",
              "      <td>['www.xantusb.openfos.com']</td>\n",
              "      <td>['xantusb.openfos']</td>\n",
              "      <td>[]</td>\n",
              "      <td>['Xantus Business Systems Llc is primarily eng...</td>\n",
              "      <td>['D&amp;B']</td>\n",
              "      <td>['No']</td>\n",
              "      <td>['Yes']</td>\n",
              "      <td>[]</td>\n",
              "      <td>[]</td>\n",
              "      <td>...</td>\n",
              "      <td>['Sierra Vista']</td>\n",
              "      <td>['Cochise']</td>\n",
              "      <td>['Arizona']</td>\n",
              "      <td>[]</td>\n",
              "      <td>[]</td>\n",
              "      <td>[]</td>\n",
              "      <td>['1-520-459-7809']</td>\n",
              "      <td>[]</td>\n",
              "      <td>[323111.0]</td>\n",
              "      <td>['Commercial Printing (except Screen and Books)']</td>\n",
              "    </tr>\n",
              "    <tr>\n",
              "      <th>14743</th>\n",
              "      <td>['vicivisionamerica_d&amp;b']</td>\n",
              "      <td>['www.vicivisionamerica.com']</td>\n",
              "      <td>['vicivisionamerica']</td>\n",
              "      <td>[]</td>\n",
              "      <td>['Vicivision America Llc is primarily engaged ...</td>\n",
              "      <td>['D&amp;B']</td>\n",
              "      <td>['No']</td>\n",
              "      <td>['Yes']</td>\n",
              "      <td>[]</td>\n",
              "      <td>[]</td>\n",
              "      <td>...</td>\n",
              "      <td>['Scottsdale']</td>\n",
              "      <td>['Maricopa']</td>\n",
              "      <td>['Arizona']</td>\n",
              "      <td>[]</td>\n",
              "      <td>[]</td>\n",
              "      <td>[]</td>\n",
              "      <td>['1-480-212-5172']</td>\n",
              "      <td>[]</td>\n",
              "      <td>[333310.0]</td>\n",
              "      <td>['Commercial and Service Industry Machinery Ma...</td>\n",
              "    </tr>\n",
              "    <tr>\n",
              "      <th>14744</th>\n",
              "      <td>['infineon_d&amp;b']</td>\n",
              "      <td>['www-blue.infineon.com']</td>\n",
              "      <td>['www-blue.infineon']</td>\n",
              "      <td>[]</td>\n",
              "      <td>['Infineon Technologies Americas Corp. is prim...</td>\n",
              "      <td>['D&amp;B']</td>\n",
              "      <td>[]</td>\n",
              "      <td>[]</td>\n",
              "      <td>['Concrete', 'Lead', 'Titanium']</td>\n",
              "      <td>[]</td>\n",
              "      <td>...</td>\n",
              "      <td>['Mesa', 'Chandler']</td>\n",
              "      <td>['Maricopa']</td>\n",
              "      <td>['Arizona']</td>\n",
              "      <td>[]</td>\n",
              "      <td>[]</td>\n",
              "      <td>[]</td>\n",
              "      <td>['1-480-655-7701', '1-480-627-5700']</td>\n",
              "      <td>[]</td>\n",
              "      <td>[334413.0]</td>\n",
              "      <td>['Semiconductor and Related Device Manufacturi...</td>\n",
              "    </tr>\n",
              "    <tr>\n",
              "      <th>14745</th>\n",
              "      <td>['westfall-technik_d&amp;b']</td>\n",
              "      <td>['www.westfall-technik.com']</td>\n",
              "      <td>['westfall-technik']</td>\n",
              "      <td>[]</td>\n",
              "      <td>['Westfall Technik, Inc. is primarily engaged ...</td>\n",
              "      <td>['D&amp;B']</td>\n",
              "      <td>['Yes']</td>\n",
              "      <td>['No']</td>\n",
              "      <td>['Lead']</td>\n",
              "      <td>[]</td>\n",
              "      <td>...</td>\n",
              "      <td>['Tempe']</td>\n",
              "      <td>['Maricopa']</td>\n",
              "      <td>['Arizona']</td>\n",
              "      <td>[]</td>\n",
              "      <td>[]</td>\n",
              "      <td>[]</td>\n",
              "      <td>['1-702-659-9898']</td>\n",
              "      <td>[]</td>\n",
              "      <td>[325211.0]</td>\n",
              "      <td>['Plastics Material and Resin Manufacturing']</td>\n",
              "    </tr>\n",
              "  </tbody>\n",
              "</table>\n",
              "<p>14746 rows × 25 columns</p>\n",
              "</div>\n",
              "    <div class=\"colab-df-buttons\">\n",
              "\n",
              "  <div class=\"colab-df-container\">\n",
              "    <button class=\"colab-df-convert\" onclick=\"convertToInteractive('df-db9de257-1add-478d-9529-47e18e3ccca8')\"\n",
              "            title=\"Convert this dataframe to an interactive table.\"\n",
              "            style=\"display:none;\">\n",
              "\n",
              "  <svg xmlns=\"http://www.w3.org/2000/svg\" height=\"24px\" viewBox=\"0 -960 960 960\">\n",
              "    <path d=\"M120-120v-720h720v720H120Zm60-500h600v-160H180v160Zm220 220h160v-160H400v160Zm0 220h160v-160H400v160ZM180-400h160v-160H180v160Zm440 0h160v-160H620v160ZM180-180h160v-160H180v160Zm440 0h160v-160H620v160Z\"/>\n",
              "  </svg>\n",
              "    </button>\n",
              "\n",
              "  <style>\n",
              "    .colab-df-container {\n",
              "      display:flex;\n",
              "      gap: 12px;\n",
              "    }\n",
              "\n",
              "    .colab-df-convert {\n",
              "      background-color: #E8F0FE;\n",
              "      border: none;\n",
              "      border-radius: 50%;\n",
              "      cursor: pointer;\n",
              "      display: none;\n",
              "      fill: #1967D2;\n",
              "      height: 32px;\n",
              "      padding: 0 0 0 0;\n",
              "      width: 32px;\n",
              "    }\n",
              "\n",
              "    .colab-df-convert:hover {\n",
              "      background-color: #E2EBFA;\n",
              "      box-shadow: 0px 1px 2px rgba(60, 64, 67, 0.3), 0px 1px 3px 1px rgba(60, 64, 67, 0.15);\n",
              "      fill: #174EA6;\n",
              "    }\n",
              "\n",
              "    .colab-df-buttons div {\n",
              "      margin-bottom: 4px;\n",
              "    }\n",
              "\n",
              "    [theme=dark] .colab-df-convert {\n",
              "      background-color: #3B4455;\n",
              "      fill: #D2E3FC;\n",
              "    }\n",
              "\n",
              "    [theme=dark] .colab-df-convert:hover {\n",
              "      background-color: #434B5C;\n",
              "      box-shadow: 0px 1px 3px 1px rgba(0, 0, 0, 0.15);\n",
              "      filter: drop-shadow(0px 1px 2px rgba(0, 0, 0, 0.3));\n",
              "      fill: #FFFFFF;\n",
              "    }\n",
              "  </style>\n",
              "\n",
              "    <script>\n",
              "      const buttonEl =\n",
              "        document.querySelector('#df-db9de257-1add-478d-9529-47e18e3ccca8 button.colab-df-convert');\n",
              "      buttonEl.style.display =\n",
              "        google.colab.kernel.accessAllowed ? 'block' : 'none';\n",
              "\n",
              "      async function convertToInteractive(key) {\n",
              "        const element = document.querySelector('#df-db9de257-1add-478d-9529-47e18e3ccca8');\n",
              "        const dataTable =\n",
              "          await google.colab.kernel.invokeFunction('convertToInteractive',\n",
              "                                                    [key], {});\n",
              "        if (!dataTable) return;\n",
              "\n",
              "        const docLinkHtml = 'Like what you see? Visit the ' +\n",
              "          '<a target=\"_blank\" href=https://colab.research.google.com/notebooks/data_table.ipynb>data table notebook</a>'\n",
              "          + ' to learn more about interactive tables.';\n",
              "        element.innerHTML = '';\n",
              "        dataTable['output_type'] = 'display_data';\n",
              "        await google.colab.output.renderOutput(dataTable, element);\n",
              "        const docLink = document.createElement('div');\n",
              "        docLink.innerHTML = docLinkHtml;\n",
              "        element.appendChild(docLink);\n",
              "      }\n",
              "    </script>\n",
              "  </div>\n",
              "\n",
              "\n",
              "    <div id=\"df-80d0d2e6-bb60-44ab-a0ab-0fea0b40c9e7\">\n",
              "      <button class=\"colab-df-quickchart\" onclick=\"quickchart('df-80d0d2e6-bb60-44ab-a0ab-0fea0b40c9e7')\"\n",
              "                title=\"Suggest charts\"\n",
              "                style=\"display:none;\">\n",
              "\n",
              "<svg xmlns=\"http://www.w3.org/2000/svg\" height=\"24px\"viewBox=\"0 0 24 24\"\n",
              "     width=\"24px\">\n",
              "    <g>\n",
              "        <path d=\"M19 3H5c-1.1 0-2 .9-2 2v14c0 1.1.9 2 2 2h14c1.1 0 2-.9 2-2V5c0-1.1-.9-2-2-2zM9 17H7v-7h2v7zm4 0h-2V7h2v10zm4 0h-2v-4h2v4z\"/>\n",
              "    </g>\n",
              "</svg>\n",
              "      </button>\n",
              "\n",
              "<style>\n",
              "  .colab-df-quickchart {\n",
              "      --bg-color: #E8F0FE;\n",
              "      --fill-color: #1967D2;\n",
              "      --hover-bg-color: #E2EBFA;\n",
              "      --hover-fill-color: #174EA6;\n",
              "      --disabled-fill-color: #AAA;\n",
              "      --disabled-bg-color: #DDD;\n",
              "  }\n",
              "\n",
              "  [theme=dark] .colab-df-quickchart {\n",
              "      --bg-color: #3B4455;\n",
              "      --fill-color: #D2E3FC;\n",
              "      --hover-bg-color: #434B5C;\n",
              "      --hover-fill-color: #FFFFFF;\n",
              "      --disabled-bg-color: #3B4455;\n",
              "      --disabled-fill-color: #666;\n",
              "  }\n",
              "\n",
              "  .colab-df-quickchart {\n",
              "    background-color: var(--bg-color);\n",
              "    border: none;\n",
              "    border-radius: 50%;\n",
              "    cursor: pointer;\n",
              "    display: none;\n",
              "    fill: var(--fill-color);\n",
              "    height: 32px;\n",
              "    padding: 0;\n",
              "    width: 32px;\n",
              "  }\n",
              "\n",
              "  .colab-df-quickchart:hover {\n",
              "    background-color: var(--hover-bg-color);\n",
              "    box-shadow: 0 1px 2px rgba(60, 64, 67, 0.3), 0 1px 3px 1px rgba(60, 64, 67, 0.15);\n",
              "    fill: var(--button-hover-fill-color);\n",
              "  }\n",
              "\n",
              "  .colab-df-quickchart-complete:disabled,\n",
              "  .colab-df-quickchart-complete:disabled:hover {\n",
              "    background-color: var(--disabled-bg-color);\n",
              "    fill: var(--disabled-fill-color);\n",
              "    box-shadow: none;\n",
              "  }\n",
              "\n",
              "  .colab-df-spinner {\n",
              "    border: 2px solid var(--fill-color);\n",
              "    border-color: transparent;\n",
              "    border-bottom-color: var(--fill-color);\n",
              "    animation:\n",
              "      spin 1s steps(1) infinite;\n",
              "  }\n",
              "\n",
              "  @keyframes spin {\n",
              "    0% {\n",
              "      border-color: transparent;\n",
              "      border-bottom-color: var(--fill-color);\n",
              "      border-left-color: var(--fill-color);\n",
              "    }\n",
              "    20% {\n",
              "      border-color: transparent;\n",
              "      border-left-color: var(--fill-color);\n",
              "      border-top-color: var(--fill-color);\n",
              "    }\n",
              "    30% {\n",
              "      border-color: transparent;\n",
              "      border-left-color: var(--fill-color);\n",
              "      border-top-color: var(--fill-color);\n",
              "      border-right-color: var(--fill-color);\n",
              "    }\n",
              "    40% {\n",
              "      border-color: transparent;\n",
              "      border-right-color: var(--fill-color);\n",
              "      border-top-color: var(--fill-color);\n",
              "    }\n",
              "    60% {\n",
              "      border-color: transparent;\n",
              "      border-right-color: var(--fill-color);\n",
              "    }\n",
              "    80% {\n",
              "      border-color: transparent;\n",
              "      border-right-color: var(--fill-color);\n",
              "      border-bottom-color: var(--fill-color);\n",
              "    }\n",
              "    90% {\n",
              "      border-color: transparent;\n",
              "      border-bottom-color: var(--fill-color);\n",
              "    }\n",
              "  }\n",
              "</style>\n",
              "\n",
              "      <script>\n",
              "        async function quickchart(key) {\n",
              "          const quickchartButtonEl =\n",
              "            document.querySelector('#' + key + ' button');\n",
              "          quickchartButtonEl.disabled = true;  // To prevent multiple clicks.\n",
              "          quickchartButtonEl.classList.add('colab-df-spinner');\n",
              "          try {\n",
              "            const charts = await google.colab.kernel.invokeFunction(\n",
              "                'suggestCharts', [key], {});\n",
              "          } catch (error) {\n",
              "            console.error('Error during call to suggestCharts:', error);\n",
              "          }\n",
              "          quickchartButtonEl.classList.remove('colab-df-spinner');\n",
              "          quickchartButtonEl.classList.add('colab-df-quickchart-complete');\n",
              "        }\n",
              "        (() => {\n",
              "          let quickchartButtonEl =\n",
              "            document.querySelector('#df-80d0d2e6-bb60-44ab-a0ab-0fea0b40c9e7 button');\n",
              "          quickchartButtonEl.style.display =\n",
              "            google.colab.kernel.accessAllowed ? 'block' : 'none';\n",
              "        })();\n",
              "      </script>\n",
              "    </div>\n",
              "\n",
              "  <div id=\"id_05b82b4c-f7d9-4cad-aa04-afbe94afe49b\">\n",
              "    <style>\n",
              "      .colab-df-generate {\n",
              "        background-color: #E8F0FE;\n",
              "        border: none;\n",
              "        border-radius: 50%;\n",
              "        cursor: pointer;\n",
              "        display: none;\n",
              "        fill: #1967D2;\n",
              "        height: 32px;\n",
              "        padding: 0 0 0 0;\n",
              "        width: 32px;\n",
              "      }\n",
              "\n",
              "      .colab-df-generate:hover {\n",
              "        background-color: #E2EBFA;\n",
              "        box-shadow: 0px 1px 2px rgba(60, 64, 67, 0.3), 0px 1px 3px 1px rgba(60, 64, 67, 0.15);\n",
              "        fill: #174EA6;\n",
              "      }\n",
              "\n",
              "      [theme=dark] .colab-df-generate {\n",
              "        background-color: #3B4455;\n",
              "        fill: #D2E3FC;\n",
              "      }\n",
              "\n",
              "      [theme=dark] .colab-df-generate:hover {\n",
              "        background-color: #434B5C;\n",
              "        box-shadow: 0px 1px 3px 1px rgba(0, 0, 0, 0.15);\n",
              "        filter: drop-shadow(0px 1px 2px rgba(0, 0, 0, 0.3));\n",
              "        fill: #FFFFFF;\n",
              "      }\n",
              "    </style>\n",
              "    <button class=\"colab-df-generate\" onclick=\"generateWithVariable('df')\"\n",
              "            title=\"Generate code using this dataframe.\"\n",
              "            style=\"display:none;\">\n",
              "\n",
              "  <svg xmlns=\"http://www.w3.org/2000/svg\" height=\"24px\"viewBox=\"0 0 24 24\"\n",
              "       width=\"24px\">\n",
              "    <path d=\"M7,19H8.4L18.45,9,17,7.55,7,17.6ZM5,21V16.75L18.45,3.32a2,2,0,0,1,2.83,0l1.4,1.43a1.91,1.91,0,0,1,.58,1.4,1.91,1.91,0,0,1-.58,1.4L9.25,21ZM18.45,9,17,7.55Zm-12,3A5.31,5.31,0,0,0,4.9,8.1,5.31,5.31,0,0,0,1,6.5,5.31,5.31,0,0,0,4.9,4.9,5.31,5.31,0,0,0,6.5,1,5.31,5.31,0,0,0,8.1,4.9,5.31,5.31,0,0,0,12,6.5,5.46,5.46,0,0,0,6.5,12Z\"/>\n",
              "  </svg>\n",
              "    </button>\n",
              "    <script>\n",
              "      (() => {\n",
              "      const buttonEl =\n",
              "        document.querySelector('#id_05b82b4c-f7d9-4cad-aa04-afbe94afe49b button.colab-df-generate');\n",
              "      buttonEl.style.display =\n",
              "        google.colab.kernel.accessAllowed ? 'block' : 'none';\n",
              "\n",
              "      buttonEl.onclick = () => {\n",
              "        google.colab.notebook.generateWithVariable('df');\n",
              "      }\n",
              "      })();\n",
              "    </script>\n",
              "  </div>\n",
              "\n",
              "    </div>\n",
              "  </div>\n"
            ],
            "application/vnd.google.colaboratory.intrinsic+json": {
              "type": "dataframe",
              "variable_name": "df"
            }
          },
          "metadata": {},
          "execution_count": 5
        }
      ]
    },
    {
      "cell_type": "code",
      "source": [
        "df = df[['GlobalId', 'ProcessCapability']]\n",
        "df"
      ],
      "metadata": {
        "colab": {
          "base_uri": "https://localhost:8080/",
          "height": 419
        },
        "id": "kT9gLHL0pnd7",
        "outputId": "0458a1bb-e2b0-41d8-c4cf-9f377b5fc881",
        "collapsed": true
      },
      "execution_count": null,
      "outputs": [
        {
          "output_type": "execute_result",
          "data": {
            "text/plain": [
              "                        GlobalId  \\\n",
              "0        ['westindiesvalve_dhs']   \n",
              "1                ['101pipe_dhs']   \n",
              "2             ['149401-us_mskg']   \n",
              "3       ['1776fabrication_mskg']   \n",
              "4              ['1dietech_mskg']   \n",
              "...                          ...   \n",
              "14741       ['windigosigns_d&b']   \n",
              "14742            ['xantusb_d&b']   \n",
              "14743  ['vicivisionamerica_d&b']   \n",
              "14744           ['infineon_d&b']   \n",
              "14745   ['westfall-technik_d&b']   \n",
              "\n",
              "                                       ProcessCapability  \n",
              "0                                                     []  \n",
              "1                                                     []  \n",
              "2                                                     []  \n",
              "3      ['Forming Capability', 'Machining Capability',...  \n",
              "4      ['Forming Capability', 'Laser Cutting Capabili...  \n",
              "...                                                  ...  \n",
              "14741                                                 []  \n",
              "14742                                                 []  \n",
              "14743                                                 []  \n",
              "14744                                                 []  \n",
              "14745  ['Prototyping Low-Volume', 'Prototyping High-V...  \n",
              "\n",
              "[14746 rows x 2 columns]"
            ],
            "text/html": [
              "\n",
              "  <div id=\"df-8da3cd7b-3936-4d31-9c77-4171d3825383\" class=\"colab-df-container\">\n",
              "    <div>\n",
              "<style scoped>\n",
              "    .dataframe tbody tr th:only-of-type {\n",
              "        vertical-align: middle;\n",
              "    }\n",
              "\n",
              "    .dataframe tbody tr th {\n",
              "        vertical-align: top;\n",
              "    }\n",
              "\n",
              "    .dataframe thead th {\n",
              "        text-align: right;\n",
              "    }\n",
              "</style>\n",
              "<table border=\"1\" class=\"dataframe\">\n",
              "  <thead>\n",
              "    <tr style=\"text-align: right;\">\n",
              "      <th></th>\n",
              "      <th>GlobalId</th>\n",
              "      <th>ProcessCapability</th>\n",
              "    </tr>\n",
              "  </thead>\n",
              "  <tbody>\n",
              "    <tr>\n",
              "      <th>0</th>\n",
              "      <td>['westindiesvalve_dhs']</td>\n",
              "      <td>[]</td>\n",
              "    </tr>\n",
              "    <tr>\n",
              "      <th>1</th>\n",
              "      <td>['101pipe_dhs']</td>\n",
              "      <td>[]</td>\n",
              "    </tr>\n",
              "    <tr>\n",
              "      <th>2</th>\n",
              "      <td>['149401-us_mskg']</td>\n",
              "      <td>[]</td>\n",
              "    </tr>\n",
              "    <tr>\n",
              "      <th>3</th>\n",
              "      <td>['1776fabrication_mskg']</td>\n",
              "      <td>['Forming Capability', 'Machining Capability',...</td>\n",
              "    </tr>\n",
              "    <tr>\n",
              "      <th>4</th>\n",
              "      <td>['1dietech_mskg']</td>\n",
              "      <td>['Forming Capability', 'Laser Cutting Capabili...</td>\n",
              "    </tr>\n",
              "    <tr>\n",
              "      <th>...</th>\n",
              "      <td>...</td>\n",
              "      <td>...</td>\n",
              "    </tr>\n",
              "    <tr>\n",
              "      <th>14741</th>\n",
              "      <td>['windigosigns_d&amp;b']</td>\n",
              "      <td>[]</td>\n",
              "    </tr>\n",
              "    <tr>\n",
              "      <th>14742</th>\n",
              "      <td>['xantusb_d&amp;b']</td>\n",
              "      <td>[]</td>\n",
              "    </tr>\n",
              "    <tr>\n",
              "      <th>14743</th>\n",
              "      <td>['vicivisionamerica_d&amp;b']</td>\n",
              "      <td>[]</td>\n",
              "    </tr>\n",
              "    <tr>\n",
              "      <th>14744</th>\n",
              "      <td>['infineon_d&amp;b']</td>\n",
              "      <td>[]</td>\n",
              "    </tr>\n",
              "    <tr>\n",
              "      <th>14745</th>\n",
              "      <td>['westfall-technik_d&amp;b']</td>\n",
              "      <td>['Prototyping Low-Volume', 'Prototyping High-V...</td>\n",
              "    </tr>\n",
              "  </tbody>\n",
              "</table>\n",
              "<p>14746 rows × 2 columns</p>\n",
              "</div>\n",
              "    <div class=\"colab-df-buttons\">\n",
              "\n",
              "  <div class=\"colab-df-container\">\n",
              "    <button class=\"colab-df-convert\" onclick=\"convertToInteractive('df-8da3cd7b-3936-4d31-9c77-4171d3825383')\"\n",
              "            title=\"Convert this dataframe to an interactive table.\"\n",
              "            style=\"display:none;\">\n",
              "\n",
              "  <svg xmlns=\"http://www.w3.org/2000/svg\" height=\"24px\" viewBox=\"0 -960 960 960\">\n",
              "    <path d=\"M120-120v-720h720v720H120Zm60-500h600v-160H180v160Zm220 220h160v-160H400v160Zm0 220h160v-160H400v160ZM180-400h160v-160H180v160Zm440 0h160v-160H620v160ZM180-180h160v-160H180v160Zm440 0h160v-160H620v160Z\"/>\n",
              "  </svg>\n",
              "    </button>\n",
              "\n",
              "  <style>\n",
              "    .colab-df-container {\n",
              "      display:flex;\n",
              "      gap: 12px;\n",
              "    }\n",
              "\n",
              "    .colab-df-convert {\n",
              "      background-color: #E8F0FE;\n",
              "      border: none;\n",
              "      border-radius: 50%;\n",
              "      cursor: pointer;\n",
              "      display: none;\n",
              "      fill: #1967D2;\n",
              "      height: 32px;\n",
              "      padding: 0 0 0 0;\n",
              "      width: 32px;\n",
              "    }\n",
              "\n",
              "    .colab-df-convert:hover {\n",
              "      background-color: #E2EBFA;\n",
              "      box-shadow: 0px 1px 2px rgba(60, 64, 67, 0.3), 0px 1px 3px 1px rgba(60, 64, 67, 0.15);\n",
              "      fill: #174EA6;\n",
              "    }\n",
              "\n",
              "    .colab-df-buttons div {\n",
              "      margin-bottom: 4px;\n",
              "    }\n",
              "\n",
              "    [theme=dark] .colab-df-convert {\n",
              "      background-color: #3B4455;\n",
              "      fill: #D2E3FC;\n",
              "    }\n",
              "\n",
              "    [theme=dark] .colab-df-convert:hover {\n",
              "      background-color: #434B5C;\n",
              "      box-shadow: 0px 1px 3px 1px rgba(0, 0, 0, 0.15);\n",
              "      filter: drop-shadow(0px 1px 2px rgba(0, 0, 0, 0.3));\n",
              "      fill: #FFFFFF;\n",
              "    }\n",
              "  </style>\n",
              "\n",
              "    <script>\n",
              "      const buttonEl =\n",
              "        document.querySelector('#df-8da3cd7b-3936-4d31-9c77-4171d3825383 button.colab-df-convert');\n",
              "      buttonEl.style.display =\n",
              "        google.colab.kernel.accessAllowed ? 'block' : 'none';\n",
              "\n",
              "      async function convertToInteractive(key) {\n",
              "        const element = document.querySelector('#df-8da3cd7b-3936-4d31-9c77-4171d3825383');\n",
              "        const dataTable =\n",
              "          await google.colab.kernel.invokeFunction('convertToInteractive',\n",
              "                                                    [key], {});\n",
              "        if (!dataTable) return;\n",
              "\n",
              "        const docLinkHtml = 'Like what you see? Visit the ' +\n",
              "          '<a target=\"_blank\" href=https://colab.research.google.com/notebooks/data_table.ipynb>data table notebook</a>'\n",
              "          + ' to learn more about interactive tables.';\n",
              "        element.innerHTML = '';\n",
              "        dataTable['output_type'] = 'display_data';\n",
              "        await google.colab.output.renderOutput(dataTable, element);\n",
              "        const docLink = document.createElement('div');\n",
              "        docLink.innerHTML = docLinkHtml;\n",
              "        element.appendChild(docLink);\n",
              "      }\n",
              "    </script>\n",
              "  </div>\n",
              "\n",
              "\n",
              "    <div id=\"df-ba613f94-2d2d-4fe5-855f-e19d74aa4459\">\n",
              "      <button class=\"colab-df-quickchart\" onclick=\"quickchart('df-ba613f94-2d2d-4fe5-855f-e19d74aa4459')\"\n",
              "                title=\"Suggest charts\"\n",
              "                style=\"display:none;\">\n",
              "\n",
              "<svg xmlns=\"http://www.w3.org/2000/svg\" height=\"24px\"viewBox=\"0 0 24 24\"\n",
              "     width=\"24px\">\n",
              "    <g>\n",
              "        <path d=\"M19 3H5c-1.1 0-2 .9-2 2v14c0 1.1.9 2 2 2h14c1.1 0 2-.9 2-2V5c0-1.1-.9-2-2-2zM9 17H7v-7h2v7zm4 0h-2V7h2v10zm4 0h-2v-4h2v4z\"/>\n",
              "    </g>\n",
              "</svg>\n",
              "      </button>\n",
              "\n",
              "<style>\n",
              "  .colab-df-quickchart {\n",
              "      --bg-color: #E8F0FE;\n",
              "      --fill-color: #1967D2;\n",
              "      --hover-bg-color: #E2EBFA;\n",
              "      --hover-fill-color: #174EA6;\n",
              "      --disabled-fill-color: #AAA;\n",
              "      --disabled-bg-color: #DDD;\n",
              "  }\n",
              "\n",
              "  [theme=dark] .colab-df-quickchart {\n",
              "      --bg-color: #3B4455;\n",
              "      --fill-color: #D2E3FC;\n",
              "      --hover-bg-color: #434B5C;\n",
              "      --hover-fill-color: #FFFFFF;\n",
              "      --disabled-bg-color: #3B4455;\n",
              "      --disabled-fill-color: #666;\n",
              "  }\n",
              "\n",
              "  .colab-df-quickchart {\n",
              "    background-color: var(--bg-color);\n",
              "    border: none;\n",
              "    border-radius: 50%;\n",
              "    cursor: pointer;\n",
              "    display: none;\n",
              "    fill: var(--fill-color);\n",
              "    height: 32px;\n",
              "    padding: 0;\n",
              "    width: 32px;\n",
              "  }\n",
              "\n",
              "  .colab-df-quickchart:hover {\n",
              "    background-color: var(--hover-bg-color);\n",
              "    box-shadow: 0 1px 2px rgba(60, 64, 67, 0.3), 0 1px 3px 1px rgba(60, 64, 67, 0.15);\n",
              "    fill: var(--button-hover-fill-color);\n",
              "  }\n",
              "\n",
              "  .colab-df-quickchart-complete:disabled,\n",
              "  .colab-df-quickchart-complete:disabled:hover {\n",
              "    background-color: var(--disabled-bg-color);\n",
              "    fill: var(--disabled-fill-color);\n",
              "    box-shadow: none;\n",
              "  }\n",
              "\n",
              "  .colab-df-spinner {\n",
              "    border: 2px solid var(--fill-color);\n",
              "    border-color: transparent;\n",
              "    border-bottom-color: var(--fill-color);\n",
              "    animation:\n",
              "      spin 1s steps(1) infinite;\n",
              "  }\n",
              "\n",
              "  @keyframes spin {\n",
              "    0% {\n",
              "      border-color: transparent;\n",
              "      border-bottom-color: var(--fill-color);\n",
              "      border-left-color: var(--fill-color);\n",
              "    }\n",
              "    20% {\n",
              "      border-color: transparent;\n",
              "      border-left-color: var(--fill-color);\n",
              "      border-top-color: var(--fill-color);\n",
              "    }\n",
              "    30% {\n",
              "      border-color: transparent;\n",
              "      border-left-color: var(--fill-color);\n",
              "      border-top-color: var(--fill-color);\n",
              "      border-right-color: var(--fill-color);\n",
              "    }\n",
              "    40% {\n",
              "      border-color: transparent;\n",
              "      border-right-color: var(--fill-color);\n",
              "      border-top-color: var(--fill-color);\n",
              "    }\n",
              "    60% {\n",
              "      border-color: transparent;\n",
              "      border-right-color: var(--fill-color);\n",
              "    }\n",
              "    80% {\n",
              "      border-color: transparent;\n",
              "      border-right-color: var(--fill-color);\n",
              "      border-bottom-color: var(--fill-color);\n",
              "    }\n",
              "    90% {\n",
              "      border-color: transparent;\n",
              "      border-bottom-color: var(--fill-color);\n",
              "    }\n",
              "  }\n",
              "</style>\n",
              "\n",
              "      <script>\n",
              "        async function quickchart(key) {\n",
              "          const quickchartButtonEl =\n",
              "            document.querySelector('#' + key + ' button');\n",
              "          quickchartButtonEl.disabled = true;  // To prevent multiple clicks.\n",
              "          quickchartButtonEl.classList.add('colab-df-spinner');\n",
              "          try {\n",
              "            const charts = await google.colab.kernel.invokeFunction(\n",
              "                'suggestCharts', [key], {});\n",
              "          } catch (error) {\n",
              "            console.error('Error during call to suggestCharts:', error);\n",
              "          }\n",
              "          quickchartButtonEl.classList.remove('colab-df-spinner');\n",
              "          quickchartButtonEl.classList.add('colab-df-quickchart-complete');\n",
              "        }\n",
              "        (() => {\n",
              "          let quickchartButtonEl =\n",
              "            document.querySelector('#df-ba613f94-2d2d-4fe5-855f-e19d74aa4459 button');\n",
              "          quickchartButtonEl.style.display =\n",
              "            google.colab.kernel.accessAllowed ? 'block' : 'none';\n",
              "        })();\n",
              "      </script>\n",
              "    </div>\n",
              "\n",
              "  <div id=\"id_08cba64d-b5c2-4714-9607-5585a606fd28\">\n",
              "    <style>\n",
              "      .colab-df-generate {\n",
              "        background-color: #E8F0FE;\n",
              "        border: none;\n",
              "        border-radius: 50%;\n",
              "        cursor: pointer;\n",
              "        display: none;\n",
              "        fill: #1967D2;\n",
              "        height: 32px;\n",
              "        padding: 0 0 0 0;\n",
              "        width: 32px;\n",
              "      }\n",
              "\n",
              "      .colab-df-generate:hover {\n",
              "        background-color: #E2EBFA;\n",
              "        box-shadow: 0px 1px 2px rgba(60, 64, 67, 0.3), 0px 1px 3px 1px rgba(60, 64, 67, 0.15);\n",
              "        fill: #174EA6;\n",
              "      }\n",
              "\n",
              "      [theme=dark] .colab-df-generate {\n",
              "        background-color: #3B4455;\n",
              "        fill: #D2E3FC;\n",
              "      }\n",
              "\n",
              "      [theme=dark] .colab-df-generate:hover {\n",
              "        background-color: #434B5C;\n",
              "        box-shadow: 0px 1px 3px 1px rgba(0, 0, 0, 0.15);\n",
              "        filter: drop-shadow(0px 1px 2px rgba(0, 0, 0, 0.3));\n",
              "        fill: #FFFFFF;\n",
              "      }\n",
              "    </style>\n",
              "    <button class=\"colab-df-generate\" onclick=\"generateWithVariable('df')\"\n",
              "            title=\"Generate code using this dataframe.\"\n",
              "            style=\"display:none;\">\n",
              "\n",
              "  <svg xmlns=\"http://www.w3.org/2000/svg\" height=\"24px\"viewBox=\"0 0 24 24\"\n",
              "       width=\"24px\">\n",
              "    <path d=\"M7,19H8.4L18.45,9,17,7.55,7,17.6ZM5,21V16.75L18.45,3.32a2,2,0,0,1,2.83,0l1.4,1.43a1.91,1.91,0,0,1,.58,1.4,1.91,1.91,0,0,1-.58,1.4L9.25,21ZM18.45,9,17,7.55Zm-12,3A5.31,5.31,0,0,0,4.9,8.1,5.31,5.31,0,0,0,1,6.5,5.31,5.31,0,0,0,4.9,4.9,5.31,5.31,0,0,0,6.5,1,5.31,5.31,0,0,0,8.1,4.9,5.31,5.31,0,0,0,12,6.5,5.46,5.46,0,0,0,6.5,12Z\"/>\n",
              "  </svg>\n",
              "    </button>\n",
              "    <script>\n",
              "      (() => {\n",
              "      const buttonEl =\n",
              "        document.querySelector('#id_08cba64d-b5c2-4714-9607-5585a606fd28 button.colab-df-generate');\n",
              "      buttonEl.style.display =\n",
              "        google.colab.kernel.accessAllowed ? 'block' : 'none';\n",
              "\n",
              "      buttonEl.onclick = () => {\n",
              "        google.colab.notebook.generateWithVariable('df');\n",
              "      }\n",
              "      })();\n",
              "    </script>\n",
              "  </div>\n",
              "\n",
              "    </div>\n",
              "  </div>\n"
            ],
            "application/vnd.google.colaboratory.intrinsic+json": {
              "type": "dataframe",
              "variable_name": "df",
              "summary": "{\n  \"name\": \"df\",\n  \"rows\": 14746,\n  \"fields\": [\n    {\n      \"column\": \"GlobalId\",\n      \"properties\": {\n        \"dtype\": \"string\",\n        \"num_unique_values\": 14711,\n        \"samples\": [\n          \"['riecoatings_mskg']\",\n          \"['sdcinc_mskg']\",\n          \"['intercontal_mskg']\"\n        ],\n        \"semantic_type\": \"\",\n        \"description\": \"\"\n      }\n    },\n    {\n      \"column\": \"ProcessCapability\",\n      \"properties\": {\n        \"dtype\": \"category\",\n        \"num_unique_values\": 6321,\n        \"samples\": [\n          \"['Forming Capability', 'Laser Cutting Capability', 'Rolling Capability', 'Fabricating Capability', 'Drawing Capability', 'Finishing Capability', 'Drilling Capability', 'Fabricating Capability', 'Milling Capability', 'Welding Capability', 'Plasma Cutting Capability', 'Vertical Milling Capability']\",\n          \"['Grinding Capability', 'Waterjet Cutting Capability', 'Deep Hole Drilling Capability', 'Boring Capability', 'Fabricating Capability', 'Tapping Capability', 'Casting Capability', 'Extruding Capability ', 'Welding Capability', 'Milling Capability', 'Shaping Capability', 'Honing Capability', 'Drawing Capability', 'Forging Capability', 'EDM Capability', 'Drilling Capability', 'Milling Capability', 'CNC Milling Capability']\",\n          \"['Forming Capability', 'Turning Capability', 'Machining Capability', 'Drilling Capability', 'Assembly Capability', 'Milling Capability', 'CNC Machining Capability', 'CNC Milling Capability', 'Machining Capability', 'Machining Capability', 'Turning Capability', 'Turning Capability']\"\n        ],\n        \"semantic_type\": \"\",\n        \"description\": \"\"\n      }\n    }\n  ]\n}"
            }
          },
          "metadata": {},
          "execution_count": 6
        }
      ]
    },
    {
      "cell_type": "code",
      "source": [
        "df['GlobalId'].value_counts()"
      ],
      "metadata": {
        "colab": {
          "base_uri": "https://localhost:8080/",
          "height": 484
        },
        "id": "U_P_rPY4png4",
        "outputId": "aa9d93f0-31f2-40d4-aacf-05548652dae8",
        "collapsed": true
      },
      "execution_count": null,
      "outputs": [
        {
          "output_type": "execute_result",
          "data": {
            "text/plain": [
              "GlobalId\n",
              "['net_az']                 10\n",
              "['us_az']                   4\n",
              "['us_d&b']                  4\n",
              "['shop_d&b']                3\n",
              "['hub_d&b']                 3\n",
              "                           ..\n",
              "['inland-mfg_mskg']         1\n",
              "['inlandbuildings_dhs']     1\n",
              "['inlandlakes_dhs']         1\n",
              "['inlandmetal_dhs']         1\n",
              "['indygrinds_dhs']          1\n",
              "Name: count, Length: 14711, dtype: int64"
            ],
            "text/html": [
              "<div>\n",
              "<style scoped>\n",
              "    .dataframe tbody tr th:only-of-type {\n",
              "        vertical-align: middle;\n",
              "    }\n",
              "\n",
              "    .dataframe tbody tr th {\n",
              "        vertical-align: top;\n",
              "    }\n",
              "\n",
              "    .dataframe thead th {\n",
              "        text-align: right;\n",
              "    }\n",
              "</style>\n",
              "<table border=\"1\" class=\"dataframe\">\n",
              "  <thead>\n",
              "    <tr style=\"text-align: right;\">\n",
              "      <th></th>\n",
              "      <th>count</th>\n",
              "    </tr>\n",
              "    <tr>\n",
              "      <th>GlobalId</th>\n",
              "      <th></th>\n",
              "    </tr>\n",
              "  </thead>\n",
              "  <tbody>\n",
              "    <tr>\n",
              "      <th>['net_az']</th>\n",
              "      <td>10</td>\n",
              "    </tr>\n",
              "    <tr>\n",
              "      <th>['us_az']</th>\n",
              "      <td>4</td>\n",
              "    </tr>\n",
              "    <tr>\n",
              "      <th>['us_d&amp;b']</th>\n",
              "      <td>4</td>\n",
              "    </tr>\n",
              "    <tr>\n",
              "      <th>['shop_d&amp;b']</th>\n",
              "      <td>3</td>\n",
              "    </tr>\n",
              "    <tr>\n",
              "      <th>['hub_d&amp;b']</th>\n",
              "      <td>3</td>\n",
              "    </tr>\n",
              "    <tr>\n",
              "      <th>...</th>\n",
              "      <td>...</td>\n",
              "    </tr>\n",
              "    <tr>\n",
              "      <th>['inland-mfg_mskg']</th>\n",
              "      <td>1</td>\n",
              "    </tr>\n",
              "    <tr>\n",
              "      <th>['inlandbuildings_dhs']</th>\n",
              "      <td>1</td>\n",
              "    </tr>\n",
              "    <tr>\n",
              "      <th>['inlandlakes_dhs']</th>\n",
              "      <td>1</td>\n",
              "    </tr>\n",
              "    <tr>\n",
              "      <th>['inlandmetal_dhs']</th>\n",
              "      <td>1</td>\n",
              "    </tr>\n",
              "    <tr>\n",
              "      <th>['indygrinds_dhs']</th>\n",
              "      <td>1</td>\n",
              "    </tr>\n",
              "  </tbody>\n",
              "</table>\n",
              "<p>14711 rows × 1 columns</p>\n",
              "</div><br><label><b>dtype:</b> int64</label>"
            ]
          },
          "metadata": {},
          "execution_count": 7
        }
      ]
    },
    {
      "cell_type": "markdown",
      "source": [
        "Cleans up the ProcessCapability column by turning the text '[]' into missing values and parsing all other stringified Python literals into real Python data structures"
      ],
      "metadata": {
        "id": "xQ1CR0a-Tu5O"
      }
    },
    {
      "cell_type": "code",
      "source": [
        "df['ProcessCapability'] = df['ProcessCapability'].apply(lambda x:None if x=='[]' else ast.literal_eval(x))"
      ],
      "metadata": {
        "colab": {
          "base_uri": "https://localhost:8080/"
        },
        "id": "FK1XTJ2fpnrE",
        "outputId": "d81d5d4c-e37f-4540-e83e-973cea58a0a1",
        "collapsed": true
      },
      "execution_count": null,
      "outputs": [
        {
          "output_type": "stream",
          "name": "stderr",
          "text": [
            "<ipython-input-8-5f50d4be1623>:1: SettingWithCopyWarning: \n",
            "A value is trying to be set on a copy of a slice from a DataFrame.\n",
            "Try using .loc[row_indexer,col_indexer] = value instead\n",
            "\n",
            "See the caveats in the documentation: https://pandas.pydata.org/pandas-docs/stable/user_guide/indexing.html#returning-a-view-versus-a-copy\n",
            "  df['ProcessCapability'] = df['ProcessCapability'].apply(lambda x:None if x=='[]' else ast.literal_eval(x))\n"
          ]
        }
      ]
    },
    {
      "cell_type": "code",
      "source": [
        "sum(df['ProcessCapability'].isna())"
      ],
      "metadata": {
        "colab": {
          "base_uri": "https://localhost:8080/"
        },
        "id": "IK8leQfAN92-",
        "outputId": "b1a94794-5b65-4048-ddb0-5eccd455588f"
      },
      "execution_count": null,
      "outputs": [
        {
          "output_type": "execute_result",
          "data": {
            "text/plain": [
              "8090"
            ]
          },
          "metadata": {},
          "execution_count": 9
        }
      ]
    },
    {
      "cell_type": "code",
      "source": [
        "df.dropna(subset=['ProcessCapability'], inplace=True)\n",
        "sum(df['ProcessCapability'].isna())"
      ],
      "metadata": {
        "colab": {
          "base_uri": "https://localhost:8080/"
        },
        "id": "Jyow-tmuPbys",
        "outputId": "80bfe960-6075-4d4b-a5bd-42b17d49134d"
      },
      "execution_count": null,
      "outputs": [
        {
          "output_type": "stream",
          "name": "stderr",
          "text": [
            "<ipython-input-10-c6a827cafaf7>:1: SettingWithCopyWarning: \n",
            "A value is trying to be set on a copy of a slice from a DataFrame\n",
            "\n",
            "See the caveats in the documentation: https://pandas.pydata.org/pandas-docs/stable/user_guide/indexing.html#returning-a-view-versus-a-copy\n",
            "  df.dropna(subset=['ProcessCapability'], inplace=True)\n"
          ]
        },
        {
          "output_type": "execute_result",
          "data": {
            "text/plain": [
              "0"
            ]
          },
          "metadata": {},
          "execution_count": 10
        }
      ]
    },
    {
      "cell_type": "code",
      "source": [
        "df['ProcessCapability']"
      ],
      "metadata": {
        "colab": {
          "base_uri": "https://localhost:8080/",
          "height": 453
        },
        "id": "RO7qb8V4PnBz",
        "outputId": "62890fae-9dea-4d9c-b1a7-177a10fcd4c6"
      },
      "execution_count": null,
      "outputs": [
        {
          "output_type": "execute_result",
          "data": {
            "text/plain": [
              "3        [Forming Capability, Machining Capability, Fin...\n",
              "4        [Forming Capability, Laser Cutting Capability,...\n",
              "10       [Wire EDM Capability, Boring Capability, Casti...\n",
              "11       [Grinding Capability, Etching Capability, Bori...\n",
              "13       [Additive Manufacturing Capability, Casting Ca...\n",
              "                               ...                        \n",
              "14723    [Assembly Automated, Assembly Non-Automated, T...\n",
              "14724    [Prototyping Validation, Assembly Downstream, ...\n",
              "14739    [Welding Robotic, Welding Manual, Assembly Mec...\n",
              "14740                          [Co-Packing, Purify, Treat]\n",
              "14745    [Prototyping Low-Volume, Prototyping High-Volu...\n",
              "Name: ProcessCapability, Length: 6656, dtype: object"
            ],
            "text/html": [
              "<div>\n",
              "<style scoped>\n",
              "    .dataframe tbody tr th:only-of-type {\n",
              "        vertical-align: middle;\n",
              "    }\n",
              "\n",
              "    .dataframe tbody tr th {\n",
              "        vertical-align: top;\n",
              "    }\n",
              "\n",
              "    .dataframe thead th {\n",
              "        text-align: right;\n",
              "    }\n",
              "</style>\n",
              "<table border=\"1\" class=\"dataframe\">\n",
              "  <thead>\n",
              "    <tr style=\"text-align: right;\">\n",
              "      <th></th>\n",
              "      <th>ProcessCapability</th>\n",
              "    </tr>\n",
              "  </thead>\n",
              "  <tbody>\n",
              "    <tr>\n",
              "      <th>3</th>\n",
              "      <td>[Forming Capability, Machining Capability, Fin...</td>\n",
              "    </tr>\n",
              "    <tr>\n",
              "      <th>4</th>\n",
              "      <td>[Forming Capability, Laser Cutting Capability,...</td>\n",
              "    </tr>\n",
              "    <tr>\n",
              "      <th>10</th>\n",
              "      <td>[Wire EDM Capability, Boring Capability, Casti...</td>\n",
              "    </tr>\n",
              "    <tr>\n",
              "      <th>11</th>\n",
              "      <td>[Grinding Capability, Etching Capability, Bori...</td>\n",
              "    </tr>\n",
              "    <tr>\n",
              "      <th>13</th>\n",
              "      <td>[Additive Manufacturing Capability, Casting Ca...</td>\n",
              "    </tr>\n",
              "    <tr>\n",
              "      <th>...</th>\n",
              "      <td>...</td>\n",
              "    </tr>\n",
              "    <tr>\n",
              "      <th>14723</th>\n",
              "      <td>[Assembly Automated, Assembly Non-Automated, T...</td>\n",
              "    </tr>\n",
              "    <tr>\n",
              "      <th>14724</th>\n",
              "      <td>[Prototyping Validation, Assembly Downstream, ...</td>\n",
              "    </tr>\n",
              "    <tr>\n",
              "      <th>14739</th>\n",
              "      <td>[Welding Robotic, Welding Manual, Assembly Mec...</td>\n",
              "    </tr>\n",
              "    <tr>\n",
              "      <th>14740</th>\n",
              "      <td>[Co-Packing, Purify, Treat]</td>\n",
              "    </tr>\n",
              "    <tr>\n",
              "      <th>14745</th>\n",
              "      <td>[Prototyping Low-Volume, Prototyping High-Volu...</td>\n",
              "    </tr>\n",
              "  </tbody>\n",
              "</table>\n",
              "<p>6656 rows × 1 columns</p>\n",
              "</div><br><label><b>dtype:</b> object</label>"
            ]
          },
          "metadata": {},
          "execution_count": 11
        }
      ]
    },
    {
      "cell_type": "code",
      "source": [
        "df['GlobalId']"
      ],
      "metadata": {
        "colab": {
          "base_uri": "https://localhost:8080/",
          "height": 453
        },
        "id": "hPwUnB5sP5Am",
        "outputId": "5e6cf974-49ca-4cac-8d91-6ba3ffacc53a",
        "collapsed": true
      },
      "execution_count": null,
      "outputs": [
        {
          "output_type": "execute_result",
          "data": {
            "text/plain": [
              "3        ['1776fabrication_mskg']\n",
              "4               ['1dietech_mskg']\n",
              "10          ['3dimensional_mskg']\n",
              "11                ['3dmach_mskg']\n",
              "13             ['3dsystems_mskg']\n",
              "                   ...           \n",
              "14723             ['gillman_d&b']\n",
              "14724             ['accudyn_d&b']\n",
              "14739             ['wildeck_d&b']\n",
              "14740       ['whitewaternow_d&b']\n",
              "14745    ['westfall-technik_d&b']\n",
              "Name: GlobalId, Length: 6656, dtype: object"
            ],
            "text/html": [
              "<div>\n",
              "<style scoped>\n",
              "    .dataframe tbody tr th:only-of-type {\n",
              "        vertical-align: middle;\n",
              "    }\n",
              "\n",
              "    .dataframe tbody tr th {\n",
              "        vertical-align: top;\n",
              "    }\n",
              "\n",
              "    .dataframe thead th {\n",
              "        text-align: right;\n",
              "    }\n",
              "</style>\n",
              "<table border=\"1\" class=\"dataframe\">\n",
              "  <thead>\n",
              "    <tr style=\"text-align: right;\">\n",
              "      <th></th>\n",
              "      <th>GlobalId</th>\n",
              "    </tr>\n",
              "  </thead>\n",
              "  <tbody>\n",
              "    <tr>\n",
              "      <th>3</th>\n",
              "      <td>['1776fabrication_mskg']</td>\n",
              "    </tr>\n",
              "    <tr>\n",
              "      <th>4</th>\n",
              "      <td>['1dietech_mskg']</td>\n",
              "    </tr>\n",
              "    <tr>\n",
              "      <th>10</th>\n",
              "      <td>['3dimensional_mskg']</td>\n",
              "    </tr>\n",
              "    <tr>\n",
              "      <th>11</th>\n",
              "      <td>['3dmach_mskg']</td>\n",
              "    </tr>\n",
              "    <tr>\n",
              "      <th>13</th>\n",
              "      <td>['3dsystems_mskg']</td>\n",
              "    </tr>\n",
              "    <tr>\n",
              "      <th>...</th>\n",
              "      <td>...</td>\n",
              "    </tr>\n",
              "    <tr>\n",
              "      <th>14723</th>\n",
              "      <td>['gillman_d&amp;b']</td>\n",
              "    </tr>\n",
              "    <tr>\n",
              "      <th>14724</th>\n",
              "      <td>['accudyn_d&amp;b']</td>\n",
              "    </tr>\n",
              "    <tr>\n",
              "      <th>14739</th>\n",
              "      <td>['wildeck_d&amp;b']</td>\n",
              "    </tr>\n",
              "    <tr>\n",
              "      <th>14740</th>\n",
              "      <td>['whitewaternow_d&amp;b']</td>\n",
              "    </tr>\n",
              "    <tr>\n",
              "      <th>14745</th>\n",
              "      <td>['westfall-technik_d&amp;b']</td>\n",
              "    </tr>\n",
              "  </tbody>\n",
              "</table>\n",
              "<p>6656 rows × 1 columns</p>\n",
              "</div><br><label><b>dtype:</b> object</label>"
            ]
          },
          "metadata": {},
          "execution_count": 12
        }
      ]
    },
    {
      "cell_type": "markdown",
      "source": [
        "We flatten each row’s list of `ProcessCapability` values into a two-column edge list—one `(GlobalId, capability)` pair per entry—then packages the pairs into a new DataFrame `edge_df`."
      ],
      "metadata": {
        "id": "Ko1MbjCzWyMS"
      }
    },
    {
      "cell_type": "code",
      "source": [
        "edges = []\n",
        "for idx, row in df.iterrows():\n",
        "    gid = row['GlobalId']\n",
        "    capabilities = row['ProcessCapability']\n",
        "    for cap in capabilities:\n",
        "        edges.append((gid, cap))\n",
        "\n",
        "edge_df = pd.DataFrame(edges, columns=['GlobalId', 'ProcessCapability'])"
      ],
      "metadata": {
        "id": "ZshoDZBqORBD"
      },
      "execution_count": null,
      "outputs": []
    },
    {
      "cell_type": "code",
      "source": [
        "edge_df"
      ],
      "metadata": {
        "colab": {
          "base_uri": "https://localhost:8080/",
          "height": 419
        },
        "id": "KdcjFJMLP7pb",
        "outputId": "69564e2a-1fbf-4318-9241-d01060e6dfd0",
        "collapsed": true
      },
      "execution_count": null,
      "outputs": [
        {
          "output_type": "execute_result",
          "data": {
            "text/plain": [
              "                       GlobalId            ProcessCapability\n",
              "0      ['1776fabrication_mskg']           Forming Capability\n",
              "1      ['1776fabrication_mskg']         Machining Capability\n",
              "2      ['1776fabrication_mskg']         Finishing Capability\n",
              "3      ['1776fabrication_mskg']       Fabricating Capability\n",
              "4      ['1776fabrication_mskg']     CNC Machining Capability\n",
              "...                         ...                          ...\n",
              "70362  ['westfall-technik_d&b']       Prototyping Low-Volume\n",
              "70363  ['westfall-technik_d&b']      Prototyping High-Volume\n",
              "70364  ['westfall-technik_d&b']             Assembly Kitting\n",
              "70365  ['westfall-technik_d&b']  Automation Cell Engineering\n",
              "70366  ['westfall-technik_d&b']           Tooling Production\n",
              "\n",
              "[70367 rows x 2 columns]"
            ],
            "text/html": [
              "\n",
              "  <div id=\"df-76aa2fbb-2563-4557-bb31-eb59c18c1c3e\" class=\"colab-df-container\">\n",
              "    <div>\n",
              "<style scoped>\n",
              "    .dataframe tbody tr th:only-of-type {\n",
              "        vertical-align: middle;\n",
              "    }\n",
              "\n",
              "    .dataframe tbody tr th {\n",
              "        vertical-align: top;\n",
              "    }\n",
              "\n",
              "    .dataframe thead th {\n",
              "        text-align: right;\n",
              "    }\n",
              "</style>\n",
              "<table border=\"1\" class=\"dataframe\">\n",
              "  <thead>\n",
              "    <tr style=\"text-align: right;\">\n",
              "      <th></th>\n",
              "      <th>GlobalId</th>\n",
              "      <th>ProcessCapability</th>\n",
              "    </tr>\n",
              "  </thead>\n",
              "  <tbody>\n",
              "    <tr>\n",
              "      <th>0</th>\n",
              "      <td>['1776fabrication_mskg']</td>\n",
              "      <td>Forming Capability</td>\n",
              "    </tr>\n",
              "    <tr>\n",
              "      <th>1</th>\n",
              "      <td>['1776fabrication_mskg']</td>\n",
              "      <td>Machining Capability</td>\n",
              "    </tr>\n",
              "    <tr>\n",
              "      <th>2</th>\n",
              "      <td>['1776fabrication_mskg']</td>\n",
              "      <td>Finishing Capability</td>\n",
              "    </tr>\n",
              "    <tr>\n",
              "      <th>3</th>\n",
              "      <td>['1776fabrication_mskg']</td>\n",
              "      <td>Fabricating Capability</td>\n",
              "    </tr>\n",
              "    <tr>\n",
              "      <th>4</th>\n",
              "      <td>['1776fabrication_mskg']</td>\n",
              "      <td>CNC Machining Capability</td>\n",
              "    </tr>\n",
              "    <tr>\n",
              "      <th>...</th>\n",
              "      <td>...</td>\n",
              "      <td>...</td>\n",
              "    </tr>\n",
              "    <tr>\n",
              "      <th>70362</th>\n",
              "      <td>['westfall-technik_d&amp;b']</td>\n",
              "      <td>Prototyping Low-Volume</td>\n",
              "    </tr>\n",
              "    <tr>\n",
              "      <th>70363</th>\n",
              "      <td>['westfall-technik_d&amp;b']</td>\n",
              "      <td>Prototyping High-Volume</td>\n",
              "    </tr>\n",
              "    <tr>\n",
              "      <th>70364</th>\n",
              "      <td>['westfall-technik_d&amp;b']</td>\n",
              "      <td>Assembly Kitting</td>\n",
              "    </tr>\n",
              "    <tr>\n",
              "      <th>70365</th>\n",
              "      <td>['westfall-technik_d&amp;b']</td>\n",
              "      <td>Automation Cell Engineering</td>\n",
              "    </tr>\n",
              "    <tr>\n",
              "      <th>70366</th>\n",
              "      <td>['westfall-technik_d&amp;b']</td>\n",
              "      <td>Tooling Production</td>\n",
              "    </tr>\n",
              "  </tbody>\n",
              "</table>\n",
              "<p>70367 rows × 2 columns</p>\n",
              "</div>\n",
              "    <div class=\"colab-df-buttons\">\n",
              "\n",
              "  <div class=\"colab-df-container\">\n",
              "    <button class=\"colab-df-convert\" onclick=\"convertToInteractive('df-76aa2fbb-2563-4557-bb31-eb59c18c1c3e')\"\n",
              "            title=\"Convert this dataframe to an interactive table.\"\n",
              "            style=\"display:none;\">\n",
              "\n",
              "  <svg xmlns=\"http://www.w3.org/2000/svg\" height=\"24px\" viewBox=\"0 -960 960 960\">\n",
              "    <path d=\"M120-120v-720h720v720H120Zm60-500h600v-160H180v160Zm220 220h160v-160H400v160Zm0 220h160v-160H400v160ZM180-400h160v-160H180v160Zm440 0h160v-160H620v160ZM180-180h160v-160H180v160Zm440 0h160v-160H620v160Z\"/>\n",
              "  </svg>\n",
              "    </button>\n",
              "\n",
              "  <style>\n",
              "    .colab-df-container {\n",
              "      display:flex;\n",
              "      gap: 12px;\n",
              "    }\n",
              "\n",
              "    .colab-df-convert {\n",
              "      background-color: #E8F0FE;\n",
              "      border: none;\n",
              "      border-radius: 50%;\n",
              "      cursor: pointer;\n",
              "      display: none;\n",
              "      fill: #1967D2;\n",
              "      height: 32px;\n",
              "      padding: 0 0 0 0;\n",
              "      width: 32px;\n",
              "    }\n",
              "\n",
              "    .colab-df-convert:hover {\n",
              "      background-color: #E2EBFA;\n",
              "      box-shadow: 0px 1px 2px rgba(60, 64, 67, 0.3), 0px 1px 3px 1px rgba(60, 64, 67, 0.15);\n",
              "      fill: #174EA6;\n",
              "    }\n",
              "\n",
              "    .colab-df-buttons div {\n",
              "      margin-bottom: 4px;\n",
              "    }\n",
              "\n",
              "    [theme=dark] .colab-df-convert {\n",
              "      background-color: #3B4455;\n",
              "      fill: #D2E3FC;\n",
              "    }\n",
              "\n",
              "    [theme=dark] .colab-df-convert:hover {\n",
              "      background-color: #434B5C;\n",
              "      box-shadow: 0px 1px 3px 1px rgba(0, 0, 0, 0.15);\n",
              "      filter: drop-shadow(0px 1px 2px rgba(0, 0, 0, 0.3));\n",
              "      fill: #FFFFFF;\n",
              "    }\n",
              "  </style>\n",
              "\n",
              "    <script>\n",
              "      const buttonEl =\n",
              "        document.querySelector('#df-76aa2fbb-2563-4557-bb31-eb59c18c1c3e button.colab-df-convert');\n",
              "      buttonEl.style.display =\n",
              "        google.colab.kernel.accessAllowed ? 'block' : 'none';\n",
              "\n",
              "      async function convertToInteractive(key) {\n",
              "        const element = document.querySelector('#df-76aa2fbb-2563-4557-bb31-eb59c18c1c3e');\n",
              "        const dataTable =\n",
              "          await google.colab.kernel.invokeFunction('convertToInteractive',\n",
              "                                                    [key], {});\n",
              "        if (!dataTable) return;\n",
              "\n",
              "        const docLinkHtml = 'Like what you see? Visit the ' +\n",
              "          '<a target=\"_blank\" href=https://colab.research.google.com/notebooks/data_table.ipynb>data table notebook</a>'\n",
              "          + ' to learn more about interactive tables.';\n",
              "        element.innerHTML = '';\n",
              "        dataTable['output_type'] = 'display_data';\n",
              "        await google.colab.output.renderOutput(dataTable, element);\n",
              "        const docLink = document.createElement('div');\n",
              "        docLink.innerHTML = docLinkHtml;\n",
              "        element.appendChild(docLink);\n",
              "      }\n",
              "    </script>\n",
              "  </div>\n",
              "\n",
              "\n",
              "    <div id=\"df-291e3edf-db51-4934-a90f-0fabb869c886\">\n",
              "      <button class=\"colab-df-quickchart\" onclick=\"quickchart('df-291e3edf-db51-4934-a90f-0fabb869c886')\"\n",
              "                title=\"Suggest charts\"\n",
              "                style=\"display:none;\">\n",
              "\n",
              "<svg xmlns=\"http://www.w3.org/2000/svg\" height=\"24px\"viewBox=\"0 0 24 24\"\n",
              "     width=\"24px\">\n",
              "    <g>\n",
              "        <path d=\"M19 3H5c-1.1 0-2 .9-2 2v14c0 1.1.9 2 2 2h14c1.1 0 2-.9 2-2V5c0-1.1-.9-2-2-2zM9 17H7v-7h2v7zm4 0h-2V7h2v10zm4 0h-2v-4h2v4z\"/>\n",
              "    </g>\n",
              "</svg>\n",
              "      </button>\n",
              "\n",
              "<style>\n",
              "  .colab-df-quickchart {\n",
              "      --bg-color: #E8F0FE;\n",
              "      --fill-color: #1967D2;\n",
              "      --hover-bg-color: #E2EBFA;\n",
              "      --hover-fill-color: #174EA6;\n",
              "      --disabled-fill-color: #AAA;\n",
              "      --disabled-bg-color: #DDD;\n",
              "  }\n",
              "\n",
              "  [theme=dark] .colab-df-quickchart {\n",
              "      --bg-color: #3B4455;\n",
              "      --fill-color: #D2E3FC;\n",
              "      --hover-bg-color: #434B5C;\n",
              "      --hover-fill-color: #FFFFFF;\n",
              "      --disabled-bg-color: #3B4455;\n",
              "      --disabled-fill-color: #666;\n",
              "  }\n",
              "\n",
              "  .colab-df-quickchart {\n",
              "    background-color: var(--bg-color);\n",
              "    border: none;\n",
              "    border-radius: 50%;\n",
              "    cursor: pointer;\n",
              "    display: none;\n",
              "    fill: var(--fill-color);\n",
              "    height: 32px;\n",
              "    padding: 0;\n",
              "    width: 32px;\n",
              "  }\n",
              "\n",
              "  .colab-df-quickchart:hover {\n",
              "    background-color: var(--hover-bg-color);\n",
              "    box-shadow: 0 1px 2px rgba(60, 64, 67, 0.3), 0 1px 3px 1px rgba(60, 64, 67, 0.15);\n",
              "    fill: var(--button-hover-fill-color);\n",
              "  }\n",
              "\n",
              "  .colab-df-quickchart-complete:disabled,\n",
              "  .colab-df-quickchart-complete:disabled:hover {\n",
              "    background-color: var(--disabled-bg-color);\n",
              "    fill: var(--disabled-fill-color);\n",
              "    box-shadow: none;\n",
              "  }\n",
              "\n",
              "  .colab-df-spinner {\n",
              "    border: 2px solid var(--fill-color);\n",
              "    border-color: transparent;\n",
              "    border-bottom-color: var(--fill-color);\n",
              "    animation:\n",
              "      spin 1s steps(1) infinite;\n",
              "  }\n",
              "\n",
              "  @keyframes spin {\n",
              "    0% {\n",
              "      border-color: transparent;\n",
              "      border-bottom-color: var(--fill-color);\n",
              "      border-left-color: var(--fill-color);\n",
              "    }\n",
              "    20% {\n",
              "      border-color: transparent;\n",
              "      border-left-color: var(--fill-color);\n",
              "      border-top-color: var(--fill-color);\n",
              "    }\n",
              "    30% {\n",
              "      border-color: transparent;\n",
              "      border-left-color: var(--fill-color);\n",
              "      border-top-color: var(--fill-color);\n",
              "      border-right-color: var(--fill-color);\n",
              "    }\n",
              "    40% {\n",
              "      border-color: transparent;\n",
              "      border-right-color: var(--fill-color);\n",
              "      border-top-color: var(--fill-color);\n",
              "    }\n",
              "    60% {\n",
              "      border-color: transparent;\n",
              "      border-right-color: var(--fill-color);\n",
              "    }\n",
              "    80% {\n",
              "      border-color: transparent;\n",
              "      border-right-color: var(--fill-color);\n",
              "      border-bottom-color: var(--fill-color);\n",
              "    }\n",
              "    90% {\n",
              "      border-color: transparent;\n",
              "      border-bottom-color: var(--fill-color);\n",
              "    }\n",
              "  }\n",
              "</style>\n",
              "\n",
              "      <script>\n",
              "        async function quickchart(key) {\n",
              "          const quickchartButtonEl =\n",
              "            document.querySelector('#' + key + ' button');\n",
              "          quickchartButtonEl.disabled = true;  // To prevent multiple clicks.\n",
              "          quickchartButtonEl.classList.add('colab-df-spinner');\n",
              "          try {\n",
              "            const charts = await google.colab.kernel.invokeFunction(\n",
              "                'suggestCharts', [key], {});\n",
              "          } catch (error) {\n",
              "            console.error('Error during call to suggestCharts:', error);\n",
              "          }\n",
              "          quickchartButtonEl.classList.remove('colab-df-spinner');\n",
              "          quickchartButtonEl.classList.add('colab-df-quickchart-complete');\n",
              "        }\n",
              "        (() => {\n",
              "          let quickchartButtonEl =\n",
              "            document.querySelector('#df-291e3edf-db51-4934-a90f-0fabb869c886 button');\n",
              "          quickchartButtonEl.style.display =\n",
              "            google.colab.kernel.accessAllowed ? 'block' : 'none';\n",
              "        })();\n",
              "      </script>\n",
              "    </div>\n",
              "\n",
              "  <div id=\"id_7532f795-1d92-4912-ac7e-c99b47236b94\">\n",
              "    <style>\n",
              "      .colab-df-generate {\n",
              "        background-color: #E8F0FE;\n",
              "        border: none;\n",
              "        border-radius: 50%;\n",
              "        cursor: pointer;\n",
              "        display: none;\n",
              "        fill: #1967D2;\n",
              "        height: 32px;\n",
              "        padding: 0 0 0 0;\n",
              "        width: 32px;\n",
              "      }\n",
              "\n",
              "      .colab-df-generate:hover {\n",
              "        background-color: #E2EBFA;\n",
              "        box-shadow: 0px 1px 2px rgba(60, 64, 67, 0.3), 0px 1px 3px 1px rgba(60, 64, 67, 0.15);\n",
              "        fill: #174EA6;\n",
              "      }\n",
              "\n",
              "      [theme=dark] .colab-df-generate {\n",
              "        background-color: #3B4455;\n",
              "        fill: #D2E3FC;\n",
              "      }\n",
              "\n",
              "      [theme=dark] .colab-df-generate:hover {\n",
              "        background-color: #434B5C;\n",
              "        box-shadow: 0px 1px 3px 1px rgba(0, 0, 0, 0.15);\n",
              "        filter: drop-shadow(0px 1px 2px rgba(0, 0, 0, 0.3));\n",
              "        fill: #FFFFFF;\n",
              "      }\n",
              "    </style>\n",
              "    <button class=\"colab-df-generate\" onclick=\"generateWithVariable('edge_df')\"\n",
              "            title=\"Generate code using this dataframe.\"\n",
              "            style=\"display:none;\">\n",
              "\n",
              "  <svg xmlns=\"http://www.w3.org/2000/svg\" height=\"24px\"viewBox=\"0 0 24 24\"\n",
              "       width=\"24px\">\n",
              "    <path d=\"M7,19H8.4L18.45,9,17,7.55,7,17.6ZM5,21V16.75L18.45,3.32a2,2,0,0,1,2.83,0l1.4,1.43a1.91,1.91,0,0,1,.58,1.4,1.91,1.91,0,0,1-.58,1.4L9.25,21ZM18.45,9,17,7.55Zm-12,3A5.31,5.31,0,0,0,4.9,8.1,5.31,5.31,0,0,0,1,6.5,5.31,5.31,0,0,0,4.9,4.9,5.31,5.31,0,0,0,6.5,1,5.31,5.31,0,0,0,8.1,4.9,5.31,5.31,0,0,0,12,6.5,5.46,5.46,0,0,0,6.5,12Z\"/>\n",
              "  </svg>\n",
              "    </button>\n",
              "    <script>\n",
              "      (() => {\n",
              "      const buttonEl =\n",
              "        document.querySelector('#id_7532f795-1d92-4912-ac7e-c99b47236b94 button.colab-df-generate');\n",
              "      buttonEl.style.display =\n",
              "        google.colab.kernel.accessAllowed ? 'block' : 'none';\n",
              "\n",
              "      buttonEl.onclick = () => {\n",
              "        google.colab.notebook.generateWithVariable('edge_df');\n",
              "      }\n",
              "      })();\n",
              "    </script>\n",
              "  </div>\n",
              "\n",
              "    </div>\n",
              "  </div>\n"
            ],
            "application/vnd.google.colaboratory.intrinsic+json": {
              "type": "dataframe",
              "variable_name": "edge_df",
              "summary": "{\n  \"name\": \"edge_df\",\n  \"rows\": 70367,\n  \"fields\": [\n    {\n      \"column\": \"GlobalId\",\n      \"properties\": {\n        \"dtype\": \"category\",\n        \"num_unique_values\": 6646,\n        \"samples\": [\n          \"['mercurymachining_dhs']\",\n          \"['westcoastjump_d&b']\",\n          \"['michaelbrothersinc_az']\"\n        ],\n        \"semantic_type\": \"\",\n        \"description\": \"\"\n      }\n    },\n    {\n      \"column\": \"ProcessCapability\",\n      \"properties\": {\n        \"dtype\": \"category\",\n        \"num_unique_values\": 6501,\n        \"samples\": [\n          \"Sign Maintenance\",\n          \"Application Coating\",\n          \"Hot air thermoplastic tube bonding\"\n        ],\n        \"semantic_type\": \"\",\n        \"description\": \"\"\n      }\n    }\n  ]\n}"
            }
          },
          "metadata": {},
          "execution_count": 14
        }
      ]
    },
    {
      "cell_type": "markdown",
      "source": [
        "We implement labelencoding for the dataframe"
      ],
      "metadata": {
        "id": "hykmO_tsXBeL"
      }
    },
    {
      "cell_type": "code",
      "source": [
        "import pandas as pd\n",
        "from sklearn.preprocessing import LabelEncoder\n",
        "\n",
        "le_gid = LabelEncoder()\n",
        "le_cap = LabelEncoder()\n",
        "\n",
        "edge_df['gid_encoded'] = le_gid.fit_transform(edge_df['GlobalId'])\n",
        "edge_df['cap_encoded'] = le_cap.fit_transform(edge_df['ProcessCapability'])\n",
        "edge_df['cap_encoded'] += edge_df['gid_encoded'].max() + 1      #offset capability code so that node IDs in the graph are unique\n",
        "edge_df"
      ],
      "metadata": {
        "colab": {
          "base_uri": "https://localhost:8080/",
          "height": 419
        },
        "id": "KGjBe5PQR0sl",
        "outputId": "71711402-5428-4ea2-8ff9-c3d46f072dff",
        "collapsed": true
      },
      "execution_count": null,
      "outputs": [
        {
          "output_type": "execute_result",
          "data": {
            "text/plain": [
              "                       GlobalId            ProcessCapability  gid_encoded  \\\n",
              "0      ['1776fabrication_mskg']           Forming Capability            0   \n",
              "1      ['1776fabrication_mskg']         Machining Capability            0   \n",
              "2      ['1776fabrication_mskg']         Finishing Capability            0   \n",
              "3      ['1776fabrication_mskg']       Fabricating Capability            0   \n",
              "4      ['1776fabrication_mskg']     CNC Machining Capability            0   \n",
              "...                         ...                          ...          ...   \n",
              "70362  ['westfall-technik_d&b']       Prototyping Low-Volume         6475   \n",
              "70363  ['westfall-technik_d&b']      Prototyping High-Volume         6475   \n",
              "70364  ['westfall-technik_d&b']             Assembly Kitting         6475   \n",
              "70365  ['westfall-technik_d&b']  Automation Cell Engineering         6475   \n",
              "70366  ['westfall-technik_d&b']           Tooling Production         6475   \n",
              "\n",
              "       cap_encoded  \n",
              "0             9137  \n",
              "1            10014  \n",
              "2             9035  \n",
              "3             8949  \n",
              "4             7337  \n",
              "...            ...  \n",
              "70362        11358  \n",
              "70363        11355  \n",
              "70364         6945  \n",
              "70365         7052  \n",
              "70366        12647  \n",
              "\n",
              "[70367 rows x 4 columns]"
            ],
            "text/html": [
              "\n",
              "  <div id=\"df-cb2743a1-b613-47df-b93e-669d3320b989\" class=\"colab-df-container\">\n",
              "    <div>\n",
              "<style scoped>\n",
              "    .dataframe tbody tr th:only-of-type {\n",
              "        vertical-align: middle;\n",
              "    }\n",
              "\n",
              "    .dataframe tbody tr th {\n",
              "        vertical-align: top;\n",
              "    }\n",
              "\n",
              "    .dataframe thead th {\n",
              "        text-align: right;\n",
              "    }\n",
              "</style>\n",
              "<table border=\"1\" class=\"dataframe\">\n",
              "  <thead>\n",
              "    <tr style=\"text-align: right;\">\n",
              "      <th></th>\n",
              "      <th>GlobalId</th>\n",
              "      <th>ProcessCapability</th>\n",
              "      <th>gid_encoded</th>\n",
              "      <th>cap_encoded</th>\n",
              "    </tr>\n",
              "  </thead>\n",
              "  <tbody>\n",
              "    <tr>\n",
              "      <th>0</th>\n",
              "      <td>['1776fabrication_mskg']</td>\n",
              "      <td>Forming Capability</td>\n",
              "      <td>0</td>\n",
              "      <td>9137</td>\n",
              "    </tr>\n",
              "    <tr>\n",
              "      <th>1</th>\n",
              "      <td>['1776fabrication_mskg']</td>\n",
              "      <td>Machining Capability</td>\n",
              "      <td>0</td>\n",
              "      <td>10014</td>\n",
              "    </tr>\n",
              "    <tr>\n",
              "      <th>2</th>\n",
              "      <td>['1776fabrication_mskg']</td>\n",
              "      <td>Finishing Capability</td>\n",
              "      <td>0</td>\n",
              "      <td>9035</td>\n",
              "    </tr>\n",
              "    <tr>\n",
              "      <th>3</th>\n",
              "      <td>['1776fabrication_mskg']</td>\n",
              "      <td>Fabricating Capability</td>\n",
              "      <td>0</td>\n",
              "      <td>8949</td>\n",
              "    </tr>\n",
              "    <tr>\n",
              "      <th>4</th>\n",
              "      <td>['1776fabrication_mskg']</td>\n",
              "      <td>CNC Machining Capability</td>\n",
              "      <td>0</td>\n",
              "      <td>7337</td>\n",
              "    </tr>\n",
              "    <tr>\n",
              "      <th>...</th>\n",
              "      <td>...</td>\n",
              "      <td>...</td>\n",
              "      <td>...</td>\n",
              "      <td>...</td>\n",
              "    </tr>\n",
              "    <tr>\n",
              "      <th>70362</th>\n",
              "      <td>['westfall-technik_d&amp;b']</td>\n",
              "      <td>Prototyping Low-Volume</td>\n",
              "      <td>6475</td>\n",
              "      <td>11358</td>\n",
              "    </tr>\n",
              "    <tr>\n",
              "      <th>70363</th>\n",
              "      <td>['westfall-technik_d&amp;b']</td>\n",
              "      <td>Prototyping High-Volume</td>\n",
              "      <td>6475</td>\n",
              "      <td>11355</td>\n",
              "    </tr>\n",
              "    <tr>\n",
              "      <th>70364</th>\n",
              "      <td>['westfall-technik_d&amp;b']</td>\n",
              "      <td>Assembly Kitting</td>\n",
              "      <td>6475</td>\n",
              "      <td>6945</td>\n",
              "    </tr>\n",
              "    <tr>\n",
              "      <th>70365</th>\n",
              "      <td>['westfall-technik_d&amp;b']</td>\n",
              "      <td>Automation Cell Engineering</td>\n",
              "      <td>6475</td>\n",
              "      <td>7052</td>\n",
              "    </tr>\n",
              "    <tr>\n",
              "      <th>70366</th>\n",
              "      <td>['westfall-technik_d&amp;b']</td>\n",
              "      <td>Tooling Production</td>\n",
              "      <td>6475</td>\n",
              "      <td>12647</td>\n",
              "    </tr>\n",
              "  </tbody>\n",
              "</table>\n",
              "<p>70367 rows × 4 columns</p>\n",
              "</div>\n",
              "    <div class=\"colab-df-buttons\">\n",
              "\n",
              "  <div class=\"colab-df-container\">\n",
              "    <button class=\"colab-df-convert\" onclick=\"convertToInteractive('df-cb2743a1-b613-47df-b93e-669d3320b989')\"\n",
              "            title=\"Convert this dataframe to an interactive table.\"\n",
              "            style=\"display:none;\">\n",
              "\n",
              "  <svg xmlns=\"http://www.w3.org/2000/svg\" height=\"24px\" viewBox=\"0 -960 960 960\">\n",
              "    <path d=\"M120-120v-720h720v720H120Zm60-500h600v-160H180v160Zm220 220h160v-160H400v160Zm0 220h160v-160H400v160ZM180-400h160v-160H180v160Zm440 0h160v-160H620v160ZM180-180h160v-160H180v160Zm440 0h160v-160H620v160Z\"/>\n",
              "  </svg>\n",
              "    </button>\n",
              "\n",
              "  <style>\n",
              "    .colab-df-container {\n",
              "      display:flex;\n",
              "      gap: 12px;\n",
              "    }\n",
              "\n",
              "    .colab-df-convert {\n",
              "      background-color: #E8F0FE;\n",
              "      border: none;\n",
              "      border-radius: 50%;\n",
              "      cursor: pointer;\n",
              "      display: none;\n",
              "      fill: #1967D2;\n",
              "      height: 32px;\n",
              "      padding: 0 0 0 0;\n",
              "      width: 32px;\n",
              "    }\n",
              "\n",
              "    .colab-df-convert:hover {\n",
              "      background-color: #E2EBFA;\n",
              "      box-shadow: 0px 1px 2px rgba(60, 64, 67, 0.3), 0px 1px 3px 1px rgba(60, 64, 67, 0.15);\n",
              "      fill: #174EA6;\n",
              "    }\n",
              "\n",
              "    .colab-df-buttons div {\n",
              "      margin-bottom: 4px;\n",
              "    }\n",
              "\n",
              "    [theme=dark] .colab-df-convert {\n",
              "      background-color: #3B4455;\n",
              "      fill: #D2E3FC;\n",
              "    }\n",
              "\n",
              "    [theme=dark] .colab-df-convert:hover {\n",
              "      background-color: #434B5C;\n",
              "      box-shadow: 0px 1px 3px 1px rgba(0, 0, 0, 0.15);\n",
              "      filter: drop-shadow(0px 1px 2px rgba(0, 0, 0, 0.3));\n",
              "      fill: #FFFFFF;\n",
              "    }\n",
              "  </style>\n",
              "\n",
              "    <script>\n",
              "      const buttonEl =\n",
              "        document.querySelector('#df-cb2743a1-b613-47df-b93e-669d3320b989 button.colab-df-convert');\n",
              "      buttonEl.style.display =\n",
              "        google.colab.kernel.accessAllowed ? 'block' : 'none';\n",
              "\n",
              "      async function convertToInteractive(key) {\n",
              "        const element = document.querySelector('#df-cb2743a1-b613-47df-b93e-669d3320b989');\n",
              "        const dataTable =\n",
              "          await google.colab.kernel.invokeFunction('convertToInteractive',\n",
              "                                                    [key], {});\n",
              "        if (!dataTable) return;\n",
              "\n",
              "        const docLinkHtml = 'Like what you see? Visit the ' +\n",
              "          '<a target=\"_blank\" href=https://colab.research.google.com/notebooks/data_table.ipynb>data table notebook</a>'\n",
              "          + ' to learn more about interactive tables.';\n",
              "        element.innerHTML = '';\n",
              "        dataTable['output_type'] = 'display_data';\n",
              "        await google.colab.output.renderOutput(dataTable, element);\n",
              "        const docLink = document.createElement('div');\n",
              "        docLink.innerHTML = docLinkHtml;\n",
              "        element.appendChild(docLink);\n",
              "      }\n",
              "    </script>\n",
              "  </div>\n",
              "\n",
              "\n",
              "    <div id=\"df-1a901cbf-56bf-457b-9c86-e1893bc93a0c\">\n",
              "      <button class=\"colab-df-quickchart\" onclick=\"quickchart('df-1a901cbf-56bf-457b-9c86-e1893bc93a0c')\"\n",
              "                title=\"Suggest charts\"\n",
              "                style=\"display:none;\">\n",
              "\n",
              "<svg xmlns=\"http://www.w3.org/2000/svg\" height=\"24px\"viewBox=\"0 0 24 24\"\n",
              "     width=\"24px\">\n",
              "    <g>\n",
              "        <path d=\"M19 3H5c-1.1 0-2 .9-2 2v14c0 1.1.9 2 2 2h14c1.1 0 2-.9 2-2V5c0-1.1-.9-2-2-2zM9 17H7v-7h2v7zm4 0h-2V7h2v10zm4 0h-2v-4h2v4z\"/>\n",
              "    </g>\n",
              "</svg>\n",
              "      </button>\n",
              "\n",
              "<style>\n",
              "  .colab-df-quickchart {\n",
              "      --bg-color: #E8F0FE;\n",
              "      --fill-color: #1967D2;\n",
              "      --hover-bg-color: #E2EBFA;\n",
              "      --hover-fill-color: #174EA6;\n",
              "      --disabled-fill-color: #AAA;\n",
              "      --disabled-bg-color: #DDD;\n",
              "  }\n",
              "\n",
              "  [theme=dark] .colab-df-quickchart {\n",
              "      --bg-color: #3B4455;\n",
              "      --fill-color: #D2E3FC;\n",
              "      --hover-bg-color: #434B5C;\n",
              "      --hover-fill-color: #FFFFFF;\n",
              "      --disabled-bg-color: #3B4455;\n",
              "      --disabled-fill-color: #666;\n",
              "  }\n",
              "\n",
              "  .colab-df-quickchart {\n",
              "    background-color: var(--bg-color);\n",
              "    border: none;\n",
              "    border-radius: 50%;\n",
              "    cursor: pointer;\n",
              "    display: none;\n",
              "    fill: var(--fill-color);\n",
              "    height: 32px;\n",
              "    padding: 0;\n",
              "    width: 32px;\n",
              "  }\n",
              "\n",
              "  .colab-df-quickchart:hover {\n",
              "    background-color: var(--hover-bg-color);\n",
              "    box-shadow: 0 1px 2px rgba(60, 64, 67, 0.3), 0 1px 3px 1px rgba(60, 64, 67, 0.15);\n",
              "    fill: var(--button-hover-fill-color);\n",
              "  }\n",
              "\n",
              "  .colab-df-quickchart-complete:disabled,\n",
              "  .colab-df-quickchart-complete:disabled:hover {\n",
              "    background-color: var(--disabled-bg-color);\n",
              "    fill: var(--disabled-fill-color);\n",
              "    box-shadow: none;\n",
              "  }\n",
              "\n",
              "  .colab-df-spinner {\n",
              "    border: 2px solid var(--fill-color);\n",
              "    border-color: transparent;\n",
              "    border-bottom-color: var(--fill-color);\n",
              "    animation:\n",
              "      spin 1s steps(1) infinite;\n",
              "  }\n",
              "\n",
              "  @keyframes spin {\n",
              "    0% {\n",
              "      border-color: transparent;\n",
              "      border-bottom-color: var(--fill-color);\n",
              "      border-left-color: var(--fill-color);\n",
              "    }\n",
              "    20% {\n",
              "      border-color: transparent;\n",
              "      border-left-color: var(--fill-color);\n",
              "      border-top-color: var(--fill-color);\n",
              "    }\n",
              "    30% {\n",
              "      border-color: transparent;\n",
              "      border-left-color: var(--fill-color);\n",
              "      border-top-color: var(--fill-color);\n",
              "      border-right-color: var(--fill-color);\n",
              "    }\n",
              "    40% {\n",
              "      border-color: transparent;\n",
              "      border-right-color: var(--fill-color);\n",
              "      border-top-color: var(--fill-color);\n",
              "    }\n",
              "    60% {\n",
              "      border-color: transparent;\n",
              "      border-right-color: var(--fill-color);\n",
              "    }\n",
              "    80% {\n",
              "      border-color: transparent;\n",
              "      border-right-color: var(--fill-color);\n",
              "      border-bottom-color: var(--fill-color);\n",
              "    }\n",
              "    90% {\n",
              "      border-color: transparent;\n",
              "      border-bottom-color: var(--fill-color);\n",
              "    }\n",
              "  }\n",
              "</style>\n",
              "\n",
              "      <script>\n",
              "        async function quickchart(key) {\n",
              "          const quickchartButtonEl =\n",
              "            document.querySelector('#' + key + ' button');\n",
              "          quickchartButtonEl.disabled = true;  // To prevent multiple clicks.\n",
              "          quickchartButtonEl.classList.add('colab-df-spinner');\n",
              "          try {\n",
              "            const charts = await google.colab.kernel.invokeFunction(\n",
              "                'suggestCharts', [key], {});\n",
              "          } catch (error) {\n",
              "            console.error('Error during call to suggestCharts:', error);\n",
              "          }\n",
              "          quickchartButtonEl.classList.remove('colab-df-spinner');\n",
              "          quickchartButtonEl.classList.add('colab-df-quickchart-complete');\n",
              "        }\n",
              "        (() => {\n",
              "          let quickchartButtonEl =\n",
              "            document.querySelector('#df-1a901cbf-56bf-457b-9c86-e1893bc93a0c button');\n",
              "          quickchartButtonEl.style.display =\n",
              "            google.colab.kernel.accessAllowed ? 'block' : 'none';\n",
              "        })();\n",
              "      </script>\n",
              "    </div>\n",
              "\n",
              "  <div id=\"id_9c37c42a-1eed-4a1d-a092-1492651079a3\">\n",
              "    <style>\n",
              "      .colab-df-generate {\n",
              "        background-color: #E8F0FE;\n",
              "        border: none;\n",
              "        border-radius: 50%;\n",
              "        cursor: pointer;\n",
              "        display: none;\n",
              "        fill: #1967D2;\n",
              "        height: 32px;\n",
              "        padding: 0 0 0 0;\n",
              "        width: 32px;\n",
              "      }\n",
              "\n",
              "      .colab-df-generate:hover {\n",
              "        background-color: #E2EBFA;\n",
              "        box-shadow: 0px 1px 2px rgba(60, 64, 67, 0.3), 0px 1px 3px 1px rgba(60, 64, 67, 0.15);\n",
              "        fill: #174EA6;\n",
              "      }\n",
              "\n",
              "      [theme=dark] .colab-df-generate {\n",
              "        background-color: #3B4455;\n",
              "        fill: #D2E3FC;\n",
              "      }\n",
              "\n",
              "      [theme=dark] .colab-df-generate:hover {\n",
              "        background-color: #434B5C;\n",
              "        box-shadow: 0px 1px 3px 1px rgba(0, 0, 0, 0.15);\n",
              "        filter: drop-shadow(0px 1px 2px rgba(0, 0, 0, 0.3));\n",
              "        fill: #FFFFFF;\n",
              "      }\n",
              "    </style>\n",
              "    <button class=\"colab-df-generate\" onclick=\"generateWithVariable('edge_df')\"\n",
              "            title=\"Generate code using this dataframe.\"\n",
              "            style=\"display:none;\">\n",
              "\n",
              "  <svg xmlns=\"http://www.w3.org/2000/svg\" height=\"24px\"viewBox=\"0 0 24 24\"\n",
              "       width=\"24px\">\n",
              "    <path d=\"M7,19H8.4L18.45,9,17,7.55,7,17.6ZM5,21V16.75L18.45,3.32a2,2,0,0,1,2.83,0l1.4,1.43a1.91,1.91,0,0,1,.58,1.4,1.91,1.91,0,0,1-.58,1.4L9.25,21ZM18.45,9,17,7.55Zm-12,3A5.31,5.31,0,0,0,4.9,8.1,5.31,5.31,0,0,0,1,6.5,5.31,5.31,0,0,0,4.9,4.9,5.31,5.31,0,0,0,6.5,1,5.31,5.31,0,0,0,8.1,4.9,5.31,5.31,0,0,0,12,6.5,5.46,5.46,0,0,0,6.5,12Z\"/>\n",
              "  </svg>\n",
              "    </button>\n",
              "    <script>\n",
              "      (() => {\n",
              "      const buttonEl =\n",
              "        document.querySelector('#id_9c37c42a-1eed-4a1d-a092-1492651079a3 button.colab-df-generate');\n",
              "      buttonEl.style.display =\n",
              "        google.colab.kernel.accessAllowed ? 'block' : 'none';\n",
              "\n",
              "      buttonEl.onclick = () => {\n",
              "        google.colab.notebook.generateWithVariable('edge_df');\n",
              "      }\n",
              "      })();\n",
              "    </script>\n",
              "  </div>\n",
              "\n",
              "    </div>\n",
              "  </div>\n"
            ],
            "application/vnd.google.colaboratory.intrinsic+json": {
              "type": "dataframe",
              "variable_name": "edge_df",
              "summary": "{\n  \"name\": \"edge_df\",\n  \"rows\": 70367,\n  \"fields\": [\n    {\n      \"column\": \"GlobalId\",\n      \"properties\": {\n        \"dtype\": \"category\",\n        \"num_unique_values\": 6646,\n        \"samples\": [\n          \"['mercurymachining_dhs']\",\n          \"['westcoastjump_d&b']\",\n          \"['michaelbrothersinc_az']\"\n        ],\n        \"semantic_type\": \"\",\n        \"description\": \"\"\n      }\n    },\n    {\n      \"column\": \"ProcessCapability\",\n      \"properties\": {\n        \"dtype\": \"category\",\n        \"num_unique_values\": 6501,\n        \"samples\": [\n          \"Sign Maintenance\",\n          \"Application Coating\",\n          \"Hot air thermoplastic tube bonding\"\n        ],\n        \"semantic_type\": \"\",\n        \"description\": \"\"\n      }\n    },\n    {\n      \"column\": \"gid_encoded\",\n      \"properties\": {\n        \"dtype\": \"number\",\n        \"std\": 1904,\n        \"min\": 0,\n        \"max\": 6645,\n        \"num_unique_values\": 6646,\n        \"samples\": [\n          3814,\n          6454,\n          3906\n        ],\n        \"semantic_type\": \"\",\n        \"description\": \"\"\n      }\n    },\n    {\n      \"column\": \"cap_encoded\",\n      \"properties\": {\n        \"dtype\": \"number\",\n        \"std\": 1901,\n        \"min\": 6646,\n        \"max\": 13146,\n        \"num_unique_values\": 6501,\n        \"samples\": [\n          12027,\n          6867,\n          9470\n        ],\n        \"semantic_type\": \"\",\n        \"description\": \"\"\n      }\n    }\n  ]\n}"
            }
          },
          "metadata": {},
          "execution_count": 15
        }
      ]
    },
    {
      "cell_type": "markdown",
      "source": [
        "Link-prediction (or edge classification) is essentially a binary-classification problem. Positive edges tell the model what a real connection looks like in terms of node features and graph context. Negative edges give counter-examples, preventing the model from simply predicting “edge” for every pair.\n",
        "\n",
        "In this code snippet, we shuffle known part-capability links, split them 80/20 into training and test positives, then construct matching negative edges—balanced in the test set and smaller in the training set—to create datasets ready for training and evaluating a link-prediction model.\n",
        "\n",
        "In binary-classification tasks, edges that truly exist (the positive edges) are often vastly out-numbered by negatives (non-edges). If we feed this raw distribution to a model, it can achieve deceptively high accuracy simply by predicting the majority class every time (“no edge here”), yet it will perform poorly on the minority class that we are actually concerned with. Thus we sub-sample the majority class so that the model sees a near mix of samples and is not biased."
      ],
      "metadata": {
        "id": "6u2LGEjRcOzW"
      }
    },
    {
      "cell_type": "code",
      "source": [
        "#we create a list of positive edges (existing links) by pairing each encoded part-ID (gid_encoded) with each encoded capability (cap_encoded).\n",
        "pos_edges = list(zip(edge_df['gid_encoded'], edge_df['cap_encoded']))\n",
        "\n",
        "#we shuffle the edges in order to reduce biasing\n",
        "random.shuffle(pos_edges)\n",
        "\n",
        "#we split it into an 80:20 training and testing set\n",
        "split = int(len(pos_edges) * 0.8)\n",
        "train_edges = pos_edges[:split]\n",
        "test_pos_edges = pos_edges[split:]\n",
        "\n",
        "#collect the unique sets of gids and capabailities\n",
        "all_gids = edge_df['gid_encoded'].unique()\n",
        "all_caps = edge_df['cap_encoded'].unique()\n",
        "\n",
        "#we generate all possible part-capability pairs (Cartesian product) and remove the ones that actually exist; what remains are candidate negative edges—pairs that are not present in the data.\n",
        "possible_neg_edges = list(set((g, c) for g in all_gids for c in all_caps) - set(pos_edges))\n",
        "test_neg_edges = random.sample(possible_neg_edges, len(test_pos_edges))   #randomly select a negative edge equal in size to a positive edge\n",
        "possible_neg_set = set(possible_neg_edges)\n",
        "test_neg_set = set(test_neg_edges)\n",
        "\n",
        "#we remove the test negatives from the overall negative pool, then sample a training-negative set that is half the size of the training-positive set\n",
        "train_neg_pool = possible_neg_set - test_neg_set\n",
        "train_neg_edges = random.sample(list(train_neg_pool), len(train_edges) // 2)"
      ],
      "metadata": {
        "id": "hMsRbyRRdOQU"
      },
      "execution_count": null,
      "outputs": []
    },
    {
      "cell_type": "code",
      "source": [
        "len(train_edges), len(train_neg_edges), len(test_pos_edges), len(test_neg_edges)"
      ],
      "metadata": {
        "colab": {
          "base_uri": "https://localhost:8080/"
        },
        "id": "6gwVBlSOrWos",
        "outputId": "1b3b73c8-e028-4fe6-e327-0b7b26868b6e"
      },
      "execution_count": null,
      "outputs": [
        {
          "output_type": "execute_result",
          "data": {
            "text/plain": [
              "(56293, 28146, 14074, 14074)"
            ]
          },
          "metadata": {},
          "execution_count": 17
        }
      ]
    },
    {
      "cell_type": "markdown",
      "source": [
        "We convert the raw edge lists into [2,E] tensors (for pytorch to process), create one-hot node features, and build a PyG Data object whose edge_index contains both directions of every training edge, giving an undirected graph that is ready for Graph Neural Network training and later link-prediction evaluation."
      ],
      "metadata": {
        "id": "cFKeqP9Xhgri"
      }
    },
    {
      "cell_type": "code",
      "source": [
        "#we turn the list of (source, target) tuples into a tensor of integers\n",
        "def encode_edges(edge_list):\n",
        "    return torch.tensor(edge_list, dtype=torch.long).T  # shape [2, num_edges]\n",
        "\n",
        "#create tensors for every edge\n",
        "train_edge_index = encode_edges(train_edges)\n",
        "test_pos_index = encode_edges(test_pos_edges)\n",
        "test_neg_index = encode_edges(test_neg_edges)\n",
        "train_neg_index = encode_edges(train_neg_edges)\n",
        "\n",
        "num_nodes = max(edge_df['cap_encoded'].max(), edge_df['gid_encoded'].max()) + 1  #total number of nodes\n",
        "x = torch.eye(num_nodes)\n",
        "\n",
        "#we assemble the training graph\n",
        "data = Data(x=x, edge_index=torch.cat([train_edge_index, train_edge_index.flip(0)], dim=1))"
      ],
      "metadata": {
        "id": "kU11k8JGexeN"
      },
      "execution_count": null,
      "outputs": []
    },
    {
      "cell_type": "code",
      "source": [
        "data"
      ],
      "metadata": {
        "id": "awq-o_GPf_lB",
        "colab": {
          "base_uri": "https://localhost:8080/"
        },
        "outputId": "b10f9755-b025-483a-cfaa-b05b7ee19a8e"
      },
      "execution_count": null,
      "outputs": [
        {
          "output_type": "execute_result",
          "data": {
            "text/plain": [
              "Data(x=[13147, 13147], edge_index=[2, 112586])"
            ]
          },
          "metadata": {},
          "execution_count": 20
        }
      ]
    },
    {
      "cell_type": "code",
      "source": [
        "train_edges[:5]"
      ],
      "metadata": {
        "id": "Pyz-GRdcgItU",
        "colab": {
          "base_uri": "https://localhost:8080/"
        },
        "outputId": "a42f3cd1-b5f8-4d5c-dcc5-ef639373572d"
      },
      "execution_count": null,
      "outputs": [
        {
          "output_type": "execute_result",
          "data": {
            "text/plain": [
              "[(1737, 7115), (863, 7494), (4591, 8949), (1577, 9137), (1478, 10014)]"
            ]
          },
          "metadata": {},
          "execution_count": 21
        }
      ]
    },
    {
      "cell_type": "code",
      "source": [
        "train_edge_index"
      ],
      "metadata": {
        "id": "5w1AXQVNgQgu",
        "colab": {
          "base_uri": "https://localhost:8080/"
        },
        "outputId": "89f0ed6b-8e7a-4946-903b-d359d48a6a70"
      },
      "execution_count": null,
      "outputs": [
        {
          "output_type": "execute_result",
          "data": {
            "text/plain": [
              "tensor([[1737,  863, 4591,  ..., 4085, 2669, 1599],\n",
              "        [7115, 7494, 8949,  ..., 8680, 7666, 6921]])"
            ]
          },
          "metadata": {},
          "execution_count": 22
        }
      ]
    },
    {
      "cell_type": "code",
      "source": [
        "train_edge_index.shape"
      ],
      "metadata": {
        "id": "cv-s0ZoFgAVI",
        "colab": {
          "base_uri": "https://localhost:8080/"
        },
        "outputId": "cf3fe1c4-48ab-4161-adb7-6497082dca1a"
      },
      "execution_count": null,
      "outputs": [
        {
          "output_type": "execute_result",
          "data": {
            "text/plain": [
              "torch.Size([2, 56293])"
            ]
          },
          "metadata": {},
          "execution_count": 23
        }
      ]
    },
    {
      "cell_type": "code",
      "source": [
        "x"
      ],
      "metadata": {
        "id": "3zMf02DCgK0M",
        "colab": {
          "base_uri": "https://localhost:8080/"
        },
        "outputId": "e01d8d1a-84b3-4ea7-c40e-54bfe5bec661"
      },
      "execution_count": null,
      "outputs": [
        {
          "output_type": "execute_result",
          "data": {
            "text/plain": [
              "tensor([[1., 0., 0.,  ..., 0., 0., 0.],\n",
              "        [0., 1., 0.,  ..., 0., 0., 0.],\n",
              "        [0., 0., 1.,  ..., 0., 0., 0.],\n",
              "        ...,\n",
              "        [0., 0., 0.,  ..., 1., 0., 0.],\n",
              "        [0., 0., 0.,  ..., 0., 1., 0.],\n",
              "        [0., 0., 0.,  ..., 0., 0., 1.]])"
            ]
          },
          "metadata": {},
          "execution_count": 24
        }
      ]
    },
    {
      "cell_type": "code",
      "source": [
        "num_nodes"
      ],
      "metadata": {
        "id": "no3GpIkRgmUY",
        "colab": {
          "base_uri": "https://localhost:8080/"
        },
        "outputId": "38266df1-2851-4304-bc5d-30f8f9e29fef"
      },
      "execution_count": null,
      "outputs": [
        {
          "output_type": "execute_result",
          "data": {
            "text/plain": [
              "13147"
            ]
          },
          "metadata": {},
          "execution_count": 25
        }
      ]
    },
    {
      "cell_type": "code",
      "source": [
        "edge_df['cap_encoded'].max()"
      ],
      "metadata": {
        "id": "yYbFBp7UgxTD",
        "colab": {
          "base_uri": "https://localhost:8080/"
        },
        "outputId": "be42d85f-cbec-4985-b802-8005765dfea9"
      },
      "execution_count": null,
      "outputs": [
        {
          "output_type": "execute_result",
          "data": {
            "text/plain": [
              "13146"
            ]
          },
          "metadata": {},
          "execution_count": 26
        }
      ]
    },
    {
      "cell_type": "code",
      "source": [
        "edge_df['gid_encoded'].max()"
      ],
      "metadata": {
        "id": "ZsncVx3sg722",
        "colab": {
          "base_uri": "https://localhost:8080/"
        },
        "outputId": "9ff1622f-6eca-484c-a7eb-2c35b86723cd"
      },
      "execution_count": null,
      "outputs": [
        {
          "output_type": "execute_result",
          "data": {
            "text/plain": [
              "6645"
            ]
          },
          "metadata": {},
          "execution_count": 27
        }
      ]
    },
    {
      "cell_type": "code",
      "source": [
        "torch.cat([train_edge_index, train_edge_index.flip(0)])"
      ],
      "metadata": {
        "id": "IqUyJ7aGg90h",
        "colab": {
          "base_uri": "https://localhost:8080/"
        },
        "outputId": "61b495f3-bca1-48e6-adaf-5aa9d3b056b5"
      },
      "execution_count": null,
      "outputs": [
        {
          "output_type": "execute_result",
          "data": {
            "text/plain": [
              "tensor([[1737,  863, 4591,  ..., 4085, 2669, 1599],\n",
              "        [7115, 7494, 8949,  ..., 8680, 7666, 6921],\n",
              "        [7115, 7494, 8949,  ..., 8680, 7666, 6921],\n",
              "        [1737,  863, 4591,  ..., 4085, 2669, 1599]])"
            ]
          },
          "metadata": {},
          "execution_count": 28
        }
      ]
    },
    {
      "cell_type": "code",
      "source": [
        "torch.cat([train_edge_index, train_edge_index.flip(0)]).shape"
      ],
      "metadata": {
        "id": "1-MZw195hk98",
        "colab": {
          "base_uri": "https://localhost:8080/"
        },
        "outputId": "c77be065-124a-4fe0-ef27-b5ca23ba8dfb"
      },
      "execution_count": null,
      "outputs": [
        {
          "output_type": "execute_result",
          "data": {
            "text/plain": [
              "torch.Size([4, 56293])"
            ]
          },
          "metadata": {},
          "execution_count": 29
        }
      ]
    },
    {
      "cell_type": "code",
      "source": [
        "x[13146]"
      ],
      "metadata": {
        "id": "yOK9f9Egho-d",
        "colab": {
          "base_uri": "https://localhost:8080/"
        },
        "outputId": "3e0eecb4-fe10-4f59-8446-1c59c70dc85d"
      },
      "execution_count": null,
      "outputs": [
        {
          "output_type": "execute_result",
          "data": {
            "text/plain": [
              "tensor([0., 0., 0.,  ..., 0., 0., 1.])"
            ]
          },
          "metadata": {},
          "execution_count": 30
        }
      ]
    },
    {
      "cell_type": "markdown",
      "source": [
        "The GCNEncoder is a compact, two-layer Graph Convolutional Network (GCN) that turns raw node features into latent embeddings."
      ],
      "metadata": {
        "id": "tUYmp0e7iamj"
      }
    },
    {
      "cell_type": "code",
      "source": [
        "class GCNEncoder(nn.Module):\n",
        "    def __init__(self, in_channels, hidden_channels):\n",
        "        super().__init__()\n",
        "        self.conv1 = GCNConv(in_channels, hidden_channels)\n",
        "        self.conv2 = GCNConv(hidden_channels, hidden_channels)\n",
        "\n",
        "    def forward(self, x, edge_index):\n",
        "        x = F.relu(self.conv1(x, edge_index))\n",
        "        return self.conv2(x, edge_index)"
      ],
      "metadata": {
        "id": "xWPE5hhYifDX"
      },
      "execution_count": null,
      "outputs": []
    },
    {
      "cell_type": "markdown",
      "source": [
        "We instantiate a two-layer GCN to turn node features into 64-dimensional embeddings. Then, we introduce a dot-product `decode` function that scores any pair of nodes, and `BCEWithLogitsLoss` with Adam (lr = 0.01), which is set up to teach the embeddings to give high scores to real edges and low scores to sampled negatives.  \n",
        "Together, these three components form a complete, trainable link-prediction pipeline: **encoder --> decoder --> loss/optimizer**."
      ],
      "metadata": {
        "id": "SMDotGyMlVqc"
      }
    },
    {
      "cell_type": "code",
      "source": [
        "def decode(z, edge_index):\n",
        "    return (z[edge_index[0]] * z[edge_index[1]]).sum(dim=1)\n",
        "\n",
        "model = GCNEncoder(in_channels=x.size(1), hidden_channels=64) #instantiate the GCNEncoder, where the model is a 2 layer convolutional network\n",
        "optimizer = torch.optim.Adam(model.parameters(), lr=0.01) #Adam combines momentum and adaptive learning-rates\n",
        "loss_fn = torch.nn.BCEWithLogitsLoss()  #it first applies a sigmoid to each score, then computes BCE in a numerically-stable way`"
      ],
      "metadata": {
        "id": "G2Ifn90mirZN"
      },
      "execution_count": null,
      "outputs": []
    },
    {
      "cell_type": "markdown",
      "source": [
        "For each of 20 epochs we produce node embeddings with a two-layer GCN, score real and sampled-negative edges via a dot-product decoder, and concatenate those logits with matching 1/0 labels.\n",
        "BCEWithLogitsLoss computes the error, gradients are back-propagated, and Adam adjusts the GCN weights.\n",
        "The printed loss shows whether the model is learning to separate existing edges from non-edges over time."
      ],
      "metadata": {
        "id": "cMV5kvDynDLy"
      }
    },
    {
      "cell_type": "code",
      "source": [
        "for epoch in tqdm(range(1, 100)):    #loops 50 times\n",
        "    model.train()   #we train the model\n",
        "    optimizer.zero_grad()   #we clear leftover gradients\n",
        "\n",
        "    z = model(data.x, data.edge_index)    #we run a forward pass\n",
        "    pos_out = decode(z, train_edge_index)   #we compute dot product for positive and negative training edges\n",
        "    neg_out = decode(z, train_neg_index)\n",
        "\n",
        "    out = torch.cat([pos_out, neg_out])   #we join the tensors\n",
        "\n",
        "    y_true = torch.cat([                  #we build a matching label vector: 1’s for real edges, 0’s for sampled non-edges\n",
        "        torch.ones(pos_out.size(0)),\n",
        "        torch.zeros(neg_out.size(0))\n",
        "    ])\n",
        "\n",
        "    loss = loss_fn(out, y_true)\n",
        "    loss.backward()\n",
        "    optimizer.step()\n",
        "\n",
        "    print(f\"Epoch {epoch} | Loss: {loss.item():.4f}\")\n"
      ],
      "metadata": {
        "id": "j75l27gXivZw",
        "colab": {
          "base_uri": "https://localhost:8080/"
        },
        "outputId": "3621759f-1996-4ad6-c7f2-bc68c42a1d25"
      },
      "execution_count": null,
      "outputs": [
        {
          "metadata": {
            "tags": null
          },
          "name": "stderr",
          "output_type": "stream",
          "text": [
            "  1%|          | 1/99 [00:00<01:10,  1.40it/s]"
          ]
        },
        {
          "metadata": {
            "tags": null
          },
          "name": "stdout",
          "output_type": "stream",
          "text": [
            "Epoch 1 | Loss: 0.0902\n"
          ]
        },
        {
          "metadata": {
            "tags": null
          },
          "name": "stderr",
          "output_type": "stream",
          "text": [
            "\r  2%|▏         | 2/99 [00:01<01:09,  1.39it/s]"
          ]
        },
        {
          "metadata": {
            "tags": null
          },
          "name": "stdout",
          "output_type": "stream",
          "text": [
            "Epoch 2 | Loss: 0.3235\n"
          ]
        },
        {
          "metadata": {
            "tags": null
          },
          "name": "stderr",
          "output_type": "stream",
          "text": [
            "\r  3%|▎         | 3/99 [00:02<01:07,  1.42it/s]"
          ]
        },
        {
          "metadata": {
            "tags": null
          },
          "name": "stdout",
          "output_type": "stream",
          "text": [
            "Epoch 3 | Loss: 0.1066\n"
          ]
        },
        {
          "metadata": {
            "tags": null
          },
          "name": "stderr",
          "output_type": "stream",
          "text": [
            "\r  4%|▍         | 4/99 [00:02<01:09,  1.37it/s]"
          ]
        },
        {
          "metadata": {
            "tags": null
          },
          "name": "stdout",
          "output_type": "stream",
          "text": [
            "Epoch 4 | Loss: 0.1545\n"
          ]
        },
        {
          "metadata": {
            "tags": null
          },
          "name": "stderr",
          "output_type": "stream",
          "text": [
            "\r  5%|▌         | 5/99 [00:03<01:09,  1.35it/s]"
          ]
        },
        {
          "metadata": {
            "tags": null
          },
          "name": "stdout",
          "output_type": "stream",
          "text": [
            "Epoch 5 | Loss: 0.2192\n"
          ]
        },
        {
          "metadata": {
            "tags": null
          },
          "name": "stderr",
          "output_type": "stream",
          "text": [
            "\r  6%|▌         | 6/99 [00:04<01:16,  1.21it/s]"
          ]
        },
        {
          "metadata": {
            "tags": null
          },
          "name": "stdout",
          "output_type": "stream",
          "text": [
            "Epoch 6 | Loss: 0.2912\n"
          ]
        },
        {
          "metadata": {
            "tags": null
          },
          "name": "stderr",
          "output_type": "stream",
          "text": [
            "\r  7%|▋         | 7/99 [00:05<01:23,  1.10it/s]"
          ]
        },
        {
          "metadata": {
            "tags": null
          },
          "name": "stdout",
          "output_type": "stream",
          "text": [
            "Epoch 7 | Loss: 0.3531\n"
          ]
        },
        {
          "metadata": {
            "tags": null
          },
          "name": "stderr",
          "output_type": "stream",
          "text": [
            "\r  8%|▊         | 8/99 [00:06<01:27,  1.04it/s]"
          ]
        },
        {
          "metadata": {
            "tags": null
          },
          "name": "stdout",
          "output_type": "stream",
          "text": [
            "Epoch 8 | Loss: 0.3934\n"
          ]
        },
        {
          "metadata": {
            "tags": null
          },
          "name": "stderr",
          "output_type": "stream",
          "text": [
            "\r  9%|▉         | 9/99 [00:07<01:30,  1.00s/it]"
          ]
        },
        {
          "metadata": {
            "tags": null
          },
          "name": "stdout",
          "output_type": "stream",
          "text": [
            "Epoch 9 | Loss: 0.4124\n"
          ]
        },
        {
          "metadata": {
            "tags": null
          },
          "name": "stderr",
          "output_type": "stream",
          "text": [
            "\r 10%|█         | 10/99 [00:09<01:32,  1.04s/it]"
          ]
        },
        {
          "metadata": {
            "tags": null
          },
          "name": "stdout",
          "output_type": "stream",
          "text": [
            "Epoch 10 | Loss: 0.4172\n"
          ]
        },
        {
          "metadata": {
            "tags": null
          },
          "name": "stderr",
          "output_type": "stream",
          "text": [
            "\r 11%|█         | 11/99 [00:10<01:31,  1.04s/it]"
          ]
        },
        {
          "metadata": {
            "tags": null
          },
          "name": "stdout",
          "output_type": "stream",
          "text": [
            "Epoch 11 | Loss: 0.4142\n"
          ]
        },
        {
          "metadata": {
            "tags": null
          },
          "name": "stderr",
          "output_type": "stream",
          "text": [
            "\r 12%|█▏        | 12/99 [00:11<01:32,  1.07s/it]"
          ]
        },
        {
          "metadata": {
            "tags": null
          },
          "name": "stdout",
          "output_type": "stream",
          "text": [
            "Epoch 12 | Loss: 0.4054\n"
          ]
        },
        {
          "metadata": {
            "tags": null
          },
          "name": "stderr",
          "output_type": "stream",
          "text": [
            "\r 13%|█▎        | 13/99 [00:12<01:29,  1.04s/it]"
          ]
        },
        {
          "metadata": {
            "tags": null
          },
          "name": "stdout",
          "output_type": "stream",
          "text": [
            "Epoch 13 | Loss: 0.3913\n"
          ]
        },
        {
          "metadata": {
            "tags": null
          },
          "name": "stderr",
          "output_type": "stream",
          "text": [
            "\r 14%|█▍        | 14/99 [00:13<01:35,  1.13s/it]"
          ]
        },
        {
          "metadata": {
            "tags": null
          },
          "name": "stdout",
          "output_type": "stream",
          "text": [
            "Epoch 14 | Loss: 0.3730\n"
          ]
        },
        {
          "metadata": {
            "tags": null
          },
          "name": "stderr",
          "output_type": "stream",
          "text": [
            "\r 15%|█▌        | 15/99 [00:14<01:39,  1.18s/it]"
          ]
        },
        {
          "metadata": {
            "tags": null
          },
          "name": "stdout",
          "output_type": "stream",
          "text": [
            "Epoch 15 | Loss: 0.3520\n"
          ]
        },
        {
          "metadata": {
            "tags": null
          },
          "name": "stderr",
          "output_type": "stream",
          "text": [
            "\r 16%|█▌        | 16/99 [00:15<01:28,  1.06s/it]"
          ]
        },
        {
          "metadata": {
            "tags": null
          },
          "name": "stdout",
          "output_type": "stream",
          "text": [
            "Epoch 16 | Loss: 0.3298\n"
          ]
        },
        {
          "metadata": {
            "tags": null
          },
          "name": "stderr",
          "output_type": "stream",
          "text": [
            "\r 17%|█▋        | 17/99 [00:16<01:20,  1.02it/s]"
          ]
        },
        {
          "metadata": {
            "tags": null
          },
          "name": "stdout",
          "output_type": "stream",
          "text": [
            "Epoch 17 | Loss: 0.3074\n"
          ]
        },
        {
          "metadata": {
            "tags": null
          },
          "name": "stderr",
          "output_type": "stream",
          "text": [
            "\r 18%|█▊        | 18/99 [00:17<01:14,  1.09it/s]"
          ]
        },
        {
          "metadata": {
            "tags": null
          },
          "name": "stdout",
          "output_type": "stream",
          "text": [
            "Epoch 18 | Loss: 0.2854\n"
          ]
        },
        {
          "metadata": {
            "tags": null
          },
          "name": "stderr",
          "output_type": "stream",
          "text": [
            "\r 19%|█▉        | 19/99 [00:17<01:08,  1.17it/s]"
          ]
        },
        {
          "metadata": {
            "tags": null
          },
          "name": "stdout",
          "output_type": "stream",
          "text": [
            "Epoch 19 | Loss: 0.2637\n"
          ]
        },
        {
          "metadata": {
            "tags": null
          },
          "name": "stderr",
          "output_type": "stream",
          "text": [
            "\r 20%|██        | 20/99 [00:18<01:04,  1.23it/s]"
          ]
        },
        {
          "metadata": {
            "tags": null
          },
          "name": "stdout",
          "output_type": "stream",
          "text": [
            "Epoch 20 | Loss: 0.2427\n"
          ]
        },
        {
          "metadata": {
            "tags": null
          },
          "name": "stderr",
          "output_type": "stream",
          "text": [
            "\r 21%|██        | 21/99 [00:19<01:02,  1.25it/s]"
          ]
        },
        {
          "metadata": {
            "tags": null
          },
          "name": "stdout",
          "output_type": "stream",
          "text": [
            "Epoch 21 | Loss: 0.2225\n"
          ]
        },
        {
          "metadata": {
            "tags": null
          },
          "name": "stderr",
          "output_type": "stream",
          "text": [
            "\r 22%|██▏       | 22/99 [00:20<01:04,  1.20it/s]"
          ]
        },
        {
          "metadata": {
            "tags": null
          },
          "name": "stdout",
          "output_type": "stream",
          "text": [
            "Epoch 22 | Loss: 0.2035\n"
          ]
        },
        {
          "metadata": {
            "tags": null
          },
          "name": "stderr",
          "output_type": "stream",
          "text": [
            "\r 23%|██▎       | 23/99 [00:21<01:08,  1.11it/s]"
          ]
        },
        {
          "metadata": {
            "tags": null
          },
          "name": "stdout",
          "output_type": "stream",
          "text": [
            "Epoch 23 | Loss: 0.1859\n"
          ]
        },
        {
          "metadata": {
            "tags": null
          },
          "name": "stderr",
          "output_type": "stream",
          "text": [
            "\r 24%|██▍       | 24/99 [00:22<01:10,  1.06it/s]"
          ]
        },
        {
          "metadata": {
            "tags": null
          },
          "name": "stdout",
          "output_type": "stream",
          "text": [
            "Epoch 24 | Loss: 0.1702\n"
          ]
        },
        {
          "metadata": {
            "tags": null
          },
          "name": "stderr",
          "output_type": "stream",
          "text": [
            "\r 25%|██▌       | 25/99 [00:23<01:11,  1.03it/s]"
          ]
        },
        {
          "metadata": {
            "tags": null
          },
          "name": "stdout",
          "output_type": "stream",
          "text": [
            "Epoch 25 | Loss: 0.1570\n"
          ]
        },
        {
          "metadata": {
            "tags": null
          },
          "name": "stderr",
          "output_type": "stream",
          "text": [
            "\r 26%|██▋       | 26/99 [00:24<01:13,  1.01s/it]"
          ]
        },
        {
          "metadata": {
            "tags": null
          },
          "name": "stdout",
          "output_type": "stream",
          "text": [
            "Epoch 26 | Loss: 0.1466\n"
          ]
        },
        {
          "metadata": {
            "tags": null
          },
          "name": "stderr",
          "output_type": "stream",
          "text": [
            "\r 27%|██▋       | 27/99 [00:25<01:07,  1.07it/s]"
          ]
        },
        {
          "metadata": {
            "tags": null
          },
          "name": "stdout",
          "output_type": "stream",
          "text": [
            "Epoch 27 | Loss: 0.1391\n"
          ]
        },
        {
          "metadata": {
            "tags": null
          },
          "name": "stderr",
          "output_type": "stream",
          "text": [
            "\r 28%|██▊       | 28/99 [00:25<01:01,  1.15it/s]"
          ]
        },
        {
          "metadata": {
            "tags": null
          },
          "name": "stdout",
          "output_type": "stream",
          "text": [
            "Epoch 28 | Loss: 0.1343\n"
          ]
        },
        {
          "metadata": {
            "tags": null
          },
          "name": "stderr",
          "output_type": "stream",
          "text": [
            "\r 29%|██▉       | 29/99 [00:26<00:58,  1.20it/s]"
          ]
        },
        {
          "metadata": {
            "tags": null
          },
          "name": "stdout",
          "output_type": "stream",
          "text": [
            "Epoch 29 | Loss: 0.1317\n"
          ]
        },
        {
          "metadata": {
            "tags": null
          },
          "name": "stderr",
          "output_type": "stream",
          "text": [
            "\r 30%|███       | 30/99 [00:27<00:55,  1.25it/s]"
          ]
        },
        {
          "metadata": {
            "tags": null
          },
          "name": "stdout",
          "output_type": "stream",
          "text": [
            "Epoch 30 | Loss: 0.1306\n"
          ]
        },
        {
          "metadata": {
            "tags": null
          },
          "name": "stderr",
          "output_type": "stream",
          "text": [
            "\r 31%|███▏      | 31/99 [00:28<00:54,  1.24it/s]"
          ]
        },
        {
          "metadata": {
            "tags": null
          },
          "name": "stdout",
          "output_type": "stream",
          "text": [
            "Epoch 31 | Loss: 0.1306\n"
          ]
        },
        {
          "metadata": {
            "tags": null
          },
          "name": "stderr",
          "output_type": "stream",
          "text": [
            "\r 32%|███▏      | 32/99 [00:28<00:52,  1.29it/s]"
          ]
        },
        {
          "metadata": {
            "tags": null
          },
          "name": "stdout",
          "output_type": "stream",
          "text": [
            "Epoch 32 | Loss: 0.1310\n"
          ]
        },
        {
          "metadata": {
            "tags": null
          },
          "name": "stderr",
          "output_type": "stream",
          "text": [
            "\r 33%|███▎      | 33/99 [00:29<00:49,  1.34it/s]"
          ]
        },
        {
          "metadata": {
            "tags": null
          },
          "name": "stdout",
          "output_type": "stream",
          "text": [
            "Epoch 33 | Loss: 0.1310\n"
          ]
        },
        {
          "metadata": {
            "tags": null
          },
          "name": "stderr",
          "output_type": "stream",
          "text": [
            "\r 34%|███▍      | 34/99 [00:30<00:47,  1.36it/s]"
          ]
        },
        {
          "metadata": {
            "tags": null
          },
          "name": "stdout",
          "output_type": "stream",
          "text": [
            "Epoch 34 | Loss: 0.1302\n"
          ]
        },
        {
          "metadata": {
            "tags": null
          },
          "name": "stderr",
          "output_type": "stream",
          "text": [
            "\r 35%|███▌      | 35/99 [00:31<00:46,  1.37it/s]"
          ]
        },
        {
          "metadata": {
            "tags": null
          },
          "name": "stdout",
          "output_type": "stream",
          "text": [
            "Epoch 35 | Loss: 0.1286\n"
          ]
        },
        {
          "metadata": {
            "tags": null
          },
          "name": "stderr",
          "output_type": "stream",
          "text": [
            "\r 36%|███▋      | 36/99 [00:31<00:45,  1.37it/s]"
          ]
        },
        {
          "metadata": {
            "tags": null
          },
          "name": "stdout",
          "output_type": "stream",
          "text": [
            "Epoch 36 | Loss: 0.1262\n"
          ]
        },
        {
          "metadata": {
            "tags": null
          },
          "name": "stderr",
          "output_type": "stream",
          "text": [
            "\r 37%|███▋      | 37/99 [00:32<00:45,  1.36it/s]"
          ]
        },
        {
          "metadata": {
            "tags": null
          },
          "name": "stdout",
          "output_type": "stream",
          "text": [
            "Epoch 37 | Loss: 0.1232\n"
          ]
        },
        {
          "metadata": {
            "tags": null
          },
          "name": "stderr",
          "output_type": "stream",
          "text": [
            "\r 38%|███▊      | 38/99 [00:33<00:45,  1.35it/s]"
          ]
        },
        {
          "metadata": {
            "tags": null
          },
          "name": "stdout",
          "output_type": "stream",
          "text": [
            "Epoch 38 | Loss: 0.1200\n"
          ]
        },
        {
          "metadata": {
            "tags": null
          },
          "name": "stderr",
          "output_type": "stream",
          "text": [
            "\r 39%|███▉      | 39/99 [00:34<00:45,  1.32it/s]"
          ]
        },
        {
          "metadata": {
            "tags": null
          },
          "name": "stdout",
          "output_type": "stream",
          "text": [
            "Epoch 39 | Loss: 0.1167\n"
          ]
        },
        {
          "metadata": {
            "tags": null
          },
          "name": "stderr",
          "output_type": "stream",
          "text": [
            "\r 40%|████      | 40/99 [00:36<01:14,  1.26s/it]"
          ]
        },
        {
          "metadata": {
            "tags": null
          },
          "name": "stdout",
          "output_type": "stream",
          "text": [
            "Epoch 40 | Loss: 0.1136\n"
          ]
        },
        {
          "metadata": {
            "tags": null
          },
          "name": "stderr",
          "output_type": "stream",
          "text": [
            "\r 41%|████▏     | 41/99 [00:38<01:21,  1.41s/it]"
          ]
        },
        {
          "metadata": {
            "tags": null
          },
          "name": "stdout",
          "output_type": "stream",
          "text": [
            "Epoch 41 | Loss: 0.1106\n"
          ]
        },
        {
          "metadata": {
            "tags": null
          },
          "name": "stderr",
          "output_type": "stream",
          "text": [
            "\r 42%|████▏     | 42/99 [00:39<01:20,  1.40s/it]"
          ]
        },
        {
          "metadata": {
            "tags": null
          },
          "name": "stdout",
          "output_type": "stream",
          "text": [
            "Epoch 42 | Loss: 0.1078\n"
          ]
        },
        {
          "metadata": {
            "tags": null
          },
          "name": "stderr",
          "output_type": "stream",
          "text": [
            "\r 43%|████▎     | 43/99 [00:40<01:11,  1.28s/it]"
          ]
        },
        {
          "metadata": {
            "tags": null
          },
          "name": "stdout",
          "output_type": "stream",
          "text": [
            "Epoch 43 | Loss: 0.1053\n"
          ]
        },
        {
          "metadata": {
            "tags": null
          },
          "name": "stderr",
          "output_type": "stream",
          "text": [
            "\r 44%|████▍     | 44/99 [00:42<01:12,  1.32s/it]"
          ]
        },
        {
          "metadata": {
            "tags": null
          },
          "name": "stdout",
          "output_type": "stream",
          "text": [
            "Epoch 44 | Loss: 0.1028\n"
          ]
        },
        {
          "metadata": {
            "tags": null
          },
          "name": "stderr",
          "output_type": "stream",
          "text": [
            "\r 45%|████▌     | 45/99 [00:43<01:13,  1.36s/it]"
          ]
        },
        {
          "metadata": {
            "tags": null
          },
          "name": "stdout",
          "output_type": "stream",
          "text": [
            "Epoch 45 | Loss: 0.1006\n"
          ]
        },
        {
          "metadata": {
            "tags": null
          },
          "name": "stderr",
          "output_type": "stream",
          "text": [
            "\r 46%|████▋     | 46/99 [00:44<01:08,  1.30s/it]"
          ]
        },
        {
          "metadata": {
            "tags": null
          },
          "name": "stdout",
          "output_type": "stream",
          "text": [
            "Epoch 46 | Loss: 0.0985\n"
          ]
        },
        {
          "metadata": {
            "tags": null
          },
          "name": "stderr",
          "output_type": "stream",
          "text": [
            "\r 47%|████▋     | 47/99 [00:46<01:11,  1.37s/it]"
          ]
        },
        {
          "metadata": {
            "tags": null
          },
          "name": "stdout",
          "output_type": "stream",
          "text": [
            "Epoch 47 | Loss: 0.0965\n"
          ]
        },
        {
          "metadata": {
            "tags": null
          },
          "name": "stderr",
          "output_type": "stream",
          "text": [
            "\r 48%|████▊     | 48/99 [00:47<01:04,  1.26s/it]"
          ]
        },
        {
          "metadata": {
            "tags": null
          },
          "name": "stdout",
          "output_type": "stream",
          "text": [
            "Epoch 48 | Loss: 0.0947\n"
          ]
        },
        {
          "metadata": {
            "tags": null
          },
          "name": "stderr",
          "output_type": "stream",
          "text": [
            "\r 49%|████▉     | 49/99 [00:48<01:03,  1.28s/it]"
          ]
        },
        {
          "metadata": {
            "tags": null
          },
          "name": "stdout",
          "output_type": "stream",
          "text": [
            "Epoch 49 | Loss: 0.0930\n"
          ]
        },
        {
          "metadata": {
            "tags": null
          },
          "name": "stderr",
          "output_type": "stream",
          "text": [
            "\r 51%|█████     | 50/99 [00:50<01:12,  1.48s/it]"
          ]
        },
        {
          "metadata": {
            "tags": null
          },
          "name": "stdout",
          "output_type": "stream",
          "text": [
            "Epoch 50 | Loss: 0.0916\n"
          ]
        },
        {
          "metadata": {
            "tags": null
          },
          "name": "stderr",
          "output_type": "stream",
          "text": [
            "\r 52%|█████▏    | 51/99 [00:51<01:07,  1.40s/it]"
          ]
        },
        {
          "metadata": {
            "tags": null
          },
          "name": "stdout",
          "output_type": "stream",
          "text": [
            "Epoch 51 | Loss: 0.0902\n"
          ]
        },
        {
          "metadata": {
            "tags": null
          },
          "name": "stderr",
          "output_type": "stream",
          "text": [
            "\r 53%|█████▎    | 52/99 [00:53<01:15,  1.60s/it]"
          ]
        },
        {
          "metadata": {
            "tags": null
          },
          "name": "stdout",
          "output_type": "stream",
          "text": [
            "Epoch 52 | Loss: 0.0888\n"
          ]
        },
        {
          "metadata": {
            "tags": null
          },
          "name": "stderr",
          "output_type": "stream",
          "text": [
            "\r 54%|█████▎    | 53/99 [00:55<01:13,  1.60s/it]"
          ]
        },
        {
          "metadata": {
            "tags": null
          },
          "name": "stdout",
          "output_type": "stream",
          "text": [
            "Epoch 53 | Loss: 0.0874\n"
          ]
        },
        {
          "metadata": {
            "tags": null
          },
          "name": "stderr",
          "output_type": "stream",
          "text": [
            "\r 55%|█████▍    | 54/99 [00:56<01:05,  1.45s/it]"
          ]
        },
        {
          "metadata": {
            "tags": null
          },
          "name": "stdout",
          "output_type": "stream",
          "text": [
            "Epoch 54 | Loss: 0.0860\n"
          ]
        },
        {
          "metadata": {
            "tags": null
          },
          "name": "stderr",
          "output_type": "stream",
          "text": [
            "\r 56%|█████▌    | 55/99 [00:57<00:55,  1.26s/it]"
          ]
        },
        {
          "metadata": {
            "tags": null
          },
          "name": "stdout",
          "output_type": "stream",
          "text": [
            "Epoch 55 | Loss: 0.0846\n"
          ]
        },
        {
          "metadata": {
            "tags": null
          },
          "name": "stderr",
          "output_type": "stream",
          "text": [
            "\r 57%|█████▋    | 56/99 [00:58<00:47,  1.10s/it]"
          ]
        },
        {
          "metadata": {
            "tags": null
          },
          "name": "stdout",
          "output_type": "stream",
          "text": [
            "Epoch 56 | Loss: 0.0832\n"
          ]
        },
        {
          "metadata": {
            "tags": null
          },
          "name": "stderr",
          "output_type": "stream",
          "text": [
            "\r 58%|█████▊    | 57/99 [00:58<00:41,  1.02it/s]"
          ]
        },
        {
          "metadata": {
            "tags": null
          },
          "name": "stdout",
          "output_type": "stream",
          "text": [
            "Epoch 57 | Loss: 0.0820\n"
          ]
        },
        {
          "metadata": {
            "tags": null
          },
          "name": "stderr",
          "output_type": "stream",
          "text": [
            "\r 59%|█████▊    | 58/99 [00:59<00:41,  1.01s/it]"
          ]
        },
        {
          "metadata": {
            "tags": null
          },
          "name": "stdout",
          "output_type": "stream",
          "text": [
            "Epoch 58 | Loss: 0.0808\n"
          ]
        },
        {
          "metadata": {
            "tags": null
          },
          "name": "stderr",
          "output_type": "stream",
          "text": [
            "\r 60%|█████▉    | 59/99 [01:00<00:37,  1.08it/s]"
          ]
        },
        {
          "metadata": {
            "tags": null
          },
          "name": "stdout",
          "output_type": "stream",
          "text": [
            "Epoch 59 | Loss: 0.0796\n"
          ]
        },
        {
          "metadata": {
            "tags": null
          },
          "name": "stderr",
          "output_type": "stream",
          "text": [
            "\r 61%|██████    | 60/99 [01:01<00:34,  1.14it/s]"
          ]
        },
        {
          "metadata": {
            "tags": null
          },
          "name": "stdout",
          "output_type": "stream",
          "text": [
            "Epoch 60 | Loss: 0.0786\n"
          ]
        },
        {
          "metadata": {
            "tags": null
          },
          "name": "stderr",
          "output_type": "stream",
          "text": [
            "\r 62%|██████▏   | 61/99 [01:02<00:31,  1.21it/s]"
          ]
        },
        {
          "metadata": {
            "tags": null
          },
          "name": "stdout",
          "output_type": "stream",
          "text": [
            "Epoch 61 | Loss: 0.0775\n"
          ]
        },
        {
          "metadata": {
            "tags": null
          },
          "name": "stderr",
          "output_type": "stream",
          "text": [
            "\r 63%|██████▎   | 62/99 [01:02<00:29,  1.23it/s]"
          ]
        },
        {
          "metadata": {
            "tags": null
          },
          "name": "stdout",
          "output_type": "stream",
          "text": [
            "Epoch 62 | Loss: 0.0765\n"
          ]
        },
        {
          "metadata": {
            "tags": null
          },
          "name": "stderr",
          "output_type": "stream",
          "text": [
            "\r 64%|██████▎   | 63/99 [01:03<00:30,  1.17it/s]"
          ]
        },
        {
          "metadata": {
            "tags": null
          },
          "name": "stdout",
          "output_type": "stream",
          "text": [
            "Epoch 63 | Loss: 0.0754\n"
          ]
        },
        {
          "metadata": {
            "tags": null
          },
          "name": "stderr",
          "output_type": "stream",
          "text": [
            "\r 65%|██████▍   | 64/99 [01:04<00:30,  1.14it/s]"
          ]
        },
        {
          "metadata": {
            "tags": null
          },
          "name": "stdout",
          "output_type": "stream",
          "text": [
            "Epoch 64 | Loss: 0.0744\n"
          ]
        },
        {
          "metadata": {
            "tags": null
          },
          "name": "stderr",
          "output_type": "stream",
          "text": [
            "\r 66%|██████▌   | 65/99 [01:06<00:37,  1.11s/it]"
          ]
        },
        {
          "metadata": {
            "tags": null
          },
          "name": "stdout",
          "output_type": "stream",
          "text": [
            "Epoch 65 | Loss: 0.0735\n"
          ]
        },
        {
          "output_type": "stream",
          "name": "stderr",
          "text": [
            "\r 67%|██████▋   | 66/99 [01:07<00:33,  1.01s/it]"
          ]
        },
        {
          "output_type": "stream",
          "name": "stdout",
          "text": [
            "Epoch 66 | Loss: 0.0725\n"
          ]
        },
        {
          "output_type": "stream",
          "name": "stderr",
          "text": [
            "\r 68%|██████▊   | 67/99 [01:07<00:29,  1.08it/s]"
          ]
        },
        {
          "output_type": "stream",
          "name": "stdout",
          "text": [
            "Epoch 67 | Loss: 0.0716\n"
          ]
        },
        {
          "output_type": "stream",
          "name": "stderr",
          "text": [
            "\r 69%|██████▊   | 68/99 [01:08<00:26,  1.16it/s]"
          ]
        },
        {
          "output_type": "stream",
          "name": "stdout",
          "text": [
            "Epoch 68 | Loss: 0.0706\n"
          ]
        },
        {
          "output_type": "stream",
          "name": "stderr",
          "text": [
            "\r 70%|██████▉   | 69/99 [01:09<00:24,  1.22it/s]"
          ]
        },
        {
          "output_type": "stream",
          "name": "stdout",
          "text": [
            "Epoch 69 | Loss: 0.0697\n"
          ]
        },
        {
          "output_type": "stream",
          "name": "stderr",
          "text": [
            "\r 71%|███████   | 70/99 [01:10<00:23,  1.25it/s]"
          ]
        },
        {
          "output_type": "stream",
          "name": "stdout",
          "text": [
            "Epoch 70 | Loss: 0.0688\n"
          ]
        },
        {
          "output_type": "stream",
          "name": "stderr",
          "text": [
            "\r 72%|███████▏  | 71/99 [01:10<00:21,  1.29it/s]"
          ]
        },
        {
          "output_type": "stream",
          "name": "stdout",
          "text": [
            "Epoch 71 | Loss: 0.0679\n"
          ]
        },
        {
          "output_type": "stream",
          "name": "stderr",
          "text": [
            "\r 73%|███████▎  | 72/99 [01:11<00:20,  1.32it/s]"
          ]
        },
        {
          "output_type": "stream",
          "name": "stdout",
          "text": [
            "Epoch 72 | Loss: 0.0670\n"
          ]
        },
        {
          "output_type": "stream",
          "name": "stderr",
          "text": [
            "\r 74%|███████▎  | 73/99 [01:12<00:19,  1.34it/s]"
          ]
        },
        {
          "output_type": "stream",
          "name": "stdout",
          "text": [
            "Epoch 73 | Loss: 0.0662\n"
          ]
        },
        {
          "output_type": "stream",
          "name": "stderr",
          "text": [
            "\r 75%|███████▍  | 74/99 [01:12<00:18,  1.36it/s]"
          ]
        },
        {
          "output_type": "stream",
          "name": "stdout",
          "text": [
            "Epoch 74 | Loss: 0.0654\n"
          ]
        },
        {
          "output_type": "stream",
          "name": "stderr",
          "text": [
            "\r 76%|███████▌  | 75/99 [01:13<00:17,  1.38it/s]"
          ]
        },
        {
          "output_type": "stream",
          "name": "stdout",
          "text": [
            "Epoch 75 | Loss: 0.0646\n"
          ]
        },
        {
          "output_type": "stream",
          "name": "stderr",
          "text": [
            "\r 77%|███████▋  | 76/99 [01:14<00:16,  1.39it/s]"
          ]
        },
        {
          "output_type": "stream",
          "name": "stdout",
          "text": [
            "Epoch 76 | Loss: 0.0638\n"
          ]
        },
        {
          "output_type": "stream",
          "name": "stderr",
          "text": [
            "\r 78%|███████▊  | 77/99 [01:14<00:15,  1.40it/s]"
          ]
        },
        {
          "output_type": "stream",
          "name": "stdout",
          "text": [
            "Epoch 77 | Loss: 0.0630\n"
          ]
        },
        {
          "output_type": "stream",
          "name": "stderr",
          "text": [
            "\r 79%|███████▉  | 78/99 [01:15<00:14,  1.40it/s]"
          ]
        },
        {
          "output_type": "stream",
          "name": "stdout",
          "text": [
            "Epoch 78 | Loss: 0.0622\n"
          ]
        },
        {
          "output_type": "stream",
          "name": "stderr",
          "text": [
            "\r 80%|███████▉  | 79/99 [01:16<00:14,  1.41it/s]"
          ]
        },
        {
          "output_type": "stream",
          "name": "stdout",
          "text": [
            "Epoch 79 | Loss: 0.0615\n"
          ]
        },
        {
          "output_type": "stream",
          "name": "stderr",
          "text": [
            "\r 81%|████████  | 80/99 [01:17<00:14,  1.30it/s]"
          ]
        },
        {
          "output_type": "stream",
          "name": "stdout",
          "text": [
            "Epoch 80 | Loss: 0.0607\n"
          ]
        },
        {
          "output_type": "stream",
          "name": "stderr",
          "text": [
            "\r 82%|████████▏ | 81/99 [01:18<00:14,  1.23it/s]"
          ]
        },
        {
          "output_type": "stream",
          "name": "stdout",
          "text": [
            "Epoch 81 | Loss: 0.0600\n"
          ]
        },
        {
          "output_type": "stream",
          "name": "stderr",
          "text": [
            "\r 83%|████████▎ | 82/99 [01:19<00:14,  1.16it/s]"
          ]
        },
        {
          "output_type": "stream",
          "name": "stdout",
          "text": [
            "Epoch 82 | Loss: 0.0594\n"
          ]
        },
        {
          "output_type": "stream",
          "name": "stderr",
          "text": [
            "\r 84%|████████▍ | 83/99 [01:20<00:14,  1.08it/s]"
          ]
        },
        {
          "output_type": "stream",
          "name": "stdout",
          "text": [
            "Epoch 83 | Loss: 0.0587\n"
          ]
        },
        {
          "output_type": "stream",
          "name": "stderr",
          "text": [
            "\r 85%|████████▍ | 84/99 [01:21<00:12,  1.15it/s]"
          ]
        },
        {
          "output_type": "stream",
          "name": "stdout",
          "text": [
            "Epoch 84 | Loss: 0.0580\n"
          ]
        },
        {
          "output_type": "stream",
          "name": "stderr",
          "text": [
            "\r 86%|████████▌ | 85/99 [01:21<00:11,  1.21it/s]"
          ]
        },
        {
          "output_type": "stream",
          "name": "stdout",
          "text": [
            "Epoch 85 | Loss: 0.0574\n"
          ]
        },
        {
          "output_type": "stream",
          "name": "stderr",
          "text": [
            "\r 87%|████████▋ | 86/99 [01:22<00:10,  1.24it/s]"
          ]
        },
        {
          "output_type": "stream",
          "name": "stdout",
          "text": [
            "Epoch 86 | Loss: 0.0567\n"
          ]
        },
        {
          "output_type": "stream",
          "name": "stderr",
          "text": [
            "\r 88%|████████▊ | 87/99 [01:23<00:09,  1.29it/s]"
          ]
        },
        {
          "output_type": "stream",
          "name": "stdout",
          "text": [
            "Epoch 87 | Loss: 0.0561\n"
          ]
        },
        {
          "output_type": "stream",
          "name": "stderr",
          "text": [
            "\r 89%|████████▉ | 88/99 [01:23<00:08,  1.31it/s]"
          ]
        },
        {
          "output_type": "stream",
          "name": "stdout",
          "text": [
            "Epoch 88 | Loss: 0.0555\n"
          ]
        },
        {
          "output_type": "stream",
          "name": "stderr",
          "text": [
            "\r 90%|████████▉ | 89/99 [01:24<00:07,  1.34it/s]"
          ]
        },
        {
          "output_type": "stream",
          "name": "stdout",
          "text": [
            "Epoch 89 | Loss: 0.0549\n"
          ]
        },
        {
          "output_type": "stream",
          "name": "stderr",
          "text": [
            "\r 91%|█████████ | 90/99 [01:25<00:06,  1.37it/s]"
          ]
        },
        {
          "output_type": "stream",
          "name": "stdout",
          "text": [
            "Epoch 90 | Loss: 0.0543\n"
          ]
        },
        {
          "output_type": "stream",
          "name": "stderr",
          "text": [
            "\r 92%|█████████▏| 91/99 [01:26<00:05,  1.39it/s]"
          ]
        },
        {
          "output_type": "stream",
          "name": "stdout",
          "text": [
            "Epoch 91 | Loss: 0.0537\n"
          ]
        },
        {
          "output_type": "stream",
          "name": "stderr",
          "text": [
            "\r 93%|█████████▎| 92/99 [01:26<00:05,  1.39it/s]"
          ]
        },
        {
          "output_type": "stream",
          "name": "stdout",
          "text": [
            "Epoch 92 | Loss: 0.0531\n"
          ]
        },
        {
          "output_type": "stream",
          "name": "stderr",
          "text": [
            "\r 94%|█████████▍| 93/99 [01:27<00:04,  1.42it/s]"
          ]
        },
        {
          "output_type": "stream",
          "name": "stdout",
          "text": [
            "Epoch 93 | Loss: 0.0525\n"
          ]
        },
        {
          "output_type": "stream",
          "name": "stderr",
          "text": [
            "\r 95%|█████████▍| 94/99 [01:28<00:03,  1.43it/s]"
          ]
        },
        {
          "output_type": "stream",
          "name": "stdout",
          "text": [
            "Epoch 94 | Loss: 0.0520\n"
          ]
        },
        {
          "output_type": "stream",
          "name": "stderr",
          "text": [
            "\r 96%|█████████▌| 95/99 [01:28<00:02,  1.43it/s]"
          ]
        },
        {
          "output_type": "stream",
          "name": "stdout",
          "text": [
            "Epoch 95 | Loss: 0.0514\n"
          ]
        },
        {
          "output_type": "stream",
          "name": "stderr",
          "text": [
            "\r 97%|█████████▋| 96/99 [01:29<00:02,  1.44it/s]"
          ]
        },
        {
          "output_type": "stream",
          "name": "stdout",
          "text": [
            "Epoch 96 | Loss: 0.0509\n"
          ]
        },
        {
          "output_type": "stream",
          "name": "stderr",
          "text": [
            "\r 98%|█████████▊| 97/99 [01:30<00:01,  1.43it/s]"
          ]
        },
        {
          "output_type": "stream",
          "name": "stdout",
          "text": [
            "Epoch 97 | Loss: 0.0504\n"
          ]
        },
        {
          "output_type": "stream",
          "name": "stderr",
          "text": [
            "\r 99%|█████████▉| 98/99 [01:31<00:00,  1.00it/s]"
          ]
        },
        {
          "output_type": "stream",
          "name": "stdout",
          "text": [
            "Epoch 98 | Loss: 0.0498\n"
          ]
        },
        {
          "output_type": "stream",
          "name": "stderr",
          "text": [
            "100%|██████████| 99/99 [01:32<00:00,  1.06it/s]"
          ]
        },
        {
          "output_type": "stream",
          "name": "stdout",
          "text": [
            "Epoch 99 | Loss: 0.0493\n"
          ]
        },
        {
          "output_type": "stream",
          "name": "stderr",
          "text": [
            "\n"
          ]
        }
      ]
    },
    {
      "cell_type": "code",
      "source": [
        "z.shape"
      ],
      "metadata": {
        "id": "eVXpf8TcjI_S",
        "colab": {
          "base_uri": "https://localhost:8080/"
        },
        "outputId": "56709da3-be8f-4e2f-c61f-ddd37677aa40"
      },
      "execution_count": null,
      "outputs": [
        {
          "output_type": "execute_result",
          "data": {
            "text/plain": [
              "torch.Size([13147, 64])"
            ]
          },
          "metadata": {},
          "execution_count": 35
        }
      ]
    },
    {
      "cell_type": "code",
      "source": [
        "test_pos_index.shape"
      ],
      "metadata": {
        "id": "dglEkE-dkXi_",
        "colab": {
          "base_uri": "https://localhost:8080/"
        },
        "outputId": "22166bb1-30e4-4cb1-ada2-46376a01c291"
      },
      "execution_count": null,
      "outputs": [
        {
          "output_type": "execute_result",
          "data": {
            "text/plain": [
              "torch.Size([2, 14074])"
            ]
          },
          "metadata": {},
          "execution_count": 36
        }
      ]
    },
    {
      "cell_type": "code",
      "source": [
        "z[test_pos_index[0]].shape"
      ],
      "metadata": {
        "id": "UPiximYmkjCL",
        "colab": {
          "base_uri": "https://localhost:8080/"
        },
        "outputId": "6f7fcc83-27cf-4fe9-bdec-0130e44f2322"
      },
      "execution_count": null,
      "outputs": [
        {
          "output_type": "execute_result",
          "data": {
            "text/plain": [
              "torch.Size([14074, 64])"
            ]
          },
          "metadata": {},
          "execution_count": 37
        }
      ]
    },
    {
      "cell_type": "code",
      "source": [
        "z[test_pos_index[1]].shape"
      ],
      "metadata": {
        "id": "RV1WGS8qkoR9",
        "colab": {
          "base_uri": "https://localhost:8080/"
        },
        "outputId": "f70bf73a-dd2d-43a2-d671-6b7e0782d545"
      },
      "execution_count": null,
      "outputs": [
        {
          "output_type": "execute_result",
          "data": {
            "text/plain": [
              "torch.Size([14074, 64])"
            ]
          },
          "metadata": {},
          "execution_count": 38
        }
      ]
    },
    {
      "cell_type": "code",
      "source": [
        "test_pos_index[0]"
      ],
      "metadata": {
        "id": "PMadA0nlkvv4",
        "colab": {
          "base_uri": "https://localhost:8080/"
        },
        "outputId": "c234de92-2854-4f07-9a96-f0f5cb152de1"
      },
      "execution_count": null,
      "outputs": [
        {
          "output_type": "execute_result",
          "data": {
            "text/plain": [
              "tensor([1225,   98, 3028,  ..., 1935, 3589, 1600])"
            ]
          },
          "metadata": {},
          "execution_count": 39
        }
      ]
    },
    {
      "cell_type": "code",
      "source": [
        "z[test_pos_index[0]]"
      ],
      "metadata": {
        "id": "WNbmOG02k2Yv",
        "colab": {
          "base_uri": "https://localhost:8080/"
        },
        "outputId": "5f73591a-4651-4efa-fef9-473c720061af"
      },
      "execution_count": null,
      "outputs": [
        {
          "output_type": "execute_result",
          "data": {
            "text/plain": [
              "tensor([[-1.2999, -0.7440,  0.8291,  ...,  0.1555,  0.8075, -0.8729],\n",
              "        [-0.2890,  0.0135,  0.1099,  ..., -0.3753,  0.0885,  0.1021],\n",
              "        [-1.1152, -0.6362,  0.7079,  ...,  0.1415,  0.6902, -0.7470],\n",
              "        ...,\n",
              "        [ 0.0790, -0.0243, -0.1490,  ..., -0.2913, -0.1849,  0.2303],\n",
              "        [-1.2247, -0.6994,  0.7812,  ...,  0.1501,  0.7617, -0.8246],\n",
              "        [-1.3012, -0.7372,  0.8233,  ...,  0.1386,  0.8011, -0.8598]],\n",
              "       grad_fn=<IndexBackward0>)"
            ]
          },
          "metadata": {},
          "execution_count": 40
        }
      ]
    },
    {
      "cell_type": "code",
      "source": [
        "pos_out.shape, neg_out.shape, out.shape"
      ],
      "metadata": {
        "id": "Rb2SUI8Ek8Vi",
        "colab": {
          "base_uri": "https://localhost:8080/"
        },
        "outputId": "1f74a2ec-084d-4c47-f6ef-9ece1deb24b7"
      },
      "execution_count": null,
      "outputs": [
        {
          "output_type": "execute_result",
          "data": {
            "text/plain": [
              "(torch.Size([56293]), torch.Size([28146]), torch.Size([84439]))"
            ]
          },
          "metadata": {},
          "execution_count": 41
        }
      ]
    },
    {
      "cell_type": "markdown",
      "source": [
        "We now prepare the evaluation metrics for the project"
      ],
      "metadata": {
        "id": "3qWCVZAFnTia"
      }
    },
    {
      "cell_type": "code",
      "source": [
        "model.eval()\n",
        "with torch.no_grad():\n",
        "    z = model(data.x, data.edge_index)\n",
        "    pos_pred = torch.sigmoid(decode(z, test_pos_index)).numpy()\n",
        "    neg_pred = torch.sigmoid(decode(z, test_neg_index)).numpy()\n",
        "\n",
        "y_true = [1]*len(pos_pred) + [0]*len(neg_pred)\n",
        "y_score = list(pos_pred) + list(neg_pred)\n",
        "\n",
        "auc = roc_auc_score(y_true, y_score)\n",
        "ap = average_precision_score(y_true, y_score)\n",
        "print(f\"AUC: {auc:.4f}, Average Precision: {ap:.4f}\")"
      ],
      "metadata": {
        "id": "A0YQ1BdenCYX",
        "colab": {
          "base_uri": "https://localhost:8080/"
        },
        "outputId": "a68d0ccf-7634-46fa-af4a-aaeec93a3e1a"
      },
      "execution_count": null,
      "outputs": [
        {
          "output_type": "stream",
          "name": "stdout",
          "text": [
            "AUC: 0.9765, Average Precision: 0.9763\n"
          ]
        }
      ]
    },
    {
      "cell_type": "code",
      "source": [
        "fpr, tpr, _ = roc_curve(y_true, y_score)\n",
        "\n",
        "plt.figure(figsize=(5, 5))\n",
        "plt.plot(fpr, tpr, linewidth=2,\n",
        "         label=f\"ROC curve  (AUC = {auc:.4f})\")\n",
        "plt.plot([0, 1], [0, 1], linestyle=\"--\", label=\"Chance\")\n",
        "plt.xlabel(\"False Positive Rate\")\n",
        "plt.ylabel(\"True Positive Rate\")\n",
        "plt.title(\"Receiver Operating Characteristic\")\n",
        "plt.legend(loc=\"lower right\")\n",
        "plt.grid(alpha=0.3)\n",
        "plt.tight_layout()"
      ],
      "metadata": {
        "id": "49BXHyq5lbCG",
        "colab": {
          "base_uri": "https://localhost:8080/",
          "height": 507
        },
        "outputId": "930e0d86-2c7c-4ed2-e053-43c869928de5"
      },
      "execution_count": 62,
      "outputs": [
        {
          "output_type": "display_data",
          "data": {
            "text/plain": [
              "<Figure size 500x500 with 1 Axes>"
            ],
            "image/png": "[encoded data removed]"
          },
          "metadata": {}
        }
      ]
    },
    {
      "cell_type": "markdown",
      "source": [
        "The loop prints the first 30 test-set positive edges, converting their integer node IDs back into the original GlobalId -> ProcessCapability pairs so we can verify what real relationships the model will be asked to predict."
      ],
      "metadata": {
        "id": "FrScO-BpnlQj"
      }
    },
    {
      "cell_type": "code",
      "source": [
        "for i in range(30):\n",
        "    u, v = test_pos_edges[i]\n",
        "    print(le_gid.inverse_transform([u])[0], '-->', le_cap.inverse_transform([v - len(le_gid.classes_)])[0])\n"
      ],
      "metadata": {
        "id": "CISjObEQn1Xr"
      },
      "execution_count": null,
      "outputs": []
    },
    {
      "cell_type": "markdown",
      "source": [
        "Graph Visualization"
      ],
      "metadata": {
        "id": "jQU0KiTz4Fzy"
      }
    },
    {
      "cell_type": "code",
      "source": [
        "edge_df"
      ],
      "metadata": {
        "id": "NpJnF4yD4FEd"
      },
      "execution_count": null,
      "outputs": []
    },
    {
      "cell_type": "code",
      "source": [
        "edge_df['GlobalId'] = edge_df['GlobalId'].apply(lambda x: ast.literal_eval(x)[0])\n",
        "edge_df"
      ],
      "metadata": {
        "id": "ghBol4DlIdy2"
      },
      "execution_count": null,
      "outputs": []
    },
    {
      "cell_type": "code",
      "source": [
        "edge_df['Source Color'] = '#def6ee'\n",
        "edge_df['Destination Color'] = '#4bd738'\n",
        "edge_df"
      ],
      "metadata": {
        "id": "pu3KxAbGKd_4"
      },
      "execution_count": null,
      "outputs": []
    },
    {
      "cell_type": "code",
      "source": [
        "edge_df.rename(\n",
        "    columns = {\n",
        "        'GlobalId': 'Source',\n",
        "        'ProcessCapability': 'Destination'\n",
        "    },\n",
        "    inplace = True\n",
        ")\n",
        "edge_df"
      ],
      "metadata": {
        "id": "erNE-LP8KzH1"
      },
      "execution_count": null,
      "outputs": []
    },
    {
      "cell_type": "code",
      "source": [
        "source_nodes = edge_df[['Source']].drop_duplicates().rename(columns={'Source': 'node'})\n",
        "source_nodes['type'] = 'Source'\n",
        "\n",
        "destination_nodes = edge_df[['Destination']].drop_duplicates().rename(columns={'Destination': 'node'})\n",
        "destination_nodes['type'] = 'Destination'\n",
        "\n",
        "node_df = pd.concat([source_nodes, destination_nodes], ignore_index=True)\n",
        "node_df"
      ],
      "metadata": {
        "id": "AkJBxjE4ME1R"
      },
      "execution_count": null,
      "outputs": []
    },
    {
      "cell_type": "code",
      "source": [
        "!pip install graphistry\n",
        "import graphistry"
      ],
      "metadata": {
        "id": "zX6kAMdkGUtV"
      },
      "execution_count": null,
      "outputs": []
    },
    {
      "cell_type": "code",
      "source": [
        "import pandas as pd\n",
        "import graphistry\n",
        "\n",
        "graphistry.register(api=3, server='hub.graphistry.com', username='jjvyas', password='Jinal@4502')\n",
        "\n",
        "g = graphistry.edges(edge_df, source=\"Source\", destination=\"Destination\") \\\n",
        "    .nodes(node_df, node=\"node\") \\\n",
        "    .bind(node=\"node\") \\\n",
        "    .encode_point_color(\"type\", categorical_mapping={'Source': 'orange', 'Destination': 'blue'}, as_categorical=True) \\\n"
      ],
      "metadata": {
        "id": "m1FByVy-Edd1"
      },
      "execution_count": null,
      "outputs": []
    },
    {
      "cell_type": "code",
      "source": [
        "g.plot()"
      ],
      "metadata": {
        "id": "ilzrWqi-Edgu"
      },
      "execution_count": null,
      "outputs": []
    },
    {
      "cell_type": "code",
      "source": [],
      "metadata": {
        "id": "bI-wSyGhEdjg"
      },
      "execution_count": null,
      "outputs": []
    }
  ]
}